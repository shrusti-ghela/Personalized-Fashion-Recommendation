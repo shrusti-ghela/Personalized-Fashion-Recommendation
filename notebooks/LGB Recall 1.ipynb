{
  "cells": [
    {
      "cell_type": "code",
      "execution_count": null,
      "metadata": {
        "colab": {
          "base_uri": "https://localhost:8080/"
        },
        "id": "Ej-kIjP5d_zw",
        "outputId": "5a6da2ba-33b9-4c64-c3e9-095d8506a867"
      },
      "outputs": [
        {
          "name": "stdout",
          "output_type": "stream",
          "text": [
            "Requirement already satisfied: lightgbm==3.3.2 in /usr/local/lib/python3.7/dist-packages (3.3.2)\n",
            "Requirement already satisfied: wheel in /usr/local/lib/python3.7/dist-packages (from lightgbm==3.3.2) (0.37.1)\n",
            "Requirement already satisfied: numpy in /usr/local/lib/python3.7/dist-packages (from lightgbm==3.3.2) (1.21.6)\n",
            "Requirement already satisfied: scikit-learn!=0.22.0 in /usr/local/lib/python3.7/dist-packages (from lightgbm==3.3.2) (1.0.2)\n",
            "Requirement already satisfied: scipy in /usr/local/lib/python3.7/dist-packages (from lightgbm==3.3.2) (1.4.1)\n",
            "Requirement already satisfied: threadpoolctl>=2.0.0 in /usr/local/lib/python3.7/dist-packages (from scikit-learn!=0.22.0->lightgbm==3.3.2) (3.1.0)\n",
            "Requirement already satisfied: joblib>=0.11 in /usr/local/lib/python3.7/dist-packages (from scikit-learn!=0.22.0->lightgbm==3.3.2) (1.1.0)\n"
          ]
        }
      ],
      "source": [
        "%pip install -U lightgbm==3.3.2"
      ]
    },
    {
      "cell_type": "code",
      "execution_count": null,
      "metadata": {
        "colab": {
          "base_uri": "https://localhost:8080/"
        },
        "id": "yVREKx6JJqx1",
        "outputId": "e26309d5-f064-436b-dc51-90cab3172698"
      },
      "outputs": [
        {
          "name": "stdout",
          "output_type": "stream",
          "text": [
            "Requirement already satisfied: implicit in /usr/local/lib/python3.7/dist-packages (0.5.2)\n",
            "Requirement already satisfied: scipy>=0.16 in /usr/local/lib/python3.7/dist-packages (from implicit) (1.4.1)\n",
            "Requirement already satisfied: tqdm>=4.27 in /usr/local/lib/python3.7/dist-packages (from implicit) (4.64.0)\n",
            "Requirement already satisfied: numpy in /usr/local/lib/python3.7/dist-packages (from implicit) (1.21.6)\n"
          ]
        }
      ],
      "source": [
        "%pip install implicit"
      ]
    },
    {
      "cell_type": "code",
      "execution_count": null,
      "metadata": {
        "colab": {
          "base_uri": "https://localhost:8080/"
        },
        "id": "Iq3oG1iwJan4",
        "outputId": "5f7e9ba8-2e7d-4246-f23b-b2575af3a9d6"
      },
      "outputs": [
        {
          "name": "stdout",
          "output_type": "stream",
          "text": [
            "Drive already mounted at /content/drive; to attempt to forcibly remount, call drive.mount(\"/content/drive\", force_remount=True).\n"
          ]
        }
      ],
      "source": [
        "from google.colab import drive\n",
        "drive.mount('/content/drive')"
      ]
    },
    {
      "cell_type": "code",
      "execution_count": null,
      "metadata": {
        "id": "gboISq82XUN1"
      },
      "outputs": [],
      "source": [
        "import pandas as pd\n",
        "from pandas.api.types import CategoricalDtype\n",
        "import numpy as np\n",
        "import seaborn as sns\n",
        "import matplotlib.pyplot as plt\n",
        "import lightgbm as lgb\n",
        "\n",
        "import pickle\n",
        "from tqdm import tqdm\n",
        "import gc\n",
        "from pathlib import Path"
      ]
    },
    {
      "cell_type": "code",
      "execution_count": null,
      "metadata": {
        "id": "F6WO2VtEXefj"
      },
      "outputs": [],
      "source": [
        "import warnings\n",
        "import sys\n",
        "from IPython.core.interactiveshell import InteractiveShell\n",
        "\n",
        "warnings.filterwarnings(\"ignore\")\n",
        "sys.path.append(\"/content/drive/MyDrive/HM-new/\") # path to the `src`` folder\n",
        "InteractiveShell.ast_node_interactivity = \"all\"\n",
        "tqdm.pandas()"
      ]
    },
    {
      "cell_type": "code",
      "execution_count": null,
      "metadata": {
        "id": "zxhDyWVbJR3w"
      },
      "outputs": [],
      "source": [
        "from src.data import DataHelper\n",
        "from src.data.metrics import map_at_k, hr_at_k, recall_at_k\n",
        "\n",
        "from src.retrieval.rules import (\n",
        "    OrderHistory,\n",
        "    OrderHistoryDecay,\n",
        "    ItemPair,\n",
        "    UserGroupTimeHistory,\n",
        "    UserGroupSaleTrend,\n",
        "    TimeHistory,\n",
        "    TimeHistoryDecay,\n",
        "    SaleTrend,\n",
        "    OutOfStock,\n",
        ")\n",
        "from src.retrieval.collector import RuleCollector\n",
        "\n",
        "from src.features import full_sale, week_sale, repurchase_ratio, popularity, period_sale\n",
        "\n",
        "from src.utils import (\n",
        "    calc_valid_date,\n",
        "    merge_week_data,\n",
        "    reduce_mem_usage,\n",
        "    calc_embd_similarity,\n",
        ")"
      ]
    },
    {
      "cell_type": "code",
      "execution_count": null,
      "metadata": {
        "id": "lL6IRSJ2JR3x"
      },
      "outputs": [],
      "source": [
        "data_dir = Path(\"/content/drive/MyDrive/HM-new/data/\")\n",
        "model_dir = Path(\"/content/drive/MyDrive/HM-new/models/\")"
      ]
    },
    {
      "cell_type": "code",
      "execution_count": null,
      "metadata": {
        "id": "AakTfKUQJR3x"
      },
      "outputs": [],
      "source": [
        "TRAIN_WEEK_NUM = 4\n",
        "WEEK_NUM = TRAIN_WEEK_NUM + 2\n",
        "\n",
        "VERSION_NAME = \"Recall 1\"\n",
        "TEST = True # * Set as `False` when do local experiments to save time"
      ]
    },
    {
      "cell_type": "code",
      "execution_count": null,
      "metadata": {
        "id": "RHu8rsZMJR3y"
      },
      "outputs": [],
      "source": [
        "import os\n",
        "if not os.path.exists(data_dir/\"interim\"/VERSION_NAME):\n",
        "    os.mkdir(data_dir/\"interim\"/VERSION_NAME)\n",
        "if not os.path.exists(data_dir/\"processed\"/VERSION_NAME):\n",
        "    os.mkdir(data_dir/\"processed\"/VERSION_NAME)"
      ]
    },
    {
      "cell_type": "markdown",
      "metadata": {
        "id": "Mazy6bP0JR30"
      },
      "source": [
        "Pepare data: encoding ids and preprocessing"
      ]
    },
    {
      "cell_type": "code",
      "execution_count": null,
      "metadata": {
        "id": "2BPv2lcWGGQJ"
      },
      "outputs": [],
      "source": [
        "dh = DataHelper(data_dir)"
      ]
    },
    {
      "cell_type": "code",
      "execution_count": null,
      "metadata": {
        "id": "kiIB1uvjJR33"
      },
      "outputs": [],
      "source": [
        "data = dh.preprocess_data(save=True, name=\"encoded_full\") # * run only once, processed data will be saved"
      ]
    },
    {
      "cell_type": "code",
      "execution_count": null,
      "metadata": {
        "id": "i3ngtb7NUGbH"
      },
      "outputs": [],
      "source": [
        "data = dh.load_data(name=\"encoded_full\")"
      ]
    },
    {
      "cell_type": "code",
      "execution_count": null,
      "metadata": {
        "id": "7ecaPObIJR34"
      },
      "outputs": [],
      "source": [
        "uid2idx = pickle.load(open(data_dir/\"index_id_map/user_id2index.pkl\", \"rb\"))\n",
        "submission = pd.read_csv(data_dir/\"raw\"/'sample_submission.csv')\n",
        "submission['customer_id'] = submission['customer_id'].map(uid2idx)"
      ]
    },
    {
      "cell_type": "markdown",
      "metadata": {
        "id": "LX4M190s4pxo"
      },
      "source": [
        "## Retrieval\n"
      ]
    },
    {
      "cell_type": "markdown",
      "metadata": {
        "id": "fcShMOQPJR35"
      },
      "source": [
        "Generate candidates for each week"
      ]
    },
    {
      "cell_type": "code",
      "execution_count": null,
      "metadata": {
        "id": "J7gu-mwjJR36"
      },
      "outputs": [],
      "source": [
        "listBin = [-1, 19, 29, 39, 49, 59, 69, 119]\n",
        "data['user']['age_bins'] = pd.cut(data['user']['age'], listBin)"
      ]
    },
    {
      "cell_type": "code",
      "execution_count": null,
      "metadata": {
        "id": "glOiftg3JR36"
      },
      "outputs": [],
      "source": [
        "# * WEEK_NUM = 0: test\n",
        "# * WEEK_NUM = 1: valid\n",
        "# * WEEK_NUM > 1: train\n",
        "for week in range(1,WEEK_NUM):\n",
        "    # * use sliding window to generate candidates\n",
        "    if week == 0 and not TEST:\n",
        "        continue\n",
        "    trans = data[\"inter\"]\n",
        "\n",
        "    start_date, end_date = calc_valid_date(week)\n",
        "    print(f\"Week {week}: [{start_date}, {end_date})\")\n",
        "    \n",
        "    train, valid = dh.split_data(trans, start_date, end_date)\n",
        "    train = train.merge(data['user'][['customer_id','age_bins']], on='customer_id', how='left')\n",
        "\n",
        "    last_week_start = pd.to_datetime(start_date) - pd.Timedelta(days=7)\n",
        "    last_week_start = last_week_start.strftime(\"%Y-%m-%d\")\n",
        "    last_week = train.loc[train.t_dat >= last_week_start]\n",
        "    \n",
        "    last_3day_start = pd.to_datetime(start_date) - pd.Timedelta(days=3)\n",
        "    last_3day_start = last_3day_start.strftime(\"%Y-%m-%d\")\n",
        "    last_3days = train.loc[train.t_dat >= last_3day_start]\n",
        "\n",
        "    if week != 0:\n",
        "        customer_list = valid[\"customer_id\"].values\n",
        "    else:\n",
        "        customer_list = submission['customer_id'].values\n",
        "\n",
        "    # * ========================== Retrieval Strategies ==========================\n",
        "\n",
        "    candidates = RuleCollector().collect(\n",
        "        week_num = week,\n",
        "        trans_df = trans,\n",
        "        customer_list=customer_list,\n",
        "        rules=[\n",
        "            OrderHistory(train, days=3, name='1'),\n",
        "            OrderHistory(train, days=7, name='2'),\n",
        "            OrderHistoryDecay(train, days=3, n=50, name='1'),\n",
        "            OrderHistoryDecay(train, days=7, n=50, name='2'),\n",
        "            ItemPair(OrderHistory(train, days=3).retrieve(), name='1'),\n",
        "            ItemPair(OrderHistory(train, days=7).retrieve(), name='2'),\n",
        "            ItemPair(OrderHistoryDecay(train, days=3, n=50).retrieve(), name='3'),\n",
        "            ItemPair(OrderHistoryDecay(train, days=7, n=50).retrieve(), name='4'),\n",
        "            UserGroupTimeHistory(data, customer_list, last_week, ['age_bins'], n=50, name='1'),\n",
        "            UserGroupTimeHistory(data, customer_list, last_3days, ['age_bins'], n=50, name='2'),\n",
        "            UserGroupSaleTrend(data, customer_list, train, ['age_bins'], days=7, n=50),\n",
        "            TimeHistory(customer_list, last_week, n=50, name='1'),\n",
        "            TimeHistory(customer_list, last_3days, n=50, name='2'),\n",
        "            TimeHistoryDecay(customer_list, train, days=3, n=50, name='1'),\n",
        "            TimeHistoryDecay(customer_list, train, days=7, n=50, name='2'),\n",
        "            SaleTrend(customer_list, train, days=7, n=50),\n",
        "        ],\n",
        "        filters=[OutOfStock(trans)],\n",
        "        min_pos_rate=0.006,\n",
        "        compress=False,\n",
        "    )\n",
        "\n",
        "    candidates = (\n",
        "        pd.pivot_table(\n",
        "            candidates,\n",
        "            values=\"score\",\n",
        "            index=[\"customer_id\", \"article_id\"],\n",
        "            columns=[\"method\"],\n",
        "            aggfunc=np.sum,\n",
        "        )\n",
        "        .reset_index()\n",
        "    )\n",
        "\n",
        "    candidates.to_parquet(data_dir/\"interim\"/VERSION_NAME/f\"week{week}_candidate.pqt\")\n",
        "    valid.to_parquet(data_dir/\"processed\"/VERSION_NAME/f\"week{week}_label.pqt\")"
      ]
    },
    {
      "cell_type": "code",
      "execution_count": null,
      "metadata": {
        "id": "3wqDho1ZJR38"
      },
      "outputs": [],
      "source": [
        "# * use the threshold in week 1 to generate candidates for test data, see the log in the upper cell \n",
        "if TEST:\n",
        "    week = 0\n",
        "    trans = data[\"inter\"]\n",
        "    \n",
        "    start_date, end_date = calc_valid_date(week)\n",
        "    print(f\"Week {week}: [{start_date}, {end_date})\")\n",
        "    \n",
        "    train, valid = dh.split_data(trans, start_date, end_date)\n",
        "    train = train.merge(data['user'][['customer_id','age_bins']], on='customer_id', how='left')\n",
        "\n",
        "    last_week_start = pd.to_datetime(start_date) - pd.Timedelta(days=7)\n",
        "    last_week_start = last_week_start.strftime(\"%Y-%m-%d\")\n",
        "    last_week = train.loc[train.t_dat >= last_week_start]\n",
        "    \n",
        "    last_3day_start = pd.to_datetime(start_date) - pd.Timedelta(days=3)\n",
        "    last_3day_start = last_3day_start.strftime(\"%Y-%m-%d\")\n",
        "    last_3days = train.loc[train.t_dat >= last_3day_start]\n",
        "\n",
        "    customer_list = submission['customer_id'].values\n",
        "\n",
        "    # * ========================== Retrieval Strategies ==========================\n",
        "\n",
        "    candidates = RuleCollector().collect(\n",
        "        week_num = week,\n",
        "        trans_df = trans,\n",
        "        customer_list=customer_list,\n",
        "        rules=[\n",
        "            OrderHistory(train, days=3, name='1'),\n",
        "            OrderHistory(train, days=7, name='2'),\n",
        "            OrderHistoryDecay(train, days=3, n=50, name='1'),\n",
        "            OrderHistoryDecay(train, days=7, n=50, name='2'),\n",
        "            ItemPair(OrderHistory(train, days=3).retrieve(), name='1'),\n",
        "            ItemPair(OrderHistory(train, days=7).retrieve(), name='2'),\n",
        "            ItemPair(OrderHistoryDecay(train, 3, n=50).retrieve(), name='3'),\n",
        "            ItemPair(OrderHistoryDecay(train, 7, n=50).retrieve(), name='4'),\n",
        "            UserGroupTimeHistory(data, customer_list, last_week, ['age_bins'], n=15, name='1'),\n",
        "            UserGroupTimeHistory(data, customer_list, last_3days, ['age_bins'], n=20.5, name='2'),\n",
        "            UserGroupSaleTrend(data, customer_list, train, ['age_bins'], days=7, n=2),\n",
        "            TimeHistory(customer_list, last_week, n=9, name='1'),\n",
        "            TimeHistory(customer_list, last_3days, n=16, name='2'),\n",
        "            TimeHistoryDecay(customer_list, train, days=3, n=12, name='1'),\n",
        "            TimeHistoryDecay(customer_list, train, days=7, n=8, name='2'),\n",
        "            SaleTrend(customer_list, train, days=7, n=2),\n",
        "        ],\n",
        "        filters=[OutOfStock(trans)],\n",
        "        min_pos_rate=0.006,\n",
        "        compress=False,\n",
        "    )\n",
        "    \n",
        "    candidates, _ = reduce_mem_usage(candidates)\n",
        "    candidates = (\n",
        "        pd.pivot_table(\n",
        "            candidates,\n",
        "            values=\"score\",\n",
        "            index=[\"customer_id\", \"article_id\"],\n",
        "            columns=[\"method\"],\n",
        "            aggfunc=np.sum,\n",
        "        )\n",
        "        .reset_index()\n",
        "    )\n",
        "\n",
        "    candidates.to_parquet(data_dir/\"interim\"/VERSION_NAME/f\"week{week}_candidate.pqt\")\n",
        "    valid.to_parquet(data_dir/\"processed\"/VERSION_NAME/f\"week{week}_label.pqt\")"
      ]
    },
    {
      "cell_type": "code",
      "execution_count": null,
      "metadata": {
        "id": "gQEog9JJJR39"
      },
      "outputs": [],
      "source": [
        "del train, valid, last_week, customer_list, candidates\n",
        "gc.collect()"
      ]
    },
    {
      "cell_type": "markdown",
      "metadata": {
        "id": "TBIrKxhRGGQR"
      },
      "source": [
        "## Feature engineering\n"
      ]
    },
    {
      "cell_type": "code",
      "execution_count": null,
      "metadata": {
        "id": "9pF-sOMSGGQP"
      },
      "outputs": [],
      "source": [
        "user = data[\"user\"]\n",
        "item = data[\"item\"]\n",
        "inter = data[\"inter\"]"
      ]
    },
    {
      "cell_type": "code",
      "execution_count": null,
      "metadata": {
        "id": "heKIAtoRdtIk"
      },
      "outputs": [],
      "source": [
        "# calculate week number\n",
        "inter['week'] = (pd.to_datetime('2020-09-29') - pd.to_datetime(inter['t_dat'])).dt.days // 7"
      ]
    },
    {
      "cell_type": "code",
      "execution_count": null,
      "metadata": {
        "colab": {
          "base_uri": "https://localhost:8080/"
        },
        "id": "kaEwbD6KY5R8",
        "outputId": "f71ff8a2-e5e1-4aa8-b1ce-91462fcaa87c"
      },
      "outputs": [
        {
          "name": "stderr",
          "output_type": "stream",
          "text": [
            "100%|██████████| 6/6 [00:18<00:00,  3.07s/it]\n"
          ]
        },
        {
          "data": {
            "text/plain": [
              "17"
            ]
          },
          "execution_count": 14,
          "metadata": {},
          "output_type": "execute_result"
        }
      ],
      "source": [
        "# merge full candidates to transaction data (avoid feature missing in training data)\n",
        "full_candidates = []\n",
        "for i in tqdm(range(WEEK_NUM)):\n",
        "    candidate = pd.read_parquet(data_dir/\"interim\"/VERSION_NAME/f\"week{i}_candidate.pqt\")\n",
        "    full_candidates += candidate['article_id'].values.tolist()\n",
        "full_candidates = list(set(full_candidates))\n",
        "del candidate\n",
        "gc.collect()\n",
        "\n",
        "num_candidates = len(full_candidates)\n",
        "full_candidates = np.array(full_candidates)\n",
        "full_candidates = np.tile(full_candidates, WEEK_NUM + 1)\n",
        "weeks = np.repeat(np.arange(1,WEEK_NUM+2), num_candidates)\n",
        "full_candidates = pd.DataFrame({'article_id':full_candidates, 'week':weeks})\n",
        "\n",
        "inter['valid'] = 1\n",
        "in_train = inter[inter['week']<=WEEK_NUM + 1]\n",
        "out_train = inter[inter['week']>WEEK_NUM + 1]\n",
        "\n",
        "in_train = in_train.merge(full_candidates, on=['article_id','week'], how='right')\n",
        "in_train['valid'] = in_train['valid'].fillna(0)\n",
        "inter = pd.concat([in_train, out_train], ignore_index=True)\n",
        "inter = inter.sort_values([\"valid\"], ascending=False).reset_index(drop=True)"
      ]
    },
    {
      "cell_type": "code",
      "execution_count": null,
      "metadata": {
        "id": "QsW8gPPUUUg_"
      },
      "outputs": [],
      "source": [
        "# merge `product_code`\n",
        "inter = inter.merge(item[[\"article_id\", \"product_code\"]], on=\"article_id\", how=\"left\")"
      ]
    },
    {
      "cell_type": "code",
      "execution_count": null,
      "metadata": {
        "colab": {
          "base_uri": "https://localhost:8080/"
        },
        "id": "Hz4m4zsiieqn",
        "outputId": "f4855f51-d2ea-4c3b-f1f2-a59ecbce5000"
      },
      "outputs": [
        {
          "data": {
            "text/plain": [
              "(31837313, 8)"
            ]
          },
          "execution_count": 16,
          "metadata": {},
          "output_type": "execute_result"
        }
      ],
      "source": [
        "inter.shape"
      ]
    },
    {
      "cell_type": "code",
      "execution_count": null,
      "metadata": {
        "id": "kYdOqlyldvNM"
      },
      "outputs": [],
      "source": [
        "_, inter[\"i_1w_sale_rank\"], inter[\"i_1w_sale_norm\"] = period_sale(\n",
        "    inter, [\"article_id\"], days=14, rank=True, norm=True, week_num=WEEK_NUM\n",
        ")\n",
        "_, inter[\"p_1w_sale_rank\"], inter[\"p_1w_sale_norm\"] = period_sale(\n",
        "    inter, [\"product_code\"], days=14, rank=True, norm=True, week_num=WEEK_NUM\n",
        ")\n",
        "inter[\"i_2w_sale\"], inter[\"i_2w_sale_rank\"], inter[\"i_2w_sale_norm\"] = period_sale(\n",
        "    inter, [\"article_id\"], days=14, rank=True, norm=True, week_num=WEEK_NUM\n",
        ")\n",
        "inter[\"p_2w_sale\"], inter[\"p_2w_sale_rank\"], inter[\"p_2w_sale_norm\"] = period_sale(\n",
        "    inter, [\"product_code\"], days=14, rank=True, norm=True, week_num=WEEK_NUM\n",
        ")"
      ]
    },
    {
      "cell_type": "code",
      "execution_count": null,
      "metadata": {
        "id": "7Lv1FtoOeI9n"
      },
      "outputs": [],
      "source": [
        "inter[\"i_3w_sale\"], inter[\"i_3w_sale_rank\"], inter[\"i_3w_sale_norm\"] = period_sale(\n",
        "    inter, [\"article_id\"], days=21, rank=True, norm=True, week_num=WEEK_NUM\n",
        ")\n",
        "inter[\"p_3w_sale\"], inter[\"p_3w_sale_rank\"], inter[\"p_3w_sale_norm\"] = period_sale(\n",
        "    inter, [\"product_code\"], days=21, rank=True, norm=True, week_num=WEEK_NUM\n",
        ")\n",
        "inter[\"i_4w_sale\"], inter[\"i_4w_sale_rank\"], inter[\"i_4w_sale_norm\"] = period_sale(\n",
        "    inter, [\"article_id\"], days=28, rank=True, norm=True, week_num=WEEK_NUM\n",
        ")\n",
        "inter[\"p_4w_sale\"], inter[\"p_4w_sale_rank\"], inter[\"p_4w_sale_norm\"] = period_sale(\n",
        "    inter, [\"product_code\"], days=28, rank=True, norm=True, week_num=WEEK_NUM\n",
        ")"
      ]
    },
    {
      "cell_type": "code",
      "execution_count": null,
      "metadata": {
        "colab": {
          "base_uri": "https://localhost:8080/"
        },
        "id": "2Yqb3KaWinZM",
        "outputId": "06dc54f9-2c38-4fa5-f242-f8d42ad7a5cc"
      },
      "outputs": [
        {
          "data": {
            "text/plain": [
              "(31837313, 30)"
            ]
          },
          "execution_count": 20,
          "metadata": {},
          "output_type": "execute_result"
        }
      ],
      "source": [
        "inter.shape"
      ]
    },
    {
      "cell_type": "code",
      "execution_count": null,
      "metadata": {
        "colab": {
          "base_uri": "https://localhost:8080/"
        },
        "id": "FdlZqq5QzbMR",
        "outputId": "dab8fbf6-0167-42d6-9e74-ecc826ec84c1"
      },
      "outputs": [
        {
          "name": "stderr",
          "output_type": "stream",
          "text": [
            "100%|██████████| 6/6 [02:28<00:00, 24.77s/it]\n",
            "100%|██████████| 6/6 [02:00<00:00, 20.07s/it]\n"
          ]
        }
      ],
      "source": [
        "inter['i_repurchase_ratio'] = repurchase_ratio(inter, ['article_id'], week_num=WEEK_NUM)\n",
        "inter['p_repurchase_ratio'] = repurchase_ratio(inter, ['product_code'], week_num=WEEK_NUM)"
      ]
    },
    {
      "cell_type": "code",
      "execution_count": null,
      "metadata": {
        "colab": {
          "base_uri": "https://localhost:8080/"
        },
        "id": "Oh3Otv_Cipmi",
        "outputId": "0224c3f9-8534-4658-edca-2f0dc887f728"
      },
      "outputs": [
        {
          "data": {
            "text/plain": [
              "(31837313, 32)"
            ]
          },
          "execution_count": 22,
          "metadata": {},
          "output_type": "execute_result"
        }
      ],
      "source": [
        "inter.shape"
      ]
    },
    {
      "cell_type": "code",
      "execution_count": null,
      "metadata": {
        "id": "riX-F5H5lbMu"
      },
      "outputs": [],
      "source": [
        "inter, _ = reduce_mem_usage(inter)"
      ]
    },
    {
      "cell_type": "code",
      "execution_count": null,
      "metadata": {
        "colab": {
          "base_uri": "https://localhost:8080/"
        },
        "id": "70okKvWfzgip",
        "outputId": "a1a2392a-c88d-49f3-b4be-d3aebecb7761"
      },
      "outputs": [
        {
          "name": "stderr",
          "output_type": "stream",
          "text": [
            "100%|██████████| 1/1 [00:22<00:00, 22.43s/it]\n"
          ]
        }
      ],
      "source": [
        "inter[\"i_sale\"] = week_sale(inter, [\"article_id\"], week_num=WEEK_NUM)\n",
        "inter[\"p_sale\"] = week_sale(inter, [\"product_code\"], week_num=WEEK_NUM)\n",
        "inter[\"i_sale_uni\"] = week_sale(inter, [\"article_id\"], True, week_num=WEEK_NUM)\n",
        "inter[\"p_sale_uni\"] = week_sale(inter, [\"product_code\"], True, week_num=WEEK_NUM)\n",
        "inter[\"lw_i_sale\"] = week_sale(inter, [\"article_id\"], step=1, week_num=WEEK_NUM) # * last week sale\n",
        "inter[\"lw_p_sale\"] = week_sale(inter, [\"product_code\"], step=1, week_num=WEEK_NUM)\n",
        "inter[\"lw_i_sale_uni\"] = week_sale(inter, [\"article_id\"], True, step=1, week_num=WEEK_NUM)\n",
        "inter[\"lw_p_sale_uni\"] = week_sale(inter, [\"product_code\"], True, step=1, week_num=WEEK_NUM)\n",
        "\n",
        "inter[\"i_sale_ratio\"] = inter[\"i_sale\"] / (inter[\"p_sale\"] + 1e-6)\n",
        "inter[\"i_sale_uni_ratio\"] = inter[\"i_sale_uni\"] / (inter[\"p_sale_uni\"] + 1e-6)\n",
        "inter[\"lw_i_sale_ratio\"] = inter[\"lw_i_sale\"] / (inter[\"lw_p_sale\"] + 1e-6)\n",
        "inter[\"lw_i_sale_uni_ratio\"] = inter[\"lw_i_sale_uni\"] / (inter[\"lw_p_sale_uni\"] + 1e-6)\n",
        "\n",
        "inter[\"i_uni_ratio\"] = inter[\"i_sale\"] / (inter[\"i_sale_uni\"] + 1e-6)\n",
        "inter[\"p_uni_ratio\"] = inter[\"p_sale\"] / (inter[\"p_sale_uni\"] + 1e-6)\n",
        "inter[\"lw_i_uni_ratio\"] = inter[\"lw_i_sale\"] / (inter[\"lw_i_sale_uni\"] + 1e-6)\n",
        "inter[\"lw_p_uni_ratio\"] = inter[\"lw_p_sale\"] / (inter[\"lw_p_sale_uni\"] + 1e-6)\n",
        "\n",
        "inter[\"i_sale_trend\"] = (inter[\"i_sale\"] - inter[\"lw_i_sale\"]) / (inter[\"lw_i_sale\"] + 1e-6)\n",
        "inter[\"p_sale_trend\"] = (inter[\"p_sale\"] - inter[\"lw_p_sale\"]) / (inter[\"lw_p_sale\"] + 1e-6)\n",
        "\n",
        "item_feats = [\n",
        "    \"product_type_no\",\n",
        "    # \"product_group_name\",\n",
        "    # \"graphical_appearance_no\",\n",
        "    # \"colour_group_code\",\n",
        "    # \"perceived_colour_value_id\",\n",
        "    # \"perceived_colour_master_id\",\n",
        "]\n",
        "inter = inter.merge(item[[\"article_id\", *item_feats]], on=\"article_id\", how=\"left\")\n",
        "\n",
        "for f in tqdm(item_feats):\n",
        "    inter[f\"{f}_sale\"] = week_sale(inter, [f], f\"{f}_sale\", week_num=WEEK_NUM)\n",
        "    inter[f\"lw_{f}_sale\"] = week_sale(inter, [f], f\"{f}_sale\", step=1, week_num=WEEK_NUM)\n",
        "    inter[f\"{f}_sale_trend\"] = (inter[f\"{f}_sale\"] - inter[f\"lw_{f}_sale\"]) / (inter[f\"lw_{f}_sale\"] + 1e-6)"
      ]
    },
    {
      "cell_type": "code",
      "execution_count": null,
      "metadata": {
        "colab": {
          "base_uri": "https://localhost:8080/"
        },
        "id": "K4hO0oT3isNu",
        "outputId": "bf229999-43ac-4e2d-ee40-eb93d608911e"
      },
      "outputs": [
        {
          "data": {
            "text/plain": [
              "(31837313, 54)"
            ]
          },
          "execution_count": 25,
          "metadata": {},
          "output_type": "execute_result"
        }
      ],
      "source": [
        "inter.shape"
      ]
    },
    {
      "cell_type": "code",
      "execution_count": null,
      "metadata": {
        "id": "mQkGNyjaBbi-"
      },
      "outputs": [],
      "source": [
        "# * Date related\n",
        "curr_date_dict = {x:calc_valid_date(x-1)[0] for x in range(100)}\n",
        "current_dat = inter['week'].map(curr_date_dict)\n",
        "mask = inter['valid']==0\n",
        "inter.loc[mask, 't_dat'] = inter.loc[mask, 'week'].map(curr_date_dict)\n",
        "first_date = inter.groupby('article_id')['t_dat'].min().reset_index(name='first_dat')\n",
        "inter = pd.merge(inter, first_date, on='article_id', how='left')\n",
        "# df = pd.merge(df, last_date, on='article_id', how='left')\n",
        "inter['first_dat'] = (pd.to_datetime(current_dat)-pd.to_datetime(inter['first_dat'])).dt.days"
      ]
    },
    {
      "cell_type": "code",
      "execution_count": null,
      "metadata": {
        "colab": {
          "base_uri": "https://localhost:8080/"
        },
        "id": "sZHdSXtAi_zK",
        "outputId": "2a802998-74c8-4695-95fd-d134d3d7d549"
      },
      "outputs": [
        {
          "data": {
            "text/plain": [
              "(31837313, 55)"
            ]
          },
          "execution_count": 27,
          "metadata": {},
          "output_type": "execute_result"
        }
      ],
      "source": [
        "inter.shape"
      ]
    },
    {
      "cell_type": "code",
      "execution_count": null,
      "metadata": {
        "id": "OC8SIYK_Ca-g"
      },
      "outputs": [],
      "source": [
        "inter['i_full_sale'] = full_sale(inter, ['article_id'], week_num=WEEK_NUM)\n",
        "inter['p_full_sale'] = full_sale(inter, ['product_code'], week_num=WEEK_NUM)\n",
        "\n",
        "inter['i_daily_sale'] = inter['i_full_sale'] / inter['first_dat']\n",
        "inter['p_daily_sale'] = inter['p_full_sale'] / inter['first_dat']\n",
        "inter['i_daily_sale_ratio'] = inter['i_daily_sale'] / inter['p_daily_sale']\n",
        "inter['i_w_full_sale_ratio'] = inter['i_sale'] / inter['i_full_sale']\n",
        "\n",
        "inter['i_2w_full_sale_ratio'] = inter['i_2w_sale'] / inter['i_full_sale']\n",
        "inter['p_w_full_sale_ratio'] = inter['p_sale'] / inter['p_full_sale']\n",
        "inter['p_2w_full_sale_ratio'] = inter['p_2w_sale'] / inter['p_full_sale']\n",
        "\n",
        "inter['i_week_above_daily_sale'] = inter['i_sale'] / 7 - inter['i_daily_sale']\n",
        "inter['p_week_above_full_sale'] = inter['p_sale'] / 7 - inter['i_full_sale']\n",
        "inter['i_2w_week_above_daily_sale'] = inter['i_2w_sale'] / 14 - inter['i_daily_sale']\n",
        "inter['p_2w_week_above_daily_sale'] = inter['p_2w_sale'] / 14 - inter['p_daily_sale']"
      ]
    },
    {
      "cell_type": "code",
      "execution_count": null,
      "metadata": {
        "colab": {
          "base_uri": "https://localhost:8080/"
        },
        "id": "334plAMZ5Ics",
        "outputId": "d0d6230d-ba07-43d5-9640-ca8c97e60b7a"
      },
      "outputs": [
        {
          "data": {
            "text/plain": [
              "94"
            ]
          },
          "execution_count": 29,
          "metadata": {},
          "output_type": "execute_result"
        }
      ],
      "source": [
        "gc.collect()"
      ]
    },
    {
      "cell_type": "code",
      "execution_count": null,
      "metadata": {
        "colab": {
          "base_uri": "https://localhost:8080/"
        },
        "id": "z4HdQYbZ5CC-",
        "outputId": "daf9bf66-b53d-4504-bd05-b9a385f1fe49"
      },
      "outputs": [
        {
          "name": "stderr",
          "output_type": "stream",
          "text": [
            "\r  0%|          | 0/1 [00:00<?, ?it/s]"
          ]
        },
        {
          "data": {
            "text/plain": [
              "17"
            ]
          },
          "execution_count": 30,
          "metadata": {},
          "output_type": "execute_result"
        },
        {
          "name": "stderr",
          "output_type": "stream",
          "text": [
            "100%|██████████| 1/1 [01:21<00:00, 81.40s/it]\n"
          ]
        }
      ],
      "source": [
        "for f in tqdm(item_feats):\n",
        "    inter[f'{f}_full_sale'] = full_sale(inter, [f], week_num=WEEK_NUM)\n",
        "    f_first_date = inter.groupby(f)['t_dat'].min().reset_index(name=f'{f}_first_dat')\n",
        "    inter = inter.merge(f_first_date, on=f, how='left')\n",
        "    inter[f'{f}_daily_sale'] = inter[f'{f}_full_sale'] / (pd.to_datetime(current_dat) - pd.to_datetime(inter[f'{f}_first_dat'])).dt.days\n",
        "    inter[f'i_{f}_daily_sale_ratio'] = inter['i_daily_sale'] / inter[f'{f}_daily_sale']\n",
        "    inter[f'p_{f}_daily_sale_ratio'] = inter['p_daily_sale'] / inter[f'{f}_daily_sale']\n",
        "    del inter[f'{f}_full_sale'], inter[f'{f}_first_dat']\n",
        "    gc.collect()"
      ]
    },
    {
      "cell_type": "code",
      "execution_count": null,
      "metadata": {
        "id": "_fhlw8z4z5hD"
      },
      "outputs": [],
      "source": [
        "for f in item_feats + ['i_full_sale','p_full_sale']:\n",
        "    del inter[f]"
      ]
    },
    {
      "cell_type": "code",
      "execution_count": null,
      "metadata": {
        "id": "ms4s0YUJznFU"
      },
      "outputs": [],
      "source": [
        "inter['i_pop'] = popularity(inter, 'article_id', week_num=WEEK_NUM)\n",
        "inter['p_pop'] = popularity(inter, 'product_code', week_num=WEEK_NUM)"
      ]
    },
    {
      "cell_type": "code",
      "execution_count": null,
      "metadata": {
        "id": "ip6AdvV0kS1y"
      },
      "outputs": [],
      "source": [
        "inter = inter.loc[inter['week'] <= WEEK_NUM + 2]"
      ]
    },
    {
      "cell_type": "code",
      "execution_count": null,
      "metadata": {
        "id": "huYRSLE91PJH"
      },
      "outputs": [],
      "source": [
        "inter.to_parquet(data_dir / \"processed/processed_inter.pqt\")"
      ]
    },
    {
      "cell_type": "markdown",
      "metadata": {
        "id": "jywhBCAGGGQS"
      },
      "source": [
        "## Merge Features\n"
      ]
    },
    {
      "cell_type": "code",
      "execution_count": null,
      "metadata": {
        "id": "YwbQ4jyD4MxX"
      },
      "outputs": [],
      "source": [
        "inter = pd.read_parquet(data_dir / \"processed/processed_inter.pqt\")\n",
        "inter = inter[inter['week'] <= WEEK_NUM + 2]"
      ]
    },
    {
      "cell_type": "code",
      "execution_count": null,
      "metadata": {
        "id": "-7YlHho_JR4F"
      },
      "outputs": [],
      "source": [
        "#* embeddings from DSSM model\n",
        "dssm_user_embd = np.load(data_dir / \"external/dssm_user_embd.npy\", allow_pickle=True)\n",
        "dssm_item_embd = np.load(data_dir / \"external/dssm_item_embd.npy\", allow_pickle=True)\n",
        "# * embeddings from YouTubeDNN model\n",
        "yt_user_embd = np.load(data_dir / \"external/yt_user_embd.npy\", allow_pickle=True)\n",
        "yt_item_embd = np.load(data_dir / \"external/yt_item_embd.npy\", allow_pickle=True)\n",
        "# * embeddings from Word2Vector model\n",
        "w2v_user_embd = np.load(data_dir/'external'/'w2v_user_embd.npy', allow_pickle=True)\n",
        "w2v_item_embd = np.load(data_dir/'external'/'w2v_item_embd.npy', allow_pickle=True)"
      ]
    },
    {
      "cell_type": "code",
      "execution_count": null,
      "metadata": {
        "id": "IveB8V0VJGLm"
      },
      "outputs": [],
      "source": [
        "for col in inter.columns:\n",
        "    inter[col] = np.nan_to_num(inter[col])"
      ]
    },
    {
      "cell_type": "code",
      "execution_count": null,
      "metadata": {
        "colab": {
          "base_uri": "https://localhost:8080/"
        },
        "id": "HXmOMDkO33sr",
        "outputId": "2e393829-09ab-4fd6-9372-edc7dfeda088"
      },
      "outputs": [
        {
          "name": "stderr",
          "output_type": "stream",
          "text": [
            "  0%|          | 0/6 [00:00<?, ?it/s]\n",
            "  0%|          | 0/2766 [00:00<?, ?it/s]\u001b[A\n",
            "  0%|          | 3/2766 [00:00<01:35, 28.95it/s]\u001b[A\n",
            "  1%|          | 30/2766 [00:00<00:16, 167.70it/s]\u001b[A\n",
            "  2%|▏         | 57/2766 [00:00<00:12, 212.10it/s]\u001b[A\n",
            "  3%|▎         | 85/2766 [00:00<00:11, 235.70it/s]\u001b[A\n",
            "  4%|▍         | 111/2766 [00:00<00:10, 241.59it/s]\u001b[A\n",
            "  5%|▍         | 138/2766 [00:00<00:10, 249.29it/s]\u001b[A\n",
            "  6%|▌         | 165/2766 [00:00<00:10, 253.18it/s]\u001b[A\n",
            "  7%|▋         | 192/2766 [00:00<00:09, 257.92it/s]\u001b[A\n",
            "  8%|▊         | 220/2766 [00:00<00:09, 263.76it/s]\u001b[A\n",
            "  9%|▉         | 248/2766 [00:01<00:09, 266.11it/s]\u001b[A\n",
            " 10%|▉         | 276/2766 [00:01<00:09, 267.63it/s]\u001b[A\n",
            " 11%|█         | 303/2766 [00:01<00:09, 265.62it/s]\u001b[A\n",
            " 12%|█▏        | 330/2766 [00:01<00:09, 265.89it/s]\u001b[A\n",
            " 13%|█▎        | 357/2766 [00:01<00:09, 263.42it/s]\u001b[A\n",
            " 14%|█▍        | 384/2766 [00:01<00:09, 263.66it/s]\u001b[A\n",
            " 15%|█▍        | 411/2766 [00:01<00:08, 264.25it/s]\u001b[A\n",
            " 16%|█▌        | 438/2766 [00:01<00:08, 261.05it/s]\u001b[A\n",
            " 17%|█▋        | 465/2766 [00:01<00:08, 261.01it/s]\u001b[A\n",
            " 18%|█▊        | 492/2766 [00:01<00:08, 262.04it/s]\u001b[A\n",
            " 19%|█▉        | 521/2766 [00:02<00:08, 268.70it/s]\u001b[A\n",
            " 20%|█▉        | 549/2766 [00:02<00:08, 270.93it/s]\u001b[A\n",
            " 21%|██        | 577/2766 [00:02<00:08, 267.89it/s]\u001b[A\n",
            " 22%|██▏       | 605/2766 [00:02<00:08, 269.99it/s]\u001b[A\n",
            " 23%|██▎       | 634/2766 [00:02<00:07, 275.18it/s]\u001b[A\n",
            " 24%|██▍       | 662/2766 [00:02<00:07, 272.97it/s]\u001b[A\n",
            " 25%|██▍       | 690/2766 [00:02<00:07, 271.11it/s]\u001b[A\n",
            " 26%|██▌       | 718/2766 [00:02<00:07, 264.50it/s]\u001b[A\n",
            " 27%|██▋       | 746/2766 [00:02<00:07, 266.68it/s]\u001b[A\n",
            " 28%|██▊       | 773/2766 [00:02<00:07, 265.17it/s]\u001b[A\n",
            " 29%|██▉       | 800/2766 [00:03<00:07, 262.78it/s]\u001b[A\n",
            " 30%|██▉       | 827/2766 [00:03<00:07, 261.81it/s]\u001b[A\n",
            " 31%|███       | 854/2766 [00:03<00:07, 262.20it/s]\u001b[A\n",
            " 32%|███▏      | 881/2766 [00:03<00:07, 263.86it/s]\u001b[A\n",
            " 33%|███▎      | 908/2766 [00:03<00:07, 261.79it/s]\u001b[A\n",
            " 34%|███▍      | 935/2766 [00:03<00:06, 262.78it/s]\u001b[A\n",
            " 35%|███▍      | 963/2766 [00:03<00:06, 266.13it/s]\u001b[A\n",
            " 36%|███▌      | 990/2766 [00:03<00:06, 262.59it/s]\u001b[A\n",
            " 37%|███▋      | 1017/2766 [00:03<00:06, 257.92it/s]\u001b[A\n",
            " 38%|███▊      | 1044/2766 [00:04<00:06, 260.01it/s]\u001b[A\n",
            " 39%|███▊      | 1071/2766 [00:04<00:06, 261.85it/s]\u001b[A\n",
            " 40%|███▉      | 1098/2766 [00:04<00:06, 262.55it/s]\u001b[A\n",
            " 41%|████      | 1125/2766 [00:04<00:06, 262.16it/s]\u001b[A\n",
            " 42%|████▏     | 1152/2766 [00:04<00:06, 260.27it/s]\u001b[A\n",
            " 43%|████▎     | 1179/2766 [00:04<00:06, 255.25it/s]\u001b[A\n",
            " 44%|████▎     | 1205/2766 [00:04<00:06, 254.87it/s]\u001b[A\n",
            " 45%|████▍     | 1231/2766 [00:04<00:06, 253.94it/s]\u001b[A\n",
            " 45%|████▌     | 1257/2766 [00:04<00:05, 254.71it/s]\u001b[A\n",
            " 46%|████▋     | 1284/2766 [00:04<00:05, 256.64it/s]\u001b[A\n",
            " 47%|████▋     | 1310/2766 [00:05<00:05, 256.41it/s]\u001b[A\n",
            " 48%|████▊     | 1336/2766 [00:05<00:05, 253.81it/s]\u001b[A\n",
            " 49%|████▉     | 1362/2766 [00:05<00:05, 252.45it/s]\u001b[A\n",
            " 50%|█████     | 1389/2766 [00:05<00:05, 255.84it/s]\u001b[A\n",
            " 51%|█████     | 1415/2766 [00:05<00:05, 253.22it/s]\u001b[A\n",
            " 52%|█████▏    | 1441/2766 [00:05<00:05, 248.79it/s]\u001b[A\n",
            " 53%|█████▎    | 1467/2766 [00:05<00:05, 250.90it/s]\u001b[A\n",
            " 54%|█████▍    | 1493/2766 [00:05<00:05, 250.46it/s]\u001b[A\n",
            " 55%|█████▍    | 1520/2766 [00:05<00:04, 253.98it/s]\u001b[A\n",
            " 56%|█████▌    | 1547/2766 [00:06<00:04, 255.71it/s]\u001b[A\n",
            " 57%|█████▋    | 1573/2766 [00:06<00:04, 255.18it/s]\u001b[A\n",
            " 58%|█████▊    | 1599/2766 [00:06<00:04, 255.97it/s]\u001b[A\n",
            " 59%|█████▊    | 1625/2766 [00:06<00:04, 255.88it/s]\u001b[A\n",
            " 60%|█████▉    | 1652/2766 [00:06<00:04, 258.50it/s]\u001b[A\n",
            " 61%|██████    | 1678/2766 [00:06<00:04, 257.51it/s]\u001b[A\n",
            " 62%|██████▏   | 1705/2766 [00:06<00:04, 260.64it/s]\u001b[A\n",
            " 63%|██████▎   | 1733/2766 [00:06<00:03, 264.97it/s]\u001b[A\n",
            " 64%|██████▎   | 1760/2766 [00:06<00:03, 262.92it/s]\u001b[A\n",
            " 65%|██████▍   | 1787/2766 [00:06<00:03, 259.84it/s]\u001b[A\n",
            " 66%|██████▌   | 1813/2766 [00:07<00:03, 256.90it/s]\u001b[A\n",
            " 66%|██████▋   | 1839/2766 [00:07<00:03, 254.57it/s]\u001b[A\n",
            " 67%|██████▋   | 1866/2766 [00:07<00:03, 257.37it/s]\u001b[A\n",
            " 68%|██████▊   | 1893/2766 [00:07<00:03, 259.95it/s]\u001b[A\n",
            " 69%|██████▉   | 1920/2766 [00:07<00:03, 257.44it/s]\u001b[A\n",
            " 70%|███████   | 1946/2766 [00:07<00:03, 255.50it/s]\u001b[A\n",
            " 71%|███████▏  | 1973/2766 [00:07<00:03, 257.26it/s]\u001b[A\n",
            " 72%|███████▏  | 1999/2766 [00:07<00:03, 252.25it/s]\u001b[A\n",
            " 73%|███████▎  | 2026/2766 [00:07<00:02, 255.44it/s]\u001b[A\n",
            " 74%|███████▍  | 2052/2766 [00:07<00:02, 254.67it/s]\u001b[A\n",
            " 75%|███████▌  | 2079/2766 [00:08<00:02, 256.41it/s]\u001b[A\n",
            " 76%|███████▌  | 2105/2766 [00:08<00:02, 254.42it/s]\u001b[A\n",
            " 77%|███████▋  | 2131/2766 [00:08<00:02, 253.08it/s]\u001b[A\n",
            " 78%|███████▊  | 2157/2766 [00:08<00:02, 252.69it/s]\u001b[A\n",
            " 79%|███████▉  | 2183/2766 [00:08<00:02, 253.76it/s]\u001b[A\n",
            " 80%|███████▉  | 2209/2766 [00:08<00:02, 252.74it/s]\u001b[A\n",
            " 81%|████████  | 2236/2766 [00:08<00:02, 255.72it/s]\u001b[A\n",
            " 82%|████████▏ | 2262/2766 [00:08<00:01, 255.02it/s]\u001b[A\n",
            " 83%|████████▎ | 2289/2766 [00:08<00:01, 258.19it/s]\u001b[A\n",
            " 84%|████████▎ | 2315/2766 [00:09<00:01, 254.74it/s]\u001b[A\n",
            " 85%|████████▍ | 2341/2766 [00:09<00:01, 256.10it/s]\u001b[A\n",
            " 86%|████████▌ | 2367/2766 [00:09<00:01, 254.06it/s]\u001b[A\n",
            " 87%|████████▋ | 2393/2766 [00:09<00:01, 252.24it/s]\u001b[A\n",
            " 87%|████████▋ | 2419/2766 [00:09<00:01, 254.25it/s]\u001b[A\n",
            " 88%|████████▊ | 2445/2766 [00:09<00:01, 251.19it/s]\u001b[A\n",
            " 89%|████████▉ | 2473/2766 [00:09<00:01, 259.08it/s]\u001b[A\n",
            " 90%|█████████ | 2500/2766 [00:09<00:01, 262.22it/s]\u001b[A\n",
            " 91%|█████████▏| 2527/2766 [00:09<00:00, 262.17it/s]\u001b[A\n",
            " 92%|█████████▏| 2555/2766 [00:09<00:00, 267.27it/s]\u001b[A\n",
            " 93%|█████████▎| 2584/2766 [00:10<00:00, 272.94it/s]\u001b[A\n",
            " 94%|█████████▍| 2612/2766 [00:10<00:00, 267.14it/s]\u001b[A\n",
            " 95%|█████████▌| 2639/2766 [00:10<00:00, 264.94it/s]\u001b[A\n",
            " 96%|█████████▋| 2666/2766 [00:10<00:00, 264.52it/s]\u001b[A\n",
            " 97%|█████████▋| 2694/2766 [00:10<00:00, 266.88it/s]\u001b[A\n",
            " 98%|█████████▊| 2721/2766 [00:10<00:00, 262.54it/s]\u001b[A\n",
            "100%|██████████| 2766/2766 [00:10<00:00, 258.02it/s]\n",
            "\n",
            "  0%|          | 0/2766 [00:00<?, ?it/s]\u001b[A\n",
            "  1%|          | 27/2766 [00:00<00:10, 262.39it/s]\u001b[A\n",
            "  2%|▏         | 54/2766 [00:00<00:10, 264.55it/s]\u001b[A\n",
            "  3%|▎         | 81/2766 [00:00<00:10, 259.34it/s]\u001b[A\n",
            "  4%|▍         | 107/2766 [00:00<00:10, 251.49it/s]\u001b[A\n",
            "  5%|▍         | 134/2766 [00:00<00:10, 254.94it/s]\u001b[A\n",
            "  6%|▌         | 160/2766 [00:00<00:10, 256.03it/s]\u001b[A\n",
            "  7%|▋         | 187/2766 [00:00<00:10, 257.73it/s]\u001b[A\n",
            "  8%|▊         | 214/2766 [00:00<00:09, 260.26it/s]\u001b[A\n",
            "  9%|▊         | 241/2766 [00:00<00:09, 262.81it/s]\u001b[A\n",
            " 10%|▉         | 269/2766 [00:01<00:09, 267.24it/s]\u001b[A\n",
            " 11%|█         | 296/2766 [00:01<00:09, 267.47it/s]\u001b[A\n",
            " 12%|█▏        | 323/2766 [00:01<00:09, 265.80it/s]\u001b[A\n",
            " 13%|█▎        | 350/2766 [00:01<00:09, 265.96it/s]\u001b[A\n",
            " 14%|█▎        | 377/2766 [00:01<00:09, 263.35it/s]\u001b[A\n",
            " 15%|█▍        | 404/2766 [00:01<00:08, 265.11it/s]\u001b[A\n",
            " 16%|█▌        | 431/2766 [00:01<00:08, 261.82it/s]\u001b[A\n",
            " 17%|█▋        | 458/2766 [00:01<00:08, 259.75it/s]\u001b[A\n",
            " 18%|█▊        | 485/2766 [00:01<00:08, 261.17it/s]\u001b[A\n",
            " 19%|█▊        | 512/2766 [00:01<00:08, 263.54it/s]\u001b[A\n",
            " 20%|█▉        | 540/2766 [00:02<00:08, 266.74it/s]\u001b[A\n",
            " 20%|██        | 567/2766 [00:02<00:08, 263.44it/s]\u001b[A\n",
            " 22%|██▏       | 595/2766 [00:02<00:08, 267.39it/s]\u001b[A\n",
            " 23%|██▎       | 623/2766 [00:02<00:07, 268.51it/s]\u001b[A\n",
            " 23%|██▎       | 650/2766 [00:02<00:07, 264.65it/s]\u001b[A\n",
            " 24%|██▍       | 677/2766 [00:02<00:07, 264.82it/s]\u001b[A\n",
            " 25%|██▌       | 704/2766 [00:02<00:07, 261.52it/s]\u001b[A\n",
            " 26%|██▋       | 731/2766 [00:02<00:07, 261.59it/s]\u001b[A\n",
            " 27%|██▋       | 758/2766 [00:02<00:07, 260.30it/s]\u001b[A\n",
            " 28%|██▊       | 785/2766 [00:02<00:07, 260.65it/s]\u001b[A\n",
            " 29%|██▉       | 812/2766 [00:03<00:07, 257.71it/s]\u001b[A\n",
            " 30%|███       | 839/2766 [00:03<00:07, 259.99it/s]\u001b[A\n",
            " 31%|███▏      | 866/2766 [00:03<00:07, 261.01it/s]\u001b[A\n",
            " 32%|███▏      | 893/2766 [00:03<00:07, 262.18it/s]\u001b[A\n",
            " 33%|███▎      | 921/2766 [00:03<00:06, 265.86it/s]\u001b[A\n",
            " 34%|███▍      | 949/2766 [00:03<00:06, 267.17it/s]\u001b[A\n",
            " 35%|███▌      | 976/2766 [00:03<00:06, 264.39it/s]\u001b[A\n",
            " 36%|███▋      | 1003/2766 [00:03<00:06, 261.53it/s]\u001b[A\n",
            " 37%|███▋      | 1030/2766 [00:03<00:06, 263.02it/s]\u001b[A\n",
            " 38%|███▊      | 1057/2766 [00:04<00:06, 263.52it/s]\u001b[A\n",
            " 39%|███▉      | 1084/2766 [00:04<00:06, 258.87it/s]\u001b[A\n",
            " 40%|████      | 1110/2766 [00:04<00:06, 258.99it/s]\u001b[A\n",
            " 41%|████      | 1136/2766 [00:04<00:06, 257.44it/s]\u001b[A\n",
            " 42%|████▏     | 1163/2766 [00:04<00:06, 259.22it/s]\u001b[A\n",
            " 43%|████▎     | 1192/2766 [00:04<00:05, 268.08it/s]\u001b[A\n",
            " 44%|████▍     | 1219/2766 [00:04<00:05, 265.73it/s]\u001b[A\n",
            " 45%|████▌     | 1247/2766 [00:04<00:05, 267.98it/s]\u001b[A\n",
            " 46%|████▌     | 1274/2766 [00:04<00:05, 266.69it/s]\u001b[A\n",
            " 47%|████▋     | 1301/2766 [00:04<00:05, 265.82it/s]\u001b[A\n",
            " 48%|████▊     | 1330/2766 [00:05<00:05, 272.55it/s]\u001b[A\n",
            " 49%|████▉     | 1358/2766 [00:05<00:05, 268.30it/s]\u001b[A\n",
            " 50%|█████     | 1386/2766 [00:05<00:05, 269.84it/s]\u001b[A\n",
            " 51%|█████     | 1414/2766 [00:05<00:05, 265.47it/s]\u001b[A\n",
            " 52%|█████▏    | 1441/2766 [00:05<00:05, 259.44it/s]\u001b[A\n",
            " 53%|█████▎    | 1467/2766 [00:05<00:05, 257.89it/s]\u001b[A\n",
            " 54%|█████▍    | 1493/2766 [00:05<00:04, 257.85it/s]\u001b[A\n",
            " 55%|█████▍    | 1521/2766 [00:05<00:04, 262.74it/s]\u001b[A\n",
            " 56%|█████▌    | 1548/2766 [00:05<00:04, 262.68it/s]\u001b[A\n",
            " 57%|█████▋    | 1575/2766 [00:05<00:04, 262.69it/s]\u001b[A\n",
            " 58%|█████▊    | 1602/2766 [00:06<00:04, 264.40it/s]\u001b[A\n",
            " 59%|█████▉    | 1629/2766 [00:06<00:04, 264.65it/s]\u001b[A\n",
            " 60%|█████▉    | 1657/2766 [00:06<00:04, 269.08it/s]\u001b[A\n",
            " 61%|██████    | 1685/2766 [00:06<00:04, 269.45it/s]\u001b[A\n",
            " 62%|██████▏   | 1713/2766 [00:06<00:03, 272.07it/s]\u001b[A\n",
            " 63%|██████▎   | 1741/2766 [00:06<00:03, 265.33it/s]\u001b[A\n",
            " 64%|██████▍   | 1768/2766 [00:06<00:03, 264.49it/s]\u001b[A\n",
            " 65%|██████▍   | 1795/2766 [00:06<00:03, 257.18it/s]\u001b[A\n",
            " 66%|██████▌   | 1821/2766 [00:06<00:03, 256.24it/s]\u001b[A\n",
            " 67%|██████▋   | 1849/2766 [00:07<00:03, 260.76it/s]\u001b[A\n",
            " 68%|██████▊   | 1876/2766 [00:07<00:03, 259.45it/s]\u001b[A\n",
            " 69%|██████▉   | 1903/2766 [00:07<00:03, 260.23it/s]\u001b[A\n",
            " 70%|██████▉   | 1930/2766 [00:07<00:03, 258.94it/s]\u001b[A\n",
            " 71%|███████   | 1956/2766 [00:07<00:03, 257.08it/s]\u001b[A\n",
            " 72%|███████▏  | 1982/2766 [00:07<00:03, 254.95it/s]\u001b[A\n",
            " 73%|███████▎  | 2008/2766 [00:07<00:02, 254.30it/s]\u001b[A\n",
            " 74%|███████▎  | 2034/2766 [00:07<00:02, 253.63it/s]\u001b[A\n",
            " 74%|███████▍  | 2060/2766 [00:07<00:02, 254.86it/s]\u001b[A\n",
            " 75%|███████▌  | 2086/2766 [00:07<00:02, 250.60it/s]\u001b[A\n",
            " 76%|███████▋  | 2112/2766 [00:08<00:02, 251.60it/s]\u001b[A\n",
            " 77%|███████▋  | 2138/2766 [00:08<00:02, 252.06it/s]\u001b[A\n",
            " 78%|███████▊  | 2164/2766 [00:08<00:02, 251.69it/s]\u001b[A\n",
            " 79%|███████▉  | 2190/2766 [00:08<00:02, 249.47it/s]\u001b[A\n",
            " 80%|████████  | 2217/2766 [00:08<00:02, 253.88it/s]\u001b[A\n",
            " 81%|████████  | 2243/2766 [00:08<00:02, 247.96it/s]\u001b[A\n",
            " 82%|████████▏ | 2268/2766 [00:08<00:02, 241.61it/s]\u001b[A\n",
            " 83%|████████▎ | 2293/2766 [00:08<00:01, 238.50it/s]\u001b[A\n",
            " 84%|████████▍ | 2317/2766 [00:08<00:01, 237.10it/s]\u001b[A\n",
            " 85%|████████▍ | 2343/2766 [00:09<00:01, 241.63it/s]\u001b[A\n",
            " 86%|████████▌ | 2369/2766 [00:09<00:01, 244.47it/s]\u001b[A\n",
            " 87%|████████▋ | 2395/2766 [00:09<00:01, 247.23it/s]\u001b[A\n",
            " 87%|████████▋ | 2420/2766 [00:09<00:01, 242.77it/s]\u001b[A\n",
            " 88%|████████▊ | 2445/2766 [00:09<00:01, 238.22it/s]\u001b[A\n",
            " 89%|████████▉ | 2469/2766 [00:09<00:01, 238.70it/s]\u001b[A\n",
            " 90%|█████████ | 2494/2766 [00:09<00:01, 241.12it/s]\u001b[A\n",
            " 91%|█████████ | 2519/2766 [00:09<00:01, 240.86it/s]\u001b[A\n",
            " 92%|█████████▏| 2544/2766 [00:09<00:00, 242.88it/s]\u001b[A\n",
            " 93%|█████████▎| 2569/2766 [00:09<00:00, 239.69it/s]\u001b[A\n",
            " 94%|█████████▍| 2595/2766 [00:10<00:00, 243.66it/s]\u001b[A\n",
            " 95%|█████████▍| 2620/2766 [00:10<00:00, 243.22it/s]\u001b[A\n",
            " 96%|█████████▌| 2645/2766 [00:10<00:00, 241.12it/s]\u001b[A\n",
            " 97%|█████████▋| 2670/2766 [00:10<00:00, 240.84it/s]\u001b[A\n",
            " 97%|█████████▋| 2695/2766 [00:10<00:00, 241.14it/s]\u001b[A\n",
            " 98%|█████████▊| 2721/2766 [00:10<00:00, 244.14it/s]\u001b[A\n",
            "100%|██████████| 2766/2766 [00:10<00:00, 257.38it/s]\n",
            "\n",
            "  0%|          | 0/2766 [00:00<?, ?it/s]\u001b[A\n",
            "  0%|          | 12/2766 [00:00<00:24, 111.95it/s]\u001b[A\n",
            "  1%|          | 25/2766 [00:00<00:22, 119.66it/s]\u001b[A\n",
            "  1%|▏         | 38/2766 [00:00<00:22, 121.88it/s]\u001b[A\n",
            "  2%|▏         | 51/2766 [00:00<00:21, 123.74it/s]\u001b[A\n",
            "  2%|▏         | 64/2766 [00:00<00:21, 122.94it/s]\u001b[A\n",
            "  3%|▎         | 77/2766 [00:00<00:21, 123.04it/s]\u001b[A\n",
            "  3%|▎         | 90/2766 [00:00<00:21, 123.19it/s]\u001b[A\n",
            "  4%|▎         | 103/2766 [00:00<00:21, 124.31it/s]\u001b[A\n",
            "  4%|▍         | 116/2766 [00:00<00:21, 124.72it/s]\u001b[A\n",
            "  5%|▍         | 129/2766 [00:01<00:21, 125.15it/s]\u001b[A\n",
            "  5%|▌         | 143/2766 [00:01<00:20, 127.34it/s]\u001b[A\n",
            "  6%|▌         | 156/2766 [00:01<00:20, 127.37it/s]\u001b[A\n",
            "  6%|▌         | 169/2766 [00:01<00:20, 126.68it/s]\u001b[A\n",
            "  7%|▋         | 182/2766 [00:01<00:20, 126.71it/s]\u001b[A\n",
            "  7%|▋         | 195/2766 [00:01<00:20, 126.08it/s]\u001b[A\n",
            "  8%|▊         | 208/2766 [00:01<00:20, 125.74it/s]\u001b[A\n",
            "  8%|▊         | 221/2766 [00:01<00:20, 124.07it/s]\u001b[A\n",
            "  8%|▊         | 234/2766 [00:01<00:20, 124.40it/s]\u001b[A\n",
            "  9%|▉         | 247/2766 [00:01<00:20, 124.60it/s]\u001b[A\n",
            "  9%|▉         | 260/2766 [00:02<00:20, 124.08it/s]\u001b[A\n",
            " 10%|▉         | 273/2766 [00:02<00:19, 124.97it/s]\u001b[A\n",
            " 10%|█         | 286/2766 [00:02<00:19, 125.88it/s]\u001b[A\n",
            " 11%|█         | 299/2766 [00:02<00:19, 126.05it/s]\u001b[A\n",
            " 11%|█▏        | 312/2766 [00:02<00:19, 126.25it/s]\u001b[A\n",
            " 12%|█▏        | 325/2766 [00:02<00:19, 127.03it/s]\u001b[A\n",
            " 12%|█▏        | 338/2766 [00:02<00:19, 127.62it/s]\u001b[A\n",
            " 13%|█▎        | 351/2766 [00:02<00:18, 128.08it/s]\u001b[A\n",
            " 13%|█▎        | 364/2766 [00:02<00:18, 127.61it/s]\u001b[A\n",
            " 14%|█▎        | 377/2766 [00:03<00:18, 126.84it/s]\u001b[A\n",
            " 14%|█▍        | 390/2766 [00:03<00:18, 126.25it/s]\u001b[A\n",
            " 15%|█▍        | 403/2766 [00:03<00:18, 126.82it/s]\u001b[A\n",
            " 15%|█▌        | 416/2766 [00:03<00:18, 125.98it/s]\u001b[A\n",
            " 16%|█▌        | 429/2766 [00:03<00:18, 125.87it/s]\u001b[A\n",
            " 16%|█▌        | 442/2766 [00:03<00:18, 126.47it/s]\u001b[A\n",
            " 16%|█▋        | 455/2766 [00:03<00:18, 126.82it/s]\u001b[A\n",
            " 17%|█▋        | 468/2766 [00:03<00:18, 126.31it/s]\u001b[A\n",
            " 17%|█▋        | 481/2766 [00:03<00:18, 125.10it/s]\u001b[A\n",
            " 18%|█▊        | 494/2766 [00:03<00:18, 124.78it/s]\u001b[A\n",
            " 18%|█▊        | 507/2766 [00:04<00:18, 124.64it/s]\u001b[A\n",
            " 19%|█▉        | 520/2766 [00:04<00:17, 124.89it/s]\u001b[A\n",
            " 19%|█▉        | 533/2766 [00:04<00:17, 124.26it/s]\u001b[A\n",
            " 20%|█▉        | 546/2766 [00:04<00:17, 124.66it/s]\u001b[A\n",
            " 20%|██        | 559/2766 [00:04<00:17, 124.11it/s]\u001b[A\n",
            " 21%|██        | 572/2766 [00:04<00:17, 124.21it/s]\u001b[A\n",
            " 21%|██        | 585/2766 [00:04<00:17, 124.42it/s]\u001b[A\n",
            " 22%|██▏       | 598/2766 [00:04<00:17, 125.89it/s]\u001b[A\n",
            " 22%|██▏       | 611/2766 [00:04<00:16, 126.81it/s]\u001b[A\n",
            " 23%|██▎       | 624/2766 [00:04<00:17, 125.15it/s]\u001b[A\n",
            " 23%|██▎       | 637/2766 [00:05<00:17, 125.15it/s]\u001b[A\n",
            " 23%|██▎       | 650/2766 [00:05<00:16, 125.14it/s]\u001b[A\n",
            " 24%|██▍       | 663/2766 [00:05<00:16, 124.26it/s]\u001b[A\n",
            " 24%|██▍       | 676/2766 [00:05<00:16, 125.22it/s]\u001b[A\n",
            " 25%|██▍       | 689/2766 [00:05<00:16, 125.34it/s]\u001b[A\n",
            " 25%|██▌       | 702/2766 [00:05<00:16, 126.30it/s]\u001b[A\n",
            " 26%|██▌       | 715/2766 [00:05<00:16, 126.97it/s]\u001b[A\n",
            " 26%|██▋       | 728/2766 [00:05<00:16, 126.55it/s]\u001b[A\n",
            " 27%|██▋       | 742/2766 [00:05<00:15, 127.93it/s]\u001b[A\n",
            " 27%|██▋       | 755/2766 [00:06<00:15, 127.00it/s]\u001b[A\n",
            " 28%|██▊       | 768/2766 [00:06<00:15, 125.98it/s]\u001b[A\n",
            " 28%|██▊       | 781/2766 [00:06<00:15, 125.64it/s]\u001b[A\n",
            " 29%|██▊       | 794/2766 [00:06<00:15, 125.71it/s]\u001b[A\n",
            " 29%|██▉       | 807/2766 [00:06<00:15, 125.82it/s]\u001b[A\n",
            " 30%|██▉       | 820/2766 [00:06<00:15, 125.93it/s]\u001b[A\n",
            " 30%|███       | 833/2766 [00:06<00:15, 125.09it/s]\u001b[A\n",
            " 31%|███       | 846/2766 [00:06<00:15, 125.88it/s]\u001b[A\n",
            " 31%|███       | 859/2766 [00:06<00:15, 126.76it/s]\u001b[A\n",
            " 32%|███▏      | 872/2766 [00:06<00:14, 127.04it/s]\u001b[A\n",
            " 32%|███▏      | 885/2766 [00:07<00:14, 126.41it/s]\u001b[A\n",
            " 32%|███▏      | 898/2766 [00:07<00:14, 126.77it/s]\u001b[A\n",
            " 33%|███▎      | 911/2766 [00:07<00:14, 127.29it/s]\u001b[A\n",
            " 33%|███▎      | 924/2766 [00:07<00:14, 126.77it/s]\u001b[A\n",
            " 34%|███▍      | 937/2766 [00:07<00:14, 126.83it/s]\u001b[A\n",
            " 34%|███▍      | 950/2766 [00:07<00:14, 124.99it/s]\u001b[A\n",
            " 35%|███▍      | 963/2766 [00:07<00:14, 125.01it/s]\u001b[A\n",
            " 35%|███▌      | 976/2766 [00:07<00:14, 125.58it/s]\u001b[A\n",
            " 36%|███▌      | 989/2766 [00:07<00:14, 126.11it/s]\u001b[A\n",
            " 36%|███▌      | 1002/2766 [00:07<00:14, 124.55it/s]\u001b[A\n",
            " 37%|███▋      | 1015/2766 [00:08<00:13, 125.78it/s]\u001b[A\n",
            " 37%|███▋      | 1028/2766 [00:08<00:13, 126.68it/s]\u001b[A\n",
            " 38%|███▊      | 1041/2766 [00:08<00:13, 126.26it/s]\u001b[A\n",
            " 38%|███▊      | 1054/2766 [00:08<00:13, 126.90it/s]\u001b[A\n",
            " 39%|███▊      | 1067/2766 [00:08<00:13, 126.80it/s]\u001b[A\n",
            " 39%|███▉      | 1080/2766 [00:08<00:13, 127.50it/s]\u001b[A\n",
            " 40%|███▉      | 1093/2766 [00:08<00:13, 127.96it/s]\u001b[A\n",
            " 40%|███▉      | 1106/2766 [00:08<00:13, 126.65it/s]\u001b[A\n",
            " 40%|████      | 1119/2766 [00:08<00:13, 126.29it/s]\u001b[A\n",
            " 41%|████      | 1132/2766 [00:09<00:13, 124.38it/s]\u001b[A\n",
            " 41%|████▏     | 1145/2766 [00:09<00:12, 125.09it/s]\u001b[A\n",
            " 42%|████▏     | 1158/2766 [00:09<00:12, 125.27it/s]\u001b[A\n",
            " 42%|████▏     | 1171/2766 [00:09<00:12, 124.75it/s]\u001b[A\n",
            " 43%|████▎     | 1184/2766 [00:09<00:12, 124.75it/s]\u001b[A\n",
            " 43%|████▎     | 1197/2766 [00:09<00:12, 125.40it/s]\u001b[A\n",
            " 44%|████▍     | 1211/2766 [00:09<00:12, 126.86it/s]\u001b[A\n",
            " 44%|████▍     | 1224/2766 [00:09<00:12, 127.11it/s]\u001b[A\n",
            " 45%|████▍     | 1237/2766 [00:09<00:12, 127.11it/s]\u001b[A\n",
            " 45%|████▌     | 1250/2766 [00:09<00:11, 127.25it/s]\u001b[A\n",
            " 46%|████▌     | 1263/2766 [00:10<00:11, 125.83it/s]\u001b[A\n",
            " 46%|████▌     | 1276/2766 [00:10<00:11, 124.33it/s]\u001b[A\n",
            " 47%|████▋     | 1289/2766 [00:10<00:11, 124.64it/s]\u001b[A\n",
            " 47%|████▋     | 1302/2766 [00:10<00:11, 125.28it/s]\u001b[A\n",
            " 48%|████▊     | 1315/2766 [00:10<00:16, 86.84it/s] \u001b[A\n",
            " 48%|████▊     | 1326/2766 [00:10<00:19, 72.77it/s]\u001b[A\n",
            " 48%|████▊     | 1335/2766 [00:11<00:22, 64.14it/s]\u001b[A\n",
            " 49%|████▊     | 1343/2766 [00:11<00:23, 59.91it/s]\u001b[A\n",
            " 49%|████▉     | 1350/2766 [00:11<00:26, 54.31it/s]\u001b[A\n",
            " 49%|████▉     | 1356/2766 [00:11<00:26, 52.23it/s]\u001b[A\n",
            " 49%|████▉     | 1362/2766 [00:11<00:27, 50.31it/s]\u001b[A\n",
            " 49%|████▉     | 1368/2766 [00:11<00:27, 50.17it/s]\u001b[A\n",
            " 50%|████▉     | 1374/2766 [00:11<00:27, 49.86it/s]\u001b[A\n",
            " 50%|████▉     | 1380/2766 [00:12<00:29, 47.49it/s]\u001b[A\n",
            " 50%|█████     | 1385/2766 [00:12<00:29, 47.09it/s]\u001b[A\n",
            " 50%|█████     | 1390/2766 [00:12<00:30, 44.65it/s]\u001b[A\n",
            " 50%|█████     | 1395/2766 [00:12<00:29, 45.78it/s]\u001b[A\n",
            " 51%|█████     | 1401/2766 [00:12<00:28, 48.68it/s]\u001b[A\n",
            " 51%|█████     | 1406/2766 [00:12<00:27, 48.90it/s]\u001b[A\n",
            " 51%|█████     | 1411/2766 [00:12<00:28, 47.69it/s]\u001b[A\n",
            " 51%|█████     | 1416/2766 [00:12<00:28, 47.74it/s]\u001b[A\n",
            " 51%|█████▏    | 1422/2766 [00:12<00:26, 50.07it/s]\u001b[A\n",
            " 52%|█████▏    | 1428/2766 [00:13<00:27, 49.42it/s]\u001b[A\n",
            " 52%|█████▏    | 1434/2766 [00:13<00:26, 49.96it/s]\u001b[A\n",
            " 52%|█████▏    | 1440/2766 [00:13<00:26, 50.74it/s]\u001b[A\n",
            " 52%|█████▏    | 1446/2766 [00:13<00:25, 52.18it/s]\u001b[A\n",
            " 52%|█████▏    | 1452/2766 [00:13<00:25, 51.19it/s]\u001b[A\n",
            " 53%|█████▎    | 1458/2766 [00:13<00:29, 44.46it/s]\u001b[A\n",
            " 53%|█████▎    | 1463/2766 [00:13<00:32, 40.12it/s]\u001b[A\n",
            " 53%|█████▎    | 1468/2766 [00:13<00:34, 37.81it/s]\u001b[A\n",
            " 53%|█████▎    | 1472/2766 [00:14<00:35, 36.25it/s]\u001b[A\n",
            " 53%|█████▎    | 1476/2766 [00:14<00:36, 35.52it/s]\u001b[A\n",
            " 54%|█████▎    | 1481/2766 [00:14<00:33, 37.81it/s]\u001b[A\n",
            " 54%|█████▎    | 1486/2766 [00:14<00:31, 40.82it/s]\u001b[A\n",
            " 54%|█████▍    | 1491/2766 [00:14<00:31, 40.63it/s]\u001b[A\n",
            " 54%|█████▍    | 1496/2766 [00:14<00:31, 40.65it/s]\u001b[A\n",
            " 54%|█████▍    | 1501/2766 [00:14<00:31, 40.42it/s]\u001b[A\n",
            " 54%|█████▍    | 1506/2766 [00:14<00:29, 42.58it/s]\u001b[A\n",
            " 55%|█████▍    | 1511/2766 [00:15<00:29, 42.75it/s]\u001b[A\n",
            " 55%|█████▍    | 1517/2766 [00:15<00:26, 46.44it/s]\u001b[A\n",
            " 55%|█████▌    | 1523/2766 [00:15<00:25, 49.49it/s]\u001b[A\n",
            " 55%|█████▌    | 1529/2766 [00:15<00:23, 51.72it/s]\u001b[A\n",
            " 55%|█████▌    | 1535/2766 [00:15<00:24, 50.29it/s]\u001b[A\n",
            " 56%|█████▌    | 1541/2766 [00:15<00:23, 51.25it/s]\u001b[A\n",
            " 56%|█████▌    | 1547/2766 [00:15<00:23, 51.76it/s]\u001b[A\n",
            " 56%|█████▌    | 1554/2766 [00:15<00:22, 54.66it/s]\u001b[A\n",
            " 56%|█████▋    | 1561/2766 [00:15<00:21, 57.23it/s]\u001b[A\n",
            " 57%|█████▋    | 1568/2766 [00:16<00:19, 60.46it/s]\u001b[A\n",
            " 57%|█████▋    | 1575/2766 [00:16<00:19, 60.22it/s]\u001b[A\n",
            " 57%|█████▋    | 1582/2766 [00:16<00:19, 60.38it/s]\u001b[A\n",
            " 57%|█████▋    | 1589/2766 [00:16<00:19, 60.20it/s]\u001b[A\n",
            " 58%|█████▊    | 1596/2766 [00:16<00:19, 59.75it/s]\u001b[A\n",
            " 58%|█████▊    | 1603/2766 [00:16<00:19, 60.94it/s]\u001b[A\n",
            " 58%|█████▊    | 1610/2766 [00:16<00:20, 57.55it/s]\u001b[A\n",
            " 58%|█████▊    | 1616/2766 [00:16<00:20, 56.31it/s]\u001b[A\n",
            " 59%|█████▊    | 1622/2766 [00:16<00:21, 53.19it/s]\u001b[A\n",
            " 59%|█████▉    | 1628/2766 [00:17<00:21, 52.40it/s]\u001b[A\n",
            " 59%|█████▉    | 1634/2766 [00:17<00:22, 51.24it/s]\u001b[A\n",
            " 59%|█████▉    | 1640/2766 [00:17<00:21, 51.57it/s]\u001b[A\n",
            " 60%|█████▉    | 1646/2766 [00:17<00:21, 51.65it/s]\u001b[A\n",
            " 60%|█████▉    | 1652/2766 [00:17<00:22, 49.79it/s]\u001b[A\n",
            " 60%|█████▉    | 1657/2766 [00:17<00:22, 49.26it/s]\u001b[A\n",
            " 60%|██████    | 1662/2766 [00:17<00:23, 47.53it/s]\u001b[A\n",
            " 60%|██████    | 1667/2766 [00:17<00:23, 46.85it/s]\u001b[A\n",
            " 60%|██████    | 1673/2766 [00:18<00:22, 48.95it/s]\u001b[A\n",
            " 61%|██████    | 1679/2766 [00:18<00:21, 50.92it/s]\u001b[A\n",
            " 61%|██████    | 1686/2766 [00:18<00:20, 53.83it/s]\u001b[A\n",
            " 61%|██████    | 1692/2766 [00:18<00:19, 54.44it/s]\u001b[A\n",
            " 61%|██████▏   | 1698/2766 [00:18<00:19, 55.35it/s]\u001b[A\n",
            " 62%|██████▏   | 1705/2766 [00:18<00:18, 58.06it/s]\u001b[A\n",
            " 62%|██████▏   | 1711/2766 [00:18<00:18, 58.05it/s]\u001b[A\n",
            " 62%|██████▏   | 1718/2766 [00:18<00:17, 59.65it/s]\u001b[A\n",
            " 62%|██████▏   | 1726/2766 [00:18<00:15, 65.19it/s]\u001b[A\n",
            " 63%|██████▎   | 1733/2766 [00:18<00:15, 66.15it/s]\u001b[A\n",
            " 63%|██████▎   | 1740/2766 [00:19<00:15, 64.81it/s]\u001b[A\n",
            " 63%|██████▎   | 1747/2766 [00:19<00:15, 65.36it/s]\u001b[A\n",
            " 63%|██████▎   | 1754/2766 [00:19<00:15, 65.14it/s]\u001b[A\n",
            " 64%|██████▎   | 1761/2766 [00:19<00:16, 61.76it/s]\u001b[A\n",
            " 64%|██████▍   | 1769/2766 [00:19<00:15, 64.88it/s]\u001b[A\n",
            " 64%|██████▍   | 1777/2766 [00:19<00:14, 67.27it/s]\u001b[A\n",
            " 65%|██████▍   | 1785/2766 [00:19<00:14, 69.30it/s]\u001b[A\n",
            " 65%|██████▍   | 1797/2766 [00:19<00:11, 82.60it/s]\u001b[A\n",
            " 65%|██████▌   | 1810/2766 [00:19<00:10, 92.90it/s]\u001b[A\n",
            " 66%|██████▌   | 1820/2766 [00:20<00:12, 76.58it/s]\u001b[A\n",
            " 66%|██████▌   | 1829/2766 [00:20<00:13, 70.75it/s]\u001b[A\n",
            " 66%|██████▋   | 1837/2766 [00:20<00:13, 69.85it/s]\u001b[A\n",
            " 67%|██████▋   | 1845/2766 [00:20<00:13, 66.05it/s]\u001b[A\n",
            " 67%|██████▋   | 1852/2766 [00:20<00:15, 60.67it/s]\u001b[A\n",
            " 67%|██████▋   | 1859/2766 [00:20<00:15, 59.17it/s]\u001b[A\n",
            " 67%|██████▋   | 1866/2766 [00:20<00:15, 58.81it/s]\u001b[A\n",
            " 68%|██████▊   | 1872/2766 [00:21<00:16, 55.82it/s]\u001b[A\n",
            " 68%|██████▊   | 1878/2766 [00:21<00:16, 53.77it/s]\u001b[A\n",
            " 68%|██████▊   | 1884/2766 [00:21<00:16, 54.20it/s]\u001b[A\n",
            " 68%|██████▊   | 1890/2766 [00:21<00:16, 54.41it/s]\u001b[A\n",
            " 69%|██████▊   | 1896/2766 [00:21<00:16, 52.76it/s]\u001b[A\n",
            " 69%|██████▉   | 1902/2766 [00:21<00:16, 53.85it/s]\u001b[A\n",
            " 69%|██████▉   | 1909/2766 [00:21<00:15, 56.99it/s]\u001b[A\n",
            " 69%|██████▉   | 1915/2766 [00:21<00:14, 57.22it/s]\u001b[A\n",
            " 69%|██████▉   | 1921/2766 [00:21<00:14, 57.65it/s]\u001b[A\n",
            " 70%|██████▉   | 1928/2766 [00:22<00:13, 60.57it/s]\u001b[A\n",
            " 70%|███████   | 1937/2766 [00:22<00:12, 67.94it/s]\u001b[A\n",
            " 70%|███████   | 1944/2766 [00:22<00:12, 64.98it/s]\u001b[A\n",
            " 71%|███████   | 1951/2766 [00:22<00:13, 61.31it/s]\u001b[A\n",
            " 71%|███████   | 1958/2766 [00:22<00:13, 58.03it/s]\u001b[A\n",
            " 71%|███████   | 1964/2766 [00:22<00:14, 56.46it/s]\u001b[A\n",
            " 71%|███████   | 1970/2766 [00:22<00:14, 55.97it/s]\u001b[A\n",
            " 71%|███████▏  | 1976/2766 [00:22<00:14, 55.98it/s]\u001b[A\n",
            " 72%|███████▏  | 1983/2766 [00:22<00:13, 58.04it/s]\u001b[A\n",
            " 72%|███████▏  | 1989/2766 [00:23<00:13, 56.61it/s]\u001b[A\n",
            " 72%|███████▏  | 1997/2766 [00:23<00:12, 63.00it/s]\u001b[A\n",
            " 72%|███████▏  | 2005/2766 [00:23<00:11, 67.62it/s]\u001b[A\n",
            " 73%|███████▎  | 2015/2766 [00:23<00:09, 76.78it/s]\u001b[A\n",
            " 73%|███████▎  | 2023/2766 [00:23<00:09, 77.65it/s]\u001b[A\n",
            " 73%|███████▎  | 2032/2766 [00:23<00:09, 78.92it/s]\u001b[A\n",
            " 74%|███████▍  | 2040/2766 [00:23<00:09, 75.43it/s]\u001b[A\n",
            " 74%|███████▍  | 2048/2766 [00:23<00:09, 75.84it/s]\u001b[A\n",
            " 74%|███████▍  | 2056/2766 [00:23<00:09, 75.77it/s]\u001b[A\n",
            " 75%|███████▍  | 2064/2766 [00:24<00:09, 70.82it/s]\u001b[A\n",
            " 75%|███████▍  | 2072/2766 [00:24<00:09, 69.78it/s]\u001b[A\n",
            " 75%|███████▌  | 2081/2766 [00:24<00:09, 72.83it/s]\u001b[A\n",
            " 76%|███████▌  | 2090/2766 [00:24<00:08, 75.82it/s]\u001b[A\n",
            " 76%|███████▌  | 2098/2766 [00:24<00:08, 75.43it/s]\u001b[A\n",
            " 76%|███████▌  | 2106/2766 [00:24<00:09, 69.34it/s]\u001b[A\n",
            " 76%|███████▋  | 2114/2766 [00:24<00:10, 64.06it/s]\u001b[A\n",
            " 77%|███████▋  | 2121/2766 [00:24<00:10, 61.92it/s]\u001b[A\n",
            " 77%|███████▋  | 2128/2766 [00:25<00:10, 59.97it/s]\u001b[A\n",
            " 77%|███████▋  | 2135/2766 [00:25<00:10, 58.47it/s]\u001b[A\n",
            " 77%|███████▋  | 2141/2766 [00:25<00:10, 58.86it/s]\u001b[A\n",
            " 78%|███████▊  | 2148/2766 [00:25<00:10, 59.78it/s]\u001b[A\n",
            " 78%|███████▊  | 2155/2766 [00:25<00:10, 60.40it/s]\u001b[A\n",
            " 78%|███████▊  | 2162/2766 [00:25<00:10, 59.59it/s]\u001b[A\n",
            " 78%|███████▊  | 2168/2766 [00:25<00:10, 59.32it/s]\u001b[A\n",
            " 79%|███████▊  | 2174/2766 [00:25<00:10, 58.79it/s]\u001b[A\n",
            " 79%|███████▉  | 2180/2766 [00:25<00:09, 58.87it/s]\u001b[A\n",
            " 79%|███████▉  | 2186/2766 [00:26<00:09, 58.73it/s]\u001b[A\n",
            " 79%|███████▉  | 2192/2766 [00:26<00:09, 57.43it/s]\u001b[A\n",
            " 79%|███████▉  | 2198/2766 [00:26<00:10, 56.19it/s]\u001b[A\n",
            " 80%|███████▉  | 2204/2766 [00:26<00:09, 56.26it/s]\u001b[A\n",
            " 80%|███████▉  | 2210/2766 [00:26<00:09, 57.10it/s]\u001b[A\n",
            " 80%|████████  | 2216/2766 [00:26<00:10, 54.75it/s]\u001b[A\n",
            " 80%|████████  | 2222/2766 [00:26<00:10, 53.90it/s]\u001b[A\n",
            " 81%|████████  | 2228/2766 [00:26<00:10, 52.76it/s]\u001b[A\n",
            " 81%|████████  | 2234/2766 [00:26<00:10, 52.48it/s]\u001b[A\n",
            " 81%|████████  | 2240/2766 [00:27<00:09, 52.88it/s]\u001b[A\n",
            " 81%|████████  | 2246/2766 [00:27<00:09, 54.46it/s]\u001b[A\n",
            " 81%|████████▏ | 2252/2766 [00:27<00:09, 55.76it/s]\u001b[A\n",
            " 82%|████████▏ | 2258/2766 [00:27<00:09, 56.03it/s]\u001b[A\n",
            " 82%|████████▏ | 2268/2766 [00:27<00:07, 67.76it/s]\u001b[A\n",
            " 82%|████████▏ | 2280/2766 [00:27<00:05, 81.71it/s]\u001b[A\n",
            " 83%|████████▎ | 2292/2766 [00:27<00:05, 91.84it/s]\u001b[A\n",
            " 83%|████████▎ | 2304/2766 [00:27<00:04, 99.70it/s]\u001b[A\n",
            " 84%|████████▎ | 2316/2766 [00:27<00:04, 105.10it/s]\u001b[A\n",
            " 84%|████████▍ | 2329/2766 [00:27<00:03, 110.42it/s]\u001b[A\n",
            " 85%|████████▍ | 2341/2766 [00:28<00:03, 112.24it/s]\u001b[A\n",
            " 85%|████████▌ | 2354/2766 [00:28<00:03, 115.64it/s]\u001b[A\n",
            " 86%|████████▌ | 2366/2766 [00:28<00:03, 114.03it/s]\u001b[A\n",
            " 86%|████████▌ | 2378/2766 [00:28<00:03, 113.81it/s]\u001b[A\n",
            " 86%|████████▋ | 2391/2766 [00:28<00:03, 117.56it/s]\u001b[A\n",
            " 87%|████████▋ | 2403/2766 [00:28<00:03, 114.85it/s]\u001b[A\n",
            " 87%|████████▋ | 2416/2766 [00:28<00:02, 118.73it/s]\u001b[A\n",
            " 88%|████████▊ | 2429/2766 [00:28<00:02, 120.22it/s]\u001b[A\n",
            " 88%|████████▊ | 2442/2766 [00:28<00:02, 121.44it/s]\u001b[A\n",
            " 89%|████████▉ | 2455/2766 [00:29<00:02, 122.06it/s]\u001b[A\n",
            " 89%|████████▉ | 2468/2766 [00:29<00:02, 122.19it/s]\u001b[A\n",
            " 90%|████████▉ | 2481/2766 [00:29<00:02, 122.62it/s]\u001b[A\n",
            " 90%|█████████ | 2494/2766 [00:29<00:02, 123.36it/s]\u001b[A\n",
            " 91%|█████████ | 2507/2766 [00:29<00:02, 122.60it/s]\u001b[A\n",
            " 91%|█████████ | 2520/2766 [00:29<00:01, 123.21it/s]\u001b[A\n",
            " 92%|█████████▏| 2533/2766 [00:29<00:01, 124.88it/s]\u001b[A\n",
            " 92%|█████████▏| 2546/2766 [00:29<00:01, 124.28it/s]\u001b[A\n",
            " 93%|█████████▎| 2559/2766 [00:29<00:01, 124.72it/s]\u001b[A\n",
            " 93%|█████████▎| 2572/2766 [00:29<00:01, 124.92it/s]\u001b[A\n",
            " 93%|█████████▎| 2585/2766 [00:30<00:01, 123.72it/s]\u001b[A\n",
            " 94%|█████████▍| 2598/2766 [00:30<00:01, 124.42it/s]\u001b[A\n",
            " 94%|█████████▍| 2611/2766 [00:30<00:01, 123.98it/s]\u001b[A\n",
            " 95%|█████████▍| 2624/2766 [00:30<00:01, 123.83it/s]\u001b[A\n",
            " 95%|█████████▌| 2637/2766 [00:30<00:01, 123.97it/s]\u001b[A\n",
            " 96%|█████████▌| 2650/2766 [00:30<00:00, 123.98it/s]\u001b[A\n",
            " 96%|█████████▋| 2663/2766 [00:30<00:00, 124.63it/s]\u001b[A\n",
            " 97%|█████████▋| 2676/2766 [00:30<00:00, 124.86it/s]\u001b[A\n",
            " 97%|█████████▋| 2689/2766 [00:30<00:00, 125.65it/s]\u001b[A\n",
            " 98%|█████████▊| 2702/2766 [00:31<00:00, 124.57it/s]\u001b[A\n",
            " 98%|█████████▊| 2715/2766 [00:31<00:00, 124.61it/s]\u001b[A\n",
            " 99%|█████████▊| 2728/2766 [00:31<00:00, 124.83it/s]\u001b[A\n",
            " 99%|█████████▉| 2741/2766 [00:31<00:00, 124.27it/s]\u001b[A\n",
            "100%|██████████| 2766/2766 [00:31<00:00, 87.67it/s] \n"
          ]
        },
        {
          "name": "stdout",
          "output_type": "stream",
          "text": [
            "Chunk 0 done...\n"
          ]
        },
        {
          "name": "stderr",
          "output_type": "stream",
          "text": [
            "\n",
            "  0%|          | 0/2766 [00:00<?, ?it/s]\u001b[A\n",
            "  0%|          | 2/2766 [00:00<02:21, 19.56it/s]\u001b[A\n",
            "  1%|          | 26/2766 [00:00<00:18, 144.59it/s]\u001b[A\n",
            "  2%|▏         | 50/2766 [00:00<00:14, 184.76it/s]\u001b[A\n",
            "  3%|▎         | 74/2766 [00:00<00:13, 204.61it/s]\u001b[A\n",
            "  4%|▎         | 99/2766 [00:00<00:12, 220.46it/s]\u001b[A\n",
            "  5%|▍         | 125/2766 [00:00<00:11, 230.52it/s]\u001b[A\n",
            "  5%|▌         | 150/2766 [00:00<00:11, 234.62it/s]\u001b[A\n",
            "  6%|▋         | 175/2766 [00:00<00:10, 238.09it/s]\u001b[A\n",
            "  7%|▋         | 200/2766 [00:00<00:10, 240.21it/s]\u001b[A\n",
            "  8%|▊         | 225/2766 [00:01<00:10, 243.08it/s]\u001b[A\n",
            "  9%|▉         | 250/2766 [00:01<00:10, 243.88it/s]\u001b[A\n",
            " 10%|▉         | 275/2766 [00:01<00:10, 241.91it/s]\u001b[A\n",
            " 11%|█         | 300/2766 [00:01<00:10, 239.40it/s]\u001b[A\n",
            " 12%|█▏        | 325/2766 [00:01<00:10, 240.68it/s]\u001b[A\n",
            " 13%|█▎        | 350/2766 [00:01<00:09, 243.02it/s]\u001b[A\n",
            " 14%|█▎        | 375/2766 [00:01<00:09, 242.33it/s]\u001b[A\n",
            " 14%|█▍        | 400/2766 [00:01<00:09, 244.15it/s]\u001b[A\n",
            " 15%|█▌        | 425/2766 [00:01<00:09, 245.45it/s]\u001b[A\n",
            " 16%|█▋        | 450/2766 [00:01<00:09, 245.48it/s]\u001b[A\n",
            " 17%|█▋        | 475/2766 [00:02<00:09, 245.53it/s]\u001b[A\n",
            " 18%|█▊        | 500/2766 [00:02<00:09, 241.38it/s]\u001b[A\n",
            " 19%|█▉        | 525/2766 [00:02<00:09, 238.53it/s]\u001b[A\n",
            " 20%|█▉        | 549/2766 [00:02<00:09, 234.75it/s]\u001b[A\n",
            " 21%|██        | 573/2766 [00:02<00:09, 235.96it/s]\u001b[A\n",
            " 22%|██▏       | 598/2766 [00:02<00:09, 238.28it/s]\u001b[A\n",
            " 22%|██▏       | 622/2766 [00:02<00:09, 236.94it/s]\u001b[A\n",
            " 23%|██▎       | 647/2766 [00:02<00:08, 240.12it/s]\u001b[A\n",
            " 24%|██▍       | 672/2766 [00:02<00:08, 241.26it/s]\u001b[A\n",
            " 25%|██▌       | 697/2766 [00:02<00:08, 240.97it/s]\u001b[A\n",
            " 26%|██▌       | 724/2766 [00:03<00:08, 247.21it/s]\u001b[A\n",
            " 27%|██▋       | 749/2766 [00:03<00:08, 246.67it/s]\u001b[A\n",
            " 28%|██▊       | 774/2766 [00:03<00:08, 246.94it/s]\u001b[A\n",
            " 29%|██▉       | 799/2766 [00:03<00:07, 246.41it/s]\u001b[A\n",
            " 30%|██▉       | 824/2766 [00:03<00:07, 245.94it/s]\u001b[A\n",
            " 31%|███       | 849/2766 [00:03<00:07, 243.99it/s]\u001b[A\n",
            " 32%|███▏      | 874/2766 [00:03<00:07, 242.06it/s]\u001b[A\n",
            " 33%|███▎      | 899/2766 [00:03<00:07, 243.39it/s]\u001b[A\n",
            " 33%|███▎      | 924/2766 [00:03<00:07, 239.54it/s]\u001b[A\n",
            " 34%|███▍      | 949/2766 [00:04<00:07, 242.46it/s]\u001b[A\n",
            " 35%|███▌      | 974/2766 [00:04<00:07, 244.52it/s]\u001b[A\n",
            " 36%|███▌      | 999/2766 [00:04<00:07, 238.63it/s]\u001b[A\n",
            " 37%|███▋      | 1025/2766 [00:04<00:07, 242.71it/s]\u001b[A\n",
            " 38%|███▊      | 1050/2766 [00:04<00:07, 240.87it/s]\u001b[A\n",
            " 39%|███▉      | 1076/2766 [00:04<00:06, 243.51it/s]\u001b[A\n",
            " 40%|███▉      | 1101/2766 [00:04<00:06, 239.00it/s]\u001b[A\n",
            " 41%|████      | 1125/2766 [00:04<00:06, 236.17it/s]\u001b[A\n",
            " 42%|████▏     | 1149/2766 [00:04<00:06, 233.53it/s]\u001b[A\n",
            " 42%|████▏     | 1173/2766 [00:04<00:06, 234.29it/s]\u001b[A\n",
            " 43%|████▎     | 1198/2766 [00:05<00:06, 238.11it/s]\u001b[A\n",
            " 44%|████▍     | 1223/2766 [00:05<00:06, 241.00it/s]\u001b[A\n",
            " 45%|████▌     | 1248/2766 [00:05<00:06, 235.98it/s]\u001b[A\n",
            " 46%|████▌     | 1274/2766 [00:05<00:06, 240.08it/s]\u001b[A\n",
            " 47%|████▋     | 1300/2766 [00:05<00:06, 243.41it/s]\u001b[A\n",
            " 48%|████▊     | 1325/2766 [00:05<00:05, 243.87it/s]\u001b[A\n",
            " 49%|████▉     | 1350/2766 [00:05<00:05, 243.08it/s]\u001b[A\n",
            " 50%|████▉     | 1375/2766 [00:05<00:05, 242.40it/s]\u001b[A\n",
            " 51%|█████     | 1400/2766 [00:05<00:05, 242.86it/s]\u001b[A\n",
            " 52%|█████▏    | 1425/2766 [00:05<00:05, 243.85it/s]\u001b[A\n",
            " 52%|█████▏    | 1450/2766 [00:06<00:05, 245.12it/s]\u001b[A\n",
            " 53%|█████▎    | 1476/2766 [00:06<00:05, 248.56it/s]\u001b[A\n",
            " 54%|█████▍    | 1501/2766 [00:06<00:05, 244.85it/s]\u001b[A\n",
            " 55%|█████▌    | 1526/2766 [00:06<00:05, 242.67it/s]\u001b[A\n",
            " 56%|█████▌    | 1551/2766 [00:06<00:05, 241.90it/s]\u001b[A\n",
            " 57%|█████▋    | 1576/2766 [00:06<00:04, 240.39it/s]\u001b[A\n",
            " 58%|█████▊    | 1601/2766 [00:06<00:04, 238.70it/s]\u001b[A\n",
            " 59%|█████▊    | 1625/2766 [00:06<00:04, 238.13it/s]\u001b[A\n",
            " 60%|█████▉    | 1649/2766 [00:06<00:04, 237.27it/s]\u001b[A\n",
            " 61%|██████    | 1674/2766 [00:07<00:04, 239.41it/s]\u001b[A\n",
            " 61%|██████▏   | 1698/2766 [00:07<00:04, 239.51it/s]\u001b[A\n",
            " 62%|██████▏   | 1723/2766 [00:07<00:04, 240.41it/s]\u001b[A\n",
            " 63%|██████▎   | 1749/2766 [00:07<00:04, 244.67it/s]\u001b[A\n",
            " 64%|██████▍   | 1774/2766 [00:07<00:04, 242.76it/s]\u001b[A\n",
            " 65%|██████▌   | 1799/2766 [00:07<00:03, 242.40it/s]\u001b[A\n",
            " 66%|██████▌   | 1824/2766 [00:07<00:03, 243.67it/s]\u001b[A\n",
            " 67%|██████▋   | 1849/2766 [00:07<00:03, 243.66it/s]\u001b[A\n",
            " 68%|██████▊   | 1874/2766 [00:07<00:03, 245.20it/s]\u001b[A\n",
            " 69%|██████▊   | 1899/2766 [00:07<00:03, 244.96it/s]\u001b[A\n",
            " 70%|██████▉   | 1924/2766 [00:08<00:03, 246.00it/s]\u001b[A\n",
            " 70%|███████   | 1949/2766 [00:08<00:03, 244.34it/s]\u001b[A\n",
            " 71%|███████▏  | 1974/2766 [00:08<00:03, 241.90it/s]\u001b[A\n",
            " 72%|███████▏  | 2000/2766 [00:08<00:03, 244.78it/s]\u001b[A\n",
            " 73%|███████▎  | 2025/2766 [00:08<00:03, 243.23it/s]\u001b[A\n",
            " 74%|███████▍  | 2050/2766 [00:08<00:02, 244.17it/s]\u001b[A\n",
            " 75%|███████▌  | 2076/2766 [00:08<00:02, 246.41it/s]\u001b[A\n",
            " 76%|███████▌  | 2101/2766 [00:08<00:02, 245.76it/s]\u001b[A\n",
            " 77%|███████▋  | 2128/2766 [00:08<00:02, 250.50it/s]\u001b[A\n",
            " 78%|███████▊  | 2154/2766 [00:08<00:02, 246.81it/s]\u001b[A\n",
            " 79%|███████▉  | 2181/2766 [00:09<00:02, 250.80it/s]\u001b[A\n",
            " 80%|███████▉  | 2207/2766 [00:09<00:02, 249.62it/s]\u001b[A\n",
            " 81%|████████  | 2232/2766 [00:09<00:02, 246.95it/s]\u001b[A\n",
            " 82%|████████▏ | 2257/2766 [00:09<00:02, 246.75it/s]\u001b[A\n",
            " 83%|████████▎ | 2282/2766 [00:09<00:01, 247.04it/s]\u001b[A\n",
            " 83%|████████▎ | 2308/2766 [00:09<00:01, 249.24it/s]\u001b[A\n",
            " 84%|████████▍ | 2333/2766 [00:09<00:01, 246.79it/s]\u001b[A\n",
            " 85%|████████▌ | 2358/2766 [00:09<00:01, 242.56it/s]\u001b[A\n",
            " 86%|████████▌ | 2383/2766 [00:09<00:01, 240.72it/s]\u001b[A\n",
            " 87%|████████▋ | 2408/2766 [00:10<00:01, 238.72it/s]\u001b[A\n",
            " 88%|████████▊ | 2433/2766 [00:10<00:01, 240.81it/s]\u001b[A\n",
            " 89%|████████▉ | 2458/2766 [00:10<00:01, 238.01it/s]\u001b[A\n",
            " 90%|████████▉ | 2483/2766 [00:10<00:01, 241.08it/s]\u001b[A\n",
            " 91%|█████████ | 2508/2766 [00:10<00:01, 239.91it/s]\u001b[A\n",
            " 92%|█████████▏| 2533/2766 [00:10<00:00, 241.76it/s]\u001b[A\n",
            " 92%|█████████▏| 2558/2766 [00:10<00:00, 241.44it/s]\u001b[A\n",
            " 93%|█████████▎| 2583/2766 [00:10<00:00, 239.17it/s]\u001b[A\n",
            " 94%|█████████▍| 2607/2766 [00:10<00:00, 236.75it/s]\u001b[A\n",
            " 95%|█████████▌| 2631/2766 [00:10<00:00, 236.49it/s]\u001b[A\n",
            " 96%|█████████▌| 2655/2766 [00:11<00:00, 235.67it/s]\u001b[A\n",
            " 97%|█████████▋| 2680/2766 [00:11<00:00, 238.40it/s]\u001b[A\n",
            " 98%|█████████▊| 2705/2766 [00:11<00:00, 241.26it/s]\u001b[A\n",
            " 99%|█████████▊| 2730/2766 [00:11<00:00, 243.00it/s]\u001b[A\n",
            "100%|██████████| 2766/2766 [00:11<00:00, 240.03it/s]\n",
            "\n",
            "  0%|          | 0/2766 [00:00<?, ?it/s]\u001b[A\n",
            "  1%|          | 24/2766 [00:00<00:11, 239.53it/s]\u001b[A\n",
            "  2%|▏         | 49/2766 [00:00<00:11, 240.82it/s]\u001b[A\n",
            "  3%|▎         | 74/2766 [00:00<00:11, 239.83it/s]\u001b[A\n",
            "  4%|▎         | 101/2766 [00:00<00:10, 250.54it/s]\u001b[A\n",
            "  5%|▍         | 127/2766 [00:00<00:10, 246.86it/s]\u001b[A\n",
            "  5%|▌         | 152/2766 [00:00<00:10, 243.41it/s]\u001b[A\n",
            "  6%|▋         | 177/2766 [00:00<00:10, 240.82it/s]\u001b[A\n",
            "  7%|▋         | 202/2766 [00:00<00:10, 243.16it/s]\u001b[A\n",
            "  8%|▊         | 227/2766 [00:00<00:10, 243.19it/s]\u001b[A\n",
            "  9%|▉         | 252/2766 [00:01<00:10, 242.21it/s]\u001b[A\n",
            " 10%|█         | 277/2766 [00:01<00:10, 238.71it/s]\u001b[A\n",
            " 11%|█         | 301/2766 [00:01<00:10, 237.06it/s]\u001b[A\n",
            " 12%|█▏        | 325/2766 [00:01<00:10, 236.00it/s]\u001b[A\n",
            " 13%|█▎        | 350/2766 [00:01<00:10, 239.66it/s]\u001b[A\n",
            " 14%|█▎        | 374/2766 [00:01<00:09, 239.59it/s]\u001b[A\n",
            " 14%|█▍        | 398/2766 [00:01<00:09, 238.51it/s]\u001b[A\n",
            " 15%|█▌        | 422/2766 [00:01<00:09, 235.63it/s]\u001b[A\n",
            " 16%|█▌        | 446/2766 [00:01<00:09, 234.82it/s]\u001b[A\n",
            " 17%|█▋        | 471/2766 [00:01<00:09, 236.86it/s]\u001b[A\n",
            " 18%|█▊        | 496/2766 [00:02<00:09, 239.51it/s]\u001b[A\n",
            " 19%|█▉        | 520/2766 [00:02<00:09, 236.75it/s]\u001b[A\n",
            " 20%|█▉        | 544/2766 [00:02<00:09, 234.89it/s]\u001b[A\n",
            " 21%|██        | 568/2766 [00:02<00:09, 235.14it/s]\u001b[A\n",
            " 21%|██▏       | 593/2766 [00:02<00:09, 238.90it/s]\u001b[A\n",
            " 22%|██▏       | 617/2766 [00:02<00:09, 237.99it/s]\u001b[A\n",
            " 23%|██▎       | 641/2766 [00:02<00:08, 237.72it/s]\u001b[A\n",
            " 24%|██▍       | 665/2766 [00:02<00:08, 236.95it/s]\u001b[A\n",
            " 25%|██▍       | 690/2766 [00:02<00:08, 238.21it/s]\u001b[A\n",
            " 26%|██▌       | 715/2766 [00:02<00:08, 241.35it/s]\u001b[A\n",
            " 27%|██▋       | 740/2766 [00:03<00:08, 239.32it/s]\u001b[A\n",
            " 28%|██▊       | 765/2766 [00:03<00:08, 241.60it/s]\u001b[A\n",
            " 29%|██▊       | 790/2766 [00:03<00:08, 241.86it/s]\u001b[A\n",
            " 29%|██▉       | 815/2766 [00:03<00:08, 242.15it/s]\u001b[A\n",
            " 30%|███       | 840/2766 [00:03<00:08, 239.69it/s]\u001b[A\n",
            " 31%|███       | 864/2766 [00:03<00:07, 238.28it/s]\u001b[A\n",
            " 32%|███▏      | 889/2766 [00:03<00:07, 240.62it/s]\u001b[A\n",
            " 33%|███▎      | 914/2766 [00:03<00:07, 238.52it/s]\u001b[A\n",
            " 34%|███▍      | 940/2766 [00:03<00:07, 243.68it/s]\u001b[A\n",
            " 35%|███▍      | 965/2766 [00:04<00:07, 245.40it/s]\u001b[A\n",
            " 36%|███▌      | 990/2766 [00:04<00:07, 242.61it/s]\u001b[A\n",
            " 37%|███▋      | 1015/2766 [00:04<00:07, 242.15it/s]\u001b[A\n",
            " 38%|███▊      | 1040/2766 [00:04<00:07, 242.41it/s]\u001b[A\n",
            " 39%|███▊      | 1066/2766 [00:04<00:06, 245.61it/s]\u001b[A\n",
            " 39%|███▉      | 1092/2766 [00:04<00:06, 247.91it/s]\u001b[A\n",
            " 40%|████      | 1117/2766 [00:04<00:06, 244.04it/s]\u001b[A\n",
            " 41%|████▏     | 1142/2766 [00:04<00:06, 244.30it/s]\u001b[A\n",
            " 42%|████▏     | 1167/2766 [00:04<00:06, 242.27it/s]\u001b[A\n",
            " 43%|████▎     | 1193/2766 [00:04<00:06, 246.51it/s]\u001b[A\n",
            " 44%|████▍     | 1218/2766 [00:05<00:06, 246.38it/s]\u001b[A\n",
            " 45%|████▍     | 1244/2766 [00:05<00:06, 249.30it/s]\u001b[A\n",
            " 46%|████▌     | 1269/2766 [00:05<00:06, 248.46it/s]\u001b[A\n",
            " 47%|████▋     | 1296/2766 [00:05<00:05, 253.72it/s]\u001b[A\n",
            " 48%|████▊     | 1322/2766 [00:05<00:05, 251.02it/s]\u001b[A\n",
            " 49%|████▊     | 1348/2766 [00:05<00:05, 247.24it/s]\u001b[A\n",
            " 50%|████▉     | 1373/2766 [00:05<00:05, 245.54it/s]\u001b[A\n",
            " 51%|█████     | 1398/2766 [00:05<00:05, 240.68it/s]\u001b[A\n",
            " 51%|█████▏    | 1423/2766 [00:05<00:05, 239.14it/s]\u001b[A\n",
            " 52%|█████▏    | 1447/2766 [00:05<00:05, 237.00it/s]\u001b[A\n",
            " 53%|█████▎    | 1472/2766 [00:06<00:05, 239.68it/s]\u001b[A\n",
            " 54%|█████▍    | 1496/2766 [00:06<00:05, 239.69it/s]\u001b[A\n",
            " 55%|█████▍    | 1521/2766 [00:06<00:05, 240.30it/s]\u001b[A\n",
            " 56%|█████▌    | 1546/2766 [00:06<00:05, 242.96it/s]\u001b[A\n",
            " 57%|█████▋    | 1571/2766 [00:06<00:04, 241.54it/s]\u001b[A\n",
            " 58%|█████▊    | 1596/2766 [00:06<00:04, 238.54it/s]\u001b[A\n",
            " 59%|█████▊    | 1621/2766 [00:06<00:04, 241.78it/s]\u001b[A\n",
            " 60%|█████▉    | 1646/2766 [00:06<00:04, 242.10it/s]\u001b[A\n",
            " 60%|██████    | 1671/2766 [00:06<00:04, 239.92it/s]\u001b[A\n",
            " 61%|██████▏   | 1696/2766 [00:07<00:04, 236.91it/s]\u001b[A\n",
            " 62%|██████▏   | 1720/2766 [00:07<00:04, 235.19it/s]\u001b[A\n",
            " 63%|██████▎   | 1745/2766 [00:07<00:04, 238.75it/s]\u001b[A\n",
            " 64%|██████▍   | 1769/2766 [00:07<00:04, 236.71it/s]\u001b[A\n",
            " 65%|██████▍   | 1794/2766 [00:07<00:04, 239.98it/s]\u001b[A\n",
            " 66%|██████▌   | 1819/2766 [00:07<00:03, 238.74it/s]\u001b[A\n",
            " 67%|██████▋   | 1845/2766 [00:07<00:03, 242.72it/s]\u001b[A\n",
            " 68%|██████▊   | 1870/2766 [00:07<00:03, 243.49it/s]\u001b[A\n",
            " 69%|██████▊   | 1895/2766 [00:07<00:03, 243.42it/s]\u001b[A\n",
            " 69%|██████▉   | 1920/2766 [00:07<00:03, 245.18it/s]\u001b[A\n",
            " 70%|███████   | 1945/2766 [00:08<00:03, 242.72it/s]\u001b[A\n",
            " 71%|███████▏  | 1971/2766 [00:08<00:03, 247.78it/s]\u001b[A\n",
            " 72%|███████▏  | 1996/2766 [00:08<00:03, 246.71it/s]\u001b[A\n",
            " 73%|███████▎  | 2022/2766 [00:08<00:02, 249.07it/s]\u001b[A\n",
            " 74%|███████▍  | 2048/2766 [00:08<00:02, 249.56it/s]\u001b[A\n",
            " 75%|███████▍  | 2074/2766 [00:08<00:02, 250.39it/s]\u001b[A\n",
            " 76%|███████▌  | 2100/2766 [00:08<00:02, 249.43it/s]\u001b[A\n",
            " 77%|███████▋  | 2125/2766 [00:08<00:02, 245.91it/s]\u001b[A\n",
            " 78%|███████▊  | 2150/2766 [00:08<00:02, 244.99it/s]\u001b[A\n",
            " 79%|███████▊  | 2175/2766 [00:08<00:02, 243.29it/s]\u001b[A\n",
            " 80%|███████▉  | 2200/2766 [00:09<00:02, 243.65it/s]\u001b[A\n",
            " 80%|████████  | 2226/2766 [00:09<00:02, 247.08it/s]\u001b[A\n",
            " 81%|████████▏ | 2252/2766 [00:09<00:02, 248.16it/s]\u001b[A\n",
            " 82%|████████▏ | 2277/2766 [00:09<00:01, 248.63it/s]\u001b[A\n",
            " 83%|████████▎ | 2302/2766 [00:09<00:01, 245.50it/s]\u001b[A\n",
            " 84%|████████▍ | 2327/2766 [00:09<00:01, 243.49it/s]\u001b[A\n",
            " 85%|████████▌ | 2353/2766 [00:09<00:01, 247.68it/s]\u001b[A\n",
            " 86%|████████▌ | 2378/2766 [00:09<00:01, 243.23it/s]\u001b[A\n",
            " 87%|████████▋ | 2403/2766 [00:09<00:01, 242.97it/s]\u001b[A\n",
            " 88%|████████▊ | 2428/2766 [00:10<00:01, 241.92it/s]\u001b[A\n",
            " 89%|████████▊ | 2453/2766 [00:10<00:01, 241.64it/s]\u001b[A\n",
            " 90%|████████▉ | 2478/2766 [00:10<00:01, 240.86it/s]\u001b[A\n",
            " 90%|█████████ | 2503/2766 [00:10<00:01, 237.32it/s]\u001b[A\n",
            " 91%|█████████▏| 2528/2766 [00:10<00:00, 238.88it/s]\u001b[A\n",
            " 92%|█████████▏| 2552/2766 [00:10<00:00, 237.42it/s]\u001b[A\n",
            " 93%|█████████▎| 2576/2766 [00:10<00:00, 237.34it/s]\u001b[A\n",
            " 94%|█████████▍| 2601/2766 [00:10<00:00, 239.97it/s]\u001b[A\n",
            " 95%|█████████▍| 2626/2766 [00:10<00:00, 239.26it/s]\u001b[A\n",
            " 96%|█████████▌| 2650/2766 [00:10<00:00, 238.45it/s]\u001b[A\n",
            " 97%|█████████▋| 2674/2766 [00:11<00:00, 238.52it/s]\u001b[A\n",
            " 98%|█████████▊| 2699/2766 [00:11<00:00, 239.85it/s]\u001b[A\n",
            " 99%|█████████▊| 2725/2766 [00:11<00:00, 243.44it/s]\u001b[A\n",
            "100%|██████████| 2766/2766 [00:11<00:00, 242.01it/s]\n",
            "\n",
            "  0%|          | 0/2766 [00:00<?, ?it/s]\u001b[A\n",
            "  0%|          | 11/2766 [00:00<00:25, 108.31it/s]\u001b[A\n",
            "  1%|          | 24/2766 [00:00<00:23, 117.10it/s]\u001b[A\n",
            "  1%|▏         | 37/2766 [00:00<00:22, 120.53it/s]\u001b[A\n",
            "  2%|▏         | 50/2766 [00:00<00:22, 121.41it/s]\u001b[A\n",
            "  2%|▏         | 63/2766 [00:00<00:22, 120.44it/s]\u001b[A\n",
            "  3%|▎         | 76/2766 [00:00<00:22, 118.96it/s]\u001b[A\n",
            "  3%|▎         | 88/2766 [00:00<00:22, 117.37it/s]\u001b[A\n",
            "  4%|▎         | 101/2766 [00:00<00:22, 119.83it/s]\u001b[A\n",
            "  4%|▍         | 114/2766 [00:00<00:21, 121.28it/s]\u001b[A\n",
            "  5%|▍         | 127/2766 [00:01<00:21, 121.96it/s]\u001b[A\n",
            "  5%|▌         | 140/2766 [00:01<00:21, 122.79it/s]\u001b[A\n",
            "  6%|▌         | 153/2766 [00:01<00:21, 123.06it/s]\u001b[A\n",
            "  6%|▌         | 166/2766 [00:01<00:21, 123.39it/s]\u001b[A\n",
            "  6%|▋         | 179/2766 [00:01<00:21, 122.86it/s]\u001b[A\n",
            "  7%|▋         | 192/2766 [00:01<00:20, 123.35it/s]\u001b[A\n",
            "  7%|▋         | 205/2766 [00:01<00:20, 124.86it/s]\u001b[A\n",
            "  8%|▊         | 218/2766 [00:01<00:20, 124.96it/s]\u001b[A\n",
            "  8%|▊         | 231/2766 [00:01<00:20, 124.27it/s]\u001b[A\n",
            "  9%|▉         | 244/2766 [00:02<00:20, 124.14it/s]\u001b[A\n",
            "  9%|▉         | 257/2766 [00:02<00:20, 124.27it/s]\u001b[A\n",
            " 10%|▉         | 270/2766 [00:02<00:20, 124.02it/s]\u001b[A\n",
            " 10%|█         | 283/2766 [00:02<00:20, 124.13it/s]\u001b[A\n",
            " 11%|█         | 296/2766 [00:02<00:19, 124.27it/s]\u001b[A\n",
            " 11%|█         | 309/2766 [00:02<00:19, 125.08it/s]\u001b[A\n",
            " 12%|█▏        | 322/2766 [00:02<00:19, 125.23it/s]\u001b[A\n",
            " 12%|█▏        | 335/2766 [00:02<00:19, 126.02it/s]\u001b[A\n",
            " 13%|█▎        | 348/2766 [00:02<00:19, 125.18it/s]\u001b[A\n",
            " 13%|█▎        | 361/2766 [00:02<00:19, 124.85it/s]\u001b[A\n",
            " 14%|█▎        | 374/2766 [00:03<00:19, 124.72it/s]\u001b[A\n",
            " 14%|█▍        | 387/2766 [00:03<00:18, 125.67it/s]\u001b[A\n",
            " 14%|█▍        | 400/2766 [00:03<00:19, 122.35it/s]\u001b[A\n",
            " 15%|█▍        | 413/2766 [00:03<00:19, 119.76it/s]\u001b[A\n",
            " 15%|█▌        | 426/2766 [00:03<00:19, 117.81it/s]\u001b[A\n",
            " 16%|█▌        | 438/2766 [00:03<00:19, 117.16it/s]\u001b[A\n",
            " 16%|█▋        | 451/2766 [00:03<00:19, 118.21it/s]\u001b[A\n",
            " 17%|█▋        | 464/2766 [00:03<00:19, 119.89it/s]\u001b[A\n",
            " 17%|█▋        | 477/2766 [00:03<00:18, 121.55it/s]\u001b[A\n",
            " 18%|█▊        | 490/2766 [00:04<00:18, 122.59it/s]\u001b[A\n",
            " 18%|█▊        | 503/2766 [00:04<00:18, 123.70it/s]\u001b[A\n",
            " 19%|█▊        | 516/2766 [00:04<00:18, 124.04it/s]\u001b[A\n",
            " 19%|█▉        | 529/2766 [00:04<00:17, 124.33it/s]\u001b[A\n",
            " 20%|█▉        | 542/2766 [00:04<00:17, 124.53it/s]\u001b[A\n",
            " 20%|██        | 555/2766 [00:04<00:17, 124.35it/s]\u001b[A\n",
            " 21%|██        | 568/2766 [00:04<00:17, 124.51it/s]\u001b[A\n",
            " 21%|██        | 581/2766 [00:04<00:17, 124.52it/s]\u001b[A\n",
            " 21%|██▏       | 594/2766 [00:04<00:17, 125.17it/s]\u001b[A\n",
            " 22%|██▏       | 607/2766 [00:04<00:17, 125.16it/s]\u001b[A\n",
            " 22%|██▏       | 620/2766 [00:05<00:17, 124.82it/s]\u001b[A\n",
            " 23%|██▎       | 633/2766 [00:05<00:17, 124.51it/s]\u001b[A\n",
            " 23%|██▎       | 646/2766 [00:05<00:17, 123.88it/s]\u001b[A\n",
            " 24%|██▍       | 659/2766 [00:05<00:16, 124.13it/s]\u001b[A\n",
            " 24%|██▍       | 672/2766 [00:05<00:16, 123.70it/s]\u001b[A\n",
            " 25%|██▍       | 685/2766 [00:05<00:16, 122.89it/s]\u001b[A\n",
            " 25%|██▌       | 698/2766 [00:05<00:16, 122.14it/s]\u001b[A\n",
            " 26%|██▌       | 711/2766 [00:05<00:16, 122.25it/s]\u001b[A\n",
            " 26%|██▌       | 724/2766 [00:05<00:16, 121.81it/s]\u001b[A\n",
            " 27%|██▋       | 737/2766 [00:06<00:16, 121.30it/s]\u001b[A\n",
            " 27%|██▋       | 750/2766 [00:06<00:16, 122.52it/s]\u001b[A\n",
            " 28%|██▊       | 763/2766 [00:06<00:16, 122.41it/s]\u001b[A\n",
            " 28%|██▊       | 776/2766 [00:06<00:16, 123.25it/s]\u001b[A\n",
            " 29%|██▊       | 789/2766 [00:06<00:15, 123.60it/s]\u001b[A\n",
            " 29%|██▉       | 802/2766 [00:06<00:15, 123.37it/s]\u001b[A\n",
            " 29%|██▉       | 815/2766 [00:06<00:16, 121.78it/s]\u001b[A\n",
            " 30%|██▉       | 828/2766 [00:06<00:16, 120.56it/s]\u001b[A\n",
            " 30%|███       | 841/2766 [00:06<00:16, 119.43it/s]\u001b[A\n",
            " 31%|███       | 853/2766 [00:06<00:16, 119.54it/s]\u001b[A\n",
            " 31%|███▏      | 865/2766 [00:07<00:15, 119.10it/s]\u001b[A\n",
            " 32%|███▏      | 877/2766 [00:07<00:15, 119.10it/s]\u001b[A\n",
            " 32%|███▏      | 889/2766 [00:07<00:15, 119.27it/s]\u001b[A\n",
            " 33%|███▎      | 901/2766 [00:07<00:15, 118.96it/s]\u001b[A\n",
            " 33%|███▎      | 913/2766 [00:07<00:15, 119.10it/s]\u001b[A\n",
            " 33%|███▎      | 925/2766 [00:07<00:15, 119.18it/s]\u001b[A\n",
            " 34%|███▍      | 938/2766 [00:07<00:15, 119.87it/s]\u001b[A\n",
            " 34%|███▍      | 951/2766 [00:07<00:15, 120.30it/s]\u001b[A\n",
            " 35%|███▍      | 964/2766 [00:07<00:14, 120.95it/s]\u001b[A\n",
            " 35%|███▌      | 977/2766 [00:07<00:14, 121.24it/s]\u001b[A\n",
            " 36%|███▌      | 990/2766 [00:08<00:14, 121.68it/s]\u001b[A\n",
            " 36%|███▋      | 1003/2766 [00:08<00:14, 122.14it/s]\u001b[A\n",
            " 37%|███▋      | 1016/2766 [00:08<00:14, 121.14it/s]\u001b[A\n",
            " 37%|███▋      | 1029/2766 [00:08<00:14, 120.64it/s]\u001b[A\n",
            " 38%|███▊      | 1042/2766 [00:08<00:14, 121.27it/s]\u001b[A\n",
            " 38%|███▊      | 1055/2766 [00:08<00:14, 122.09it/s]\u001b[A\n",
            " 39%|███▊      | 1068/2766 [00:08<00:13, 121.67it/s]\u001b[A\n",
            " 39%|███▉      | 1081/2766 [00:08<00:13, 122.52it/s]\u001b[A\n",
            " 40%|███▉      | 1094/2766 [00:08<00:13, 123.00it/s]\u001b[A\n",
            " 40%|████      | 1107/2766 [00:09<00:13, 123.75it/s]\u001b[A\n",
            " 40%|████      | 1120/2766 [00:09<00:13, 123.82it/s]\u001b[A\n",
            " 41%|████      | 1133/2766 [00:09<00:13, 124.14it/s]\u001b[A\n",
            " 41%|████▏     | 1146/2766 [00:09<00:12, 124.71it/s]\u001b[A\n",
            " 42%|████▏     | 1159/2766 [00:09<00:12, 124.54it/s]\u001b[A\n",
            " 42%|████▏     | 1172/2766 [00:09<00:12, 124.39it/s]\u001b[A\n",
            " 43%|████▎     | 1185/2766 [00:09<00:12, 123.72it/s]\u001b[A\n",
            " 43%|████▎     | 1198/2766 [00:09<00:12, 123.78it/s]\u001b[A\n",
            " 44%|████▍     | 1211/2766 [00:09<00:12, 123.83it/s]\u001b[A\n",
            " 44%|████▍     | 1224/2766 [00:09<00:12, 123.78it/s]\u001b[A\n",
            " 45%|████▍     | 1237/2766 [00:10<00:12, 124.87it/s]\u001b[A\n",
            " 45%|████▌     | 1250/2766 [00:10<00:12, 124.70it/s]\u001b[A\n",
            " 46%|████▌     | 1263/2766 [00:10<00:12, 125.16it/s]\u001b[A\n",
            " 46%|████▌     | 1276/2766 [00:10<00:11, 124.70it/s]\u001b[A\n",
            " 47%|████▋     | 1289/2766 [00:10<00:11, 124.95it/s]\u001b[A\n",
            " 47%|████▋     | 1302/2766 [00:10<00:11, 124.95it/s]\u001b[A\n",
            " 48%|████▊     | 1315/2766 [00:10<00:11, 124.54it/s]\u001b[A\n",
            " 48%|████▊     | 1328/2766 [00:10<00:11, 124.83it/s]\u001b[A\n",
            " 48%|████▊     | 1341/2766 [00:10<00:11, 125.45it/s]\u001b[A\n",
            " 49%|████▉     | 1354/2766 [00:11<00:11, 125.75it/s]\u001b[A\n",
            " 49%|████▉     | 1367/2766 [00:11<00:11, 125.16it/s]\u001b[A\n",
            " 50%|████▉     | 1380/2766 [00:11<00:11, 124.90it/s]\u001b[A\n",
            " 50%|█████     | 1393/2766 [00:11<00:11, 124.45it/s]\u001b[A\n",
            " 51%|█████     | 1406/2766 [00:11<00:11, 123.07it/s]\u001b[A\n",
            " 51%|█████▏    | 1419/2766 [00:11<00:11, 121.93it/s]\u001b[A\n",
            " 52%|█████▏    | 1432/2766 [00:11<00:10, 121.97it/s]\u001b[A\n",
            " 52%|█████▏    | 1445/2766 [00:11<00:10, 122.40it/s]\u001b[A\n",
            " 53%|█████▎    | 1458/2766 [00:11<00:10, 123.29it/s]\u001b[A\n",
            " 53%|█████▎    | 1471/2766 [00:11<00:10, 122.86it/s]\u001b[A\n",
            " 54%|█████▎    | 1484/2766 [00:12<00:10, 123.80it/s]\u001b[A\n",
            " 54%|█████▍    | 1497/2766 [00:12<00:10, 124.72it/s]\u001b[A\n",
            " 55%|█████▍    | 1510/2766 [00:12<00:10, 124.79it/s]\u001b[A\n",
            " 55%|█████▌    | 1523/2766 [00:12<00:10, 123.33it/s]\u001b[A\n",
            " 56%|█████▌    | 1536/2766 [00:12<00:09, 123.35it/s]\u001b[A\n",
            " 56%|█████▌    | 1549/2766 [00:12<00:09, 124.09it/s]\u001b[A\n",
            " 56%|█████▋    | 1562/2766 [00:12<00:09, 124.41it/s]\u001b[A\n",
            " 57%|█████▋    | 1575/2766 [00:12<00:09, 125.11it/s]\u001b[A\n",
            " 57%|█████▋    | 1588/2766 [00:12<00:09, 125.29it/s]\u001b[A\n",
            " 58%|█████▊    | 1601/2766 [00:13<00:09, 124.40it/s]\u001b[A\n",
            " 58%|█████▊    | 1614/2766 [00:13<00:09, 123.39it/s]\u001b[A\n",
            " 59%|█████▉    | 1627/2766 [00:13<00:09, 122.83it/s]\u001b[A\n",
            " 59%|█████▉    | 1640/2766 [00:13<00:09, 122.62it/s]\u001b[A\n",
            " 60%|█████▉    | 1653/2766 [00:13<00:09, 122.46it/s]\u001b[A\n",
            " 60%|██████    | 1666/2766 [00:13<00:09, 122.17it/s]\u001b[A\n",
            " 61%|██████    | 1679/2766 [00:13<00:08, 122.19it/s]\u001b[A\n",
            " 61%|██████    | 1692/2766 [00:13<00:08, 122.57it/s]\u001b[A\n",
            " 62%|██████▏   | 1705/2766 [00:13<00:08, 123.32it/s]\u001b[A\n",
            " 62%|██████▏   | 1718/2766 [00:13<00:08, 123.09it/s]\u001b[A\n",
            " 63%|██████▎   | 1731/2766 [00:14<00:08, 124.04it/s]\u001b[A\n",
            " 63%|██████▎   | 1744/2766 [00:14<00:08, 124.64it/s]\u001b[A\n",
            " 64%|██████▎   | 1757/2766 [00:14<00:08, 124.48it/s]\u001b[A\n",
            " 64%|██████▍   | 1770/2766 [00:14<00:07, 125.09it/s]\u001b[A\n",
            " 64%|██████▍   | 1783/2766 [00:14<00:07, 125.11it/s]\u001b[A\n",
            " 65%|██████▍   | 1796/2766 [00:14<00:07, 125.19it/s]\u001b[A\n",
            " 65%|██████▌   | 1809/2766 [00:14<00:07, 124.22it/s]\u001b[A\n",
            " 66%|██████▌   | 1822/2766 [00:14<00:07, 124.41it/s]\u001b[A\n",
            " 66%|██████▋   | 1835/2766 [00:14<00:07, 124.93it/s]\u001b[A\n",
            " 67%|██████▋   | 1848/2766 [00:15<00:07, 124.86it/s]\u001b[A\n",
            " 67%|██████▋   | 1861/2766 [00:15<00:07, 125.48it/s]\u001b[A\n",
            " 68%|██████▊   | 1874/2766 [00:15<00:07, 125.37it/s]\u001b[A\n",
            " 68%|██████▊   | 1887/2766 [00:15<00:07, 125.21it/s]\u001b[A\n",
            " 69%|██████▊   | 1900/2766 [00:15<00:06, 125.16it/s]\u001b[A\n",
            " 69%|██████▉   | 1913/2766 [00:15<00:06, 124.20it/s]\u001b[A\n",
            " 70%|██████▉   | 1926/2766 [00:15<00:06, 124.93it/s]\u001b[A\n",
            " 70%|███████   | 1939/2766 [00:15<00:06, 124.09it/s]\u001b[A\n",
            " 71%|███████   | 1952/2766 [00:15<00:06, 124.22it/s]\u001b[A\n",
            " 71%|███████   | 1965/2766 [00:15<00:06, 123.63it/s]\u001b[A\n",
            " 72%|███████▏  | 1978/2766 [00:16<00:06, 123.06it/s]\u001b[A\n",
            " 72%|███████▏  | 1991/2766 [00:16<00:06, 121.76it/s]\u001b[A\n",
            " 72%|███████▏  | 2004/2766 [00:16<00:06, 122.56it/s]\u001b[A\n",
            " 73%|███████▎  | 2017/2766 [00:16<00:06, 123.83it/s]\u001b[A\n",
            " 73%|███████▎  | 2030/2766 [00:16<00:05, 124.24it/s]\u001b[A\n",
            " 74%|███████▍  | 2043/2766 [00:16<00:05, 124.73it/s]\u001b[A\n",
            " 74%|███████▍  | 2056/2766 [00:16<00:05, 123.16it/s]\u001b[A\n",
            " 75%|███████▍  | 2069/2766 [00:16<00:05, 122.45it/s]\u001b[A\n",
            " 75%|███████▌  | 2082/2766 [00:16<00:05, 122.24it/s]\u001b[A\n",
            " 76%|███████▌  | 2095/2766 [00:17<00:05, 123.56it/s]\u001b[A\n",
            " 76%|███████▌  | 2108/2766 [00:17<00:05, 123.91it/s]\u001b[A\n",
            " 77%|███████▋  | 2121/2766 [00:17<00:05, 123.59it/s]\u001b[A\n",
            " 77%|███████▋  | 2134/2766 [00:17<00:05, 124.75it/s]\u001b[A\n",
            " 78%|███████▊  | 2147/2766 [00:17<00:04, 124.11it/s]\u001b[A\n",
            " 78%|███████▊  | 2160/2766 [00:17<00:04, 124.31it/s]\u001b[A\n",
            " 79%|███████▊  | 2173/2766 [00:17<00:04, 123.62it/s]\u001b[A\n",
            " 79%|███████▉  | 2186/2766 [00:17<00:04, 122.65it/s]\u001b[A\n",
            " 80%|███████▉  | 2199/2766 [00:17<00:04, 121.65it/s]\u001b[A\n",
            " 80%|███████▉  | 2212/2766 [00:17<00:04, 122.10it/s]\u001b[A\n",
            " 80%|████████  | 2225/2766 [00:18<00:04, 122.18it/s]\u001b[A\n",
            " 81%|████████  | 2238/2766 [00:18<00:04, 122.09it/s]\u001b[A\n",
            " 81%|████████▏ | 2251/2766 [00:18<00:04, 121.53it/s]\u001b[A\n",
            " 82%|████████▏ | 2264/2766 [00:18<00:04, 122.85it/s]\u001b[A\n",
            " 82%|████████▏ | 2277/2766 [00:18<00:03, 123.35it/s]\u001b[A\n",
            " 83%|████████▎ | 2290/2766 [00:18<00:03, 123.17it/s]\u001b[A\n",
            " 83%|████████▎ | 2303/2766 [00:18<00:03, 123.27it/s]\u001b[A\n",
            " 84%|████████▎ | 2316/2766 [00:18<00:03, 123.61it/s]\u001b[A\n",
            " 84%|████████▍ | 2329/2766 [00:18<00:03, 123.89it/s]\u001b[A\n",
            " 85%|████████▍ | 2342/2766 [00:19<00:03, 123.92it/s]\u001b[A\n",
            " 85%|████████▌ | 2355/2766 [00:19<00:03, 124.53it/s]\u001b[A\n",
            " 86%|████████▌ | 2368/2766 [00:19<00:03, 124.63it/s]\u001b[A\n",
            " 86%|████████▌ | 2381/2766 [00:19<00:03, 125.93it/s]\u001b[A\n",
            " 87%|████████▋ | 2394/2766 [00:19<00:02, 125.62it/s]\u001b[A\n",
            " 87%|████████▋ | 2407/2766 [00:19<00:02, 124.99it/s]\u001b[A\n",
            " 87%|████████▋ | 2420/2766 [00:19<00:02, 124.00it/s]\u001b[A\n",
            " 88%|████████▊ | 2433/2766 [00:19<00:02, 123.61it/s]\u001b[A\n",
            " 88%|████████▊ | 2446/2766 [00:19<00:02, 122.36it/s]\u001b[A\n",
            " 89%|████████▉ | 2459/2766 [00:19<00:02, 122.36it/s]\u001b[A\n",
            " 89%|████████▉ | 2472/2766 [00:20<00:02, 122.97it/s]\u001b[A\n",
            " 90%|████████▉ | 2485/2766 [00:20<00:02, 123.53it/s]\u001b[A\n",
            " 90%|█████████ | 2498/2766 [00:20<00:02, 124.18it/s]\u001b[A\n",
            " 91%|█████████ | 2511/2766 [00:20<00:02, 124.38it/s]\u001b[A\n",
            " 91%|█████████▏| 2524/2766 [00:20<00:01, 124.04it/s]\u001b[A\n",
            " 92%|█████████▏| 2537/2766 [00:20<00:01, 124.54it/s]\u001b[A\n",
            " 92%|█████████▏| 2550/2766 [00:20<00:01, 123.82it/s]\u001b[A\n",
            " 93%|█████████▎| 2563/2766 [00:20<00:01, 123.53it/s]\u001b[A\n",
            " 93%|█████████▎| 2576/2766 [00:20<00:01, 123.50it/s]\u001b[A\n",
            " 94%|█████████▎| 2589/2766 [00:21<00:01, 123.47it/s]\u001b[A\n",
            " 94%|█████████▍| 2602/2766 [00:21<00:01, 124.59it/s]\u001b[A\n",
            " 95%|█████████▍| 2615/2766 [00:21<00:01, 124.30it/s]\u001b[A\n",
            " 95%|█████████▌| 2629/2766 [00:21<00:01, 126.27it/s]\u001b[A\n",
            " 96%|█████████▌| 2642/2766 [00:21<00:00, 125.59it/s]\u001b[A\n",
            " 96%|█████████▌| 2655/2766 [00:21<00:00, 123.73it/s]\u001b[A\n",
            " 96%|█████████▋| 2668/2766 [00:21<00:00, 123.47it/s]\u001b[A\n",
            " 97%|█████████▋| 2681/2766 [00:21<00:00, 122.21it/s]\u001b[A\n",
            " 97%|█████████▋| 2694/2766 [00:21<00:00, 122.50it/s]\u001b[A\n",
            " 98%|█████████▊| 2707/2766 [00:21<00:00, 122.02it/s]\u001b[A\n",
            " 98%|█████████▊| 2720/2766 [00:22<00:00, 122.64it/s]\u001b[A\n",
            " 99%|█████████▉| 2733/2766 [00:22<00:00, 123.06it/s]\u001b[A\n",
            " 99%|█████████▉| 2746/2766 [00:22<00:00, 122.75it/s]\u001b[A\n",
            "100%|██████████| 2766/2766 [00:22<00:00, 123.16it/s]\n"
          ]
        },
        {
          "name": "stdout",
          "output_type": "stream",
          "text": [
            "Chunk 1 done...\n"
          ]
        },
        {
          "name": "stderr",
          "output_type": "stream",
          "text": [
            "\r 17%|█▋        | 1/6 [11:46<58:51, 706.31s/it]"
          ]
        },
        {
          "name": "stdout",
          "output_type": "stream",
          "text": [
            "68984\n",
            "[1]\n"
          ]
        },
        {
          "name": "stderr",
          "output_type": "stream",
          "text": [
            "\n",
            "  0%|          | 0/306 [00:00<?, ?it/s]\u001b[A\n",
            "  6%|▌         | 19/306 [00:00<00:01, 187.89it/s]\u001b[A\n",
            " 12%|█▏        | 38/306 [00:00<00:02, 124.71it/s]\u001b[A\n",
            " 17%|█▋        | 52/306 [00:00<00:02, 98.73it/s] \u001b[A\n",
            " 24%|██▍       | 74/306 [00:00<00:01, 131.32it/s]\u001b[A\n",
            " 31%|███▏      | 96/306 [00:00<00:01, 155.20it/s]\u001b[A\n",
            " 39%|███▊      | 118/306 [00:00<00:01, 172.72it/s]\u001b[A\n",
            " 46%|████▌     | 140/306 [00:00<00:00, 185.60it/s]\u001b[A\n",
            " 53%|█████▎    | 161/306 [00:00<00:00, 191.10it/s]\u001b[A\n",
            " 59%|█████▉    | 182/306 [00:01<00:00, 196.52it/s]\u001b[A\n",
            " 67%|██████▋   | 205/306 [00:01<00:00, 204.30it/s]\u001b[A\n",
            " 75%|███████▍  | 228/306 [00:01<00:00, 210.19it/s]\u001b[A\n",
            " 82%|████████▏ | 250/306 [00:01<00:00, 211.66it/s]\u001b[A\n",
            " 89%|████████▉ | 272/306 [00:01<00:00, 211.45it/s]\u001b[A\n",
            "100%|██████████| 306/306 [00:01<00:00, 183.96it/s]\n",
            "\n",
            "  0%|          | 0/306 [00:00<?, ?it/s]\u001b[A\n",
            "  7%|▋         | 20/306 [00:00<00:01, 190.14it/s]\u001b[A\n",
            " 13%|█▎        | 41/306 [00:00<00:01, 201.03it/s]\u001b[A\n",
            " 20%|██        | 62/306 [00:00<00:01, 201.34it/s]\u001b[A\n",
            " 27%|██▋       | 84/306 [00:00<00:01, 205.79it/s]\u001b[A\n",
            " 35%|███▍      | 107/306 [00:00<00:00, 212.73it/s]\u001b[A\n",
            " 42%|████▏     | 129/306 [00:00<00:00, 206.81it/s]\u001b[A\n",
            " 49%|████▉     | 150/306 [00:00<00:00, 206.90it/s]\u001b[A\n",
            " 56%|█████▌    | 172/306 [00:00<00:00, 209.85it/s]\u001b[A\n",
            " 63%|██████▎   | 194/306 [00:00<00:00, 209.22it/s]\u001b[A\n",
            " 71%|███████   | 216/306 [00:01<00:00, 210.98it/s]\u001b[A\n",
            " 78%|███████▊  | 238/306 [00:01<00:00, 212.97it/s]\u001b[A\n",
            " 85%|████████▍ | 260/306 [00:01<00:00, 208.79it/s]\u001b[A\n",
            " 92%|█████████▏| 282/306 [00:01<00:00, 209.53it/s]\u001b[A\n",
            "100%|██████████| 306/306 [00:01<00:00, 208.73it/s]\n",
            "\n",
            "  0%|          | 0/306 [00:00<?, ?it/s]\u001b[A\n",
            "  4%|▍         | 12/306 [00:00<00:02, 110.13it/s]\u001b[A\n",
            "  8%|▊         | 24/306 [00:00<00:02, 109.12it/s]\u001b[A\n",
            " 11%|█▏        | 35/306 [00:00<00:02, 108.92it/s]\u001b[A\n",
            " 15%|█▌        | 46/306 [00:00<00:02, 108.46it/s]\u001b[A\n",
            " 19%|█▊        | 57/306 [00:00<00:02, 107.34it/s]\u001b[A\n",
            " 22%|██▏       | 68/306 [00:00<00:02, 107.50it/s]\u001b[A\n",
            " 26%|██▌       | 79/306 [00:00<00:02, 106.60it/s]\u001b[A\n",
            " 29%|██▉       | 90/306 [00:00<00:02, 105.66it/s]\u001b[A\n",
            " 33%|███▎      | 101/306 [00:00<00:01, 105.51it/s]\u001b[A\n",
            " 37%|███▋      | 112/306 [00:01<00:01, 105.95it/s]\u001b[A\n",
            " 40%|████      | 123/306 [00:01<00:01, 106.35it/s]\u001b[A\n",
            " 44%|████▍     | 134/306 [00:01<00:01, 106.61it/s]\u001b[A\n",
            " 47%|████▋     | 145/306 [00:01<00:01, 106.62it/s]\u001b[A\n",
            " 51%|█████     | 156/306 [00:01<00:01, 106.69it/s]\u001b[A\n",
            " 55%|█████▍    | 167/306 [00:01<00:01, 106.69it/s]\u001b[A\n",
            " 58%|█████▊    | 178/306 [00:01<00:01, 106.23it/s]\u001b[A\n",
            " 62%|██████▏   | 189/306 [00:01<00:01, 106.79it/s]\u001b[A\n",
            " 65%|██████▌   | 200/306 [00:01<00:00, 106.59it/s]\u001b[A\n",
            " 69%|██████▉   | 211/306 [00:01<00:00, 105.74it/s]\u001b[A\n",
            " 73%|███████▎  | 222/306 [00:02<00:00, 106.35it/s]\u001b[A\n",
            " 76%|███████▌  | 233/306 [00:02<00:00, 107.26it/s]\u001b[A\n",
            " 80%|████████  | 245/306 [00:02<00:00, 108.45it/s]\u001b[A\n",
            " 84%|████████▎ | 256/306 [00:02<00:00, 108.87it/s]\u001b[A\n",
            " 87%|████████▋ | 267/306 [00:02<00:00, 109.11it/s]\u001b[A\n",
            " 91%|█████████ | 279/306 [00:02<00:00, 109.86it/s]\u001b[A\n",
            " 95%|█████████▌| 291/306 [00:02<00:00, 110.20it/s]\u001b[A\n",
            "100%|██████████| 306/306 [00:02<00:00, 107.75it/s]\n",
            " 33%|███▎      | 2/6 [12:32<21:11, 317.90s/it]"
          ]
        },
        {
          "name": "stdout",
          "output_type": "stream",
          "text": [
            "72019\n",
            "[2]\n"
          ]
        },
        {
          "name": "stderr",
          "output_type": "stream",
          "text": [
            "\n",
            "  0%|          | 0/225 [00:00<?, ?it/s]\u001b[A\n",
            " 10%|█         | 23/225 [00:00<00:00, 226.86it/s]\u001b[A\n",
            " 20%|██        | 46/225 [00:00<00:01, 167.87it/s]\u001b[A\n",
            " 28%|██▊       | 64/225 [00:00<00:01, 148.20it/s]\u001b[A\n",
            " 39%|███▊      | 87/225 [00:00<00:00, 172.75it/s]\u001b[A\n",
            " 49%|████▉     | 110/225 [00:00<00:00, 189.40it/s]\u001b[A\n",
            " 59%|█████▉    | 133/225 [00:00<00:00, 200.61it/s]\u001b[A\n",
            " 70%|██████▉   | 157/225 [00:00<00:00, 210.06it/s]\u001b[A\n",
            " 80%|████████  | 180/225 [00:00<00:00, 213.44it/s]\u001b[A\n",
            " 90%|████████▉ | 202/225 [00:01<00:00, 214.58it/s]\u001b[A\n",
            "100%|██████████| 225/225 [00:01<00:00, 199.38it/s]\n",
            "\n",
            "  0%|          | 0/225 [00:00<?, ?it/s]\u001b[A\n",
            " 11%|█         | 24/225 [00:00<00:00, 236.68it/s]\u001b[A\n",
            " 21%|██▏       | 48/225 [00:00<00:00, 230.10it/s]\u001b[A\n",
            " 32%|███▏      | 72/225 [00:00<00:00, 231.24it/s]\u001b[A\n",
            " 43%|████▎     | 96/225 [00:00<00:00, 228.23it/s]\u001b[A\n",
            " 53%|█████▎    | 119/225 [00:00<00:00, 227.90it/s]\u001b[A\n",
            " 63%|██████▎   | 142/225 [00:00<00:00, 223.38it/s]\u001b[A\n",
            " 73%|███████▎  | 165/225 [00:00<00:00, 219.49it/s]\u001b[A\n",
            " 83%|████████▎ | 187/225 [00:00<00:00, 215.07it/s]\u001b[A\n",
            "100%|██████████| 225/225 [00:01<00:00, 220.40it/s]\n",
            "\n",
            "  0%|          | 0/225 [00:00<?, ?it/s]\u001b[A\n",
            "  5%|▍         | 11/225 [00:00<00:01, 107.44it/s]\u001b[A\n",
            " 10%|▉         | 22/225 [00:00<00:01, 105.12it/s]\u001b[A\n",
            " 15%|█▍        | 33/225 [00:00<00:01, 104.25it/s]\u001b[A\n",
            " 20%|█▉        | 44/225 [00:00<00:01, 103.47it/s]\u001b[A\n",
            " 24%|██▍       | 55/225 [00:00<00:01, 103.59it/s]\u001b[A\n",
            " 29%|██▉       | 66/225 [00:00<00:01, 102.33it/s]\u001b[A\n",
            " 34%|███▍      | 77/225 [00:00<00:01, 103.44it/s]\u001b[A\n",
            " 39%|███▉      | 88/225 [00:00<00:01, 103.52it/s]\u001b[A\n",
            " 44%|████▍     | 99/225 [00:00<00:01, 103.95it/s]\u001b[A\n",
            " 49%|████▉     | 110/225 [00:01<00:01, 103.44it/s]\u001b[A\n",
            " 54%|█████▍    | 121/225 [00:01<00:01, 103.60it/s]\u001b[A\n",
            " 59%|█████▊    | 132/225 [00:01<00:00, 105.28it/s]\u001b[A\n",
            " 64%|██████▎   | 143/225 [00:01<00:00, 104.56it/s]\u001b[A\n",
            " 68%|██████▊   | 154/225 [00:01<00:00, 104.83it/s]\u001b[A\n",
            " 73%|███████▎  | 165/225 [00:01<00:00, 105.33it/s]\u001b[A\n",
            " 78%|███████▊  | 176/225 [00:01<00:00, 104.74it/s]\u001b[A\n",
            " 83%|████████▎ | 187/225 [00:01<00:00, 104.83it/s]\u001b[A\n",
            " 88%|████████▊ | 198/225 [00:01<00:00, 105.94it/s]\u001b[A\n",
            " 93%|█████████▎| 209/225 [00:01<00:00, 106.09it/s]\u001b[A\n",
            "100%|██████████| 225/225 [00:02<00:00, 104.61it/s]\n",
            " 50%|█████     | 3/6 [13:06<09:24, 188.17s/it]"
          ]
        },
        {
          "name": "stdout",
          "output_type": "stream",
          "text": [
            "75822\n",
            "[3]\n"
          ]
        },
        {
          "name": "stderr",
          "output_type": "stream",
          "text": [
            "\n",
            "  0%|          | 0/280 [00:00<?, ?it/s]\u001b[A\n",
            "  9%|▉         | 25/280 [00:00<00:01, 244.42it/s]\u001b[A\n",
            " 18%|█▊        | 50/280 [00:00<00:01, 174.76it/s]\u001b[A\n",
            " 26%|██▌       | 73/280 [00:00<00:01, 160.21it/s]\u001b[A\n",
            " 35%|███▍      | 97/280 [00:00<00:01, 182.88it/s]\u001b[A\n",
            " 43%|████▎     | 121/280 [00:00<00:00, 199.49it/s]\u001b[A\n",
            " 51%|█████▏    | 144/280 [00:00<00:00, 207.53it/s]\u001b[A\n",
            " 60%|██████    | 168/280 [00:00<00:00, 216.70it/s]\u001b[A\n",
            " 68%|██████▊   | 191/280 [00:00<00:00, 220.48it/s]\u001b[A\n",
            " 76%|███████▋  | 214/280 [00:01<00:00, 222.69it/s]\u001b[A\n",
            " 85%|████████▌ | 239/280 [00:01<00:00, 229.08it/s]\u001b[A\n",
            "100%|██████████| 280/280 [00:01<00:00, 213.52it/s]\n",
            "\n",
            "  0%|          | 0/280 [00:00<?, ?it/s]\u001b[A\n",
            "  9%|▊         | 24/280 [00:00<00:01, 237.80it/s]\u001b[A\n",
            " 17%|█▋        | 48/280 [00:00<00:00, 235.43it/s]\u001b[A\n",
            " 26%|██▌       | 72/280 [00:00<00:00, 233.45it/s]\u001b[A\n",
            " 34%|███▍      | 96/280 [00:00<00:00, 234.77it/s]\u001b[A\n",
            " 43%|████▎     | 120/280 [00:00<00:00, 233.02it/s]\u001b[A\n",
            " 52%|█████▏    | 145/280 [00:00<00:00, 235.72it/s]\u001b[A\n",
            " 60%|██████    | 169/280 [00:00<00:00, 235.74it/s]\u001b[A\n",
            " 70%|███████   | 196/280 [00:00<00:00, 244.13it/s]\u001b[A\n",
            " 79%|███████▉  | 221/280 [00:00<00:00, 240.33it/s]\u001b[A\n",
            " 88%|████████▊ | 246/280 [00:01<00:00, 241.20it/s]\u001b[A\n",
            "100%|██████████| 280/280 [00:01<00:00, 236.83it/s]\n",
            "\n",
            "  0%|          | 0/280 [00:00<?, ?it/s]\u001b[A\n",
            "  4%|▍         | 12/280 [00:00<00:02, 114.21it/s]\u001b[A\n",
            "  9%|▊         | 24/280 [00:00<00:02, 112.40it/s]\u001b[A\n",
            " 13%|█▎        | 36/280 [00:00<00:02, 112.24it/s]\u001b[A\n",
            " 17%|█▋        | 48/280 [00:00<00:02, 111.64it/s]\u001b[A\n",
            " 21%|██▏       | 60/280 [00:00<00:01, 111.75it/s]\u001b[A\n",
            " 26%|██▌       | 72/280 [00:00<00:01, 112.55it/s]\u001b[A\n",
            " 30%|███       | 84/280 [00:00<00:01, 112.18it/s]\u001b[A\n",
            " 34%|███▍      | 96/280 [00:00<00:01, 112.21it/s]\u001b[A\n",
            " 39%|███▊      | 108/280 [00:00<00:01, 111.88it/s]\u001b[A\n",
            " 43%|████▎     | 120/280 [00:01<00:01, 112.17it/s]\u001b[A\n",
            " 47%|████▋     | 132/280 [00:01<00:01, 110.62it/s]\u001b[A\n",
            " 51%|█████▏    | 144/280 [00:01<00:01, 110.49it/s]\u001b[A\n",
            " 56%|█████▌    | 156/280 [00:01<00:01, 111.72it/s]\u001b[A\n",
            " 60%|██████    | 168/280 [00:01<00:01, 111.88it/s]\u001b[A\n",
            " 64%|██████▍   | 180/280 [00:01<00:00, 110.81it/s]\u001b[A\n",
            " 69%|██████▊   | 192/280 [00:01<00:00, 110.94it/s]\u001b[A\n",
            " 73%|███████▎  | 204/280 [00:01<00:00, 110.88it/s]\u001b[A\n",
            " 77%|███████▋  | 216/280 [00:01<00:00, 110.63it/s]\u001b[A\n",
            " 81%|████████▏ | 228/280 [00:02<00:00, 110.26it/s]\u001b[A\n",
            " 86%|████████▌ | 240/280 [00:02<00:00, 110.24it/s]\u001b[A\n",
            " 90%|█████████ | 252/280 [00:02<00:00, 109.77it/s]\u001b[A\n",
            " 94%|█████████▍| 263/280 [00:02<00:00, 108.83it/s]\u001b[A\n",
            "100%|██████████| 280/280 [00:02<00:00, 110.74it/s]\n",
            " 67%|██████▋   | 4/6 [13:46<04:19, 129.64s/it]"
          ]
        },
        {
          "name": "stdout",
          "output_type": "stream",
          "text": [
            "80253\n",
            "[4]\n"
          ]
        },
        {
          "name": "stderr",
          "output_type": "stream",
          "text": [
            "\n",
            "  0%|          | 0/298 [00:00<?, ?it/s]\u001b[A\n",
            "  7%|▋         | 22/298 [00:00<00:01, 217.48it/s]\u001b[A\n",
            " 15%|█▍        | 44/298 [00:00<00:01, 158.17it/s]\u001b[A\n",
            " 20%|██        | 61/298 [00:00<00:01, 141.02it/s]\u001b[A\n",
            " 29%|██▊       | 85/298 [00:00<00:01, 171.40it/s]\u001b[A\n",
            " 36%|███▌      | 107/298 [00:00<00:01, 186.27it/s]\u001b[A\n",
            " 44%|████▍     | 131/298 [00:00<00:00, 201.13it/s]\u001b[A\n",
            " 52%|█████▏    | 156/298 [00:00<00:00, 215.09it/s]\u001b[A\n",
            " 60%|██████    | 179/298 [00:00<00:00, 219.37it/s]\u001b[A\n",
            " 68%|██████▊   | 203/298 [00:01<00:00, 224.78it/s]\u001b[A\n",
            " 76%|███████▌  | 227/298 [00:01<00:00, 226.68it/s]\u001b[A\n",
            " 84%|████████▍ | 250/298 [00:01<00:00, 225.81it/s]\u001b[A\n",
            " 92%|█████████▏| 273/298 [00:01<00:00, 226.74it/s]\u001b[A\n",
            "100%|██████████| 298/298 [00:01<00:00, 207.64it/s]\n",
            "\n",
            "  0%|          | 0/298 [00:00<?, ?it/s]\u001b[A\n",
            "  8%|▊         | 23/298 [00:00<00:01, 224.23it/s]\u001b[A\n",
            " 15%|█▌        | 46/298 [00:00<00:01, 223.14it/s]\u001b[A\n",
            " 23%|██▎       | 70/298 [00:00<00:00, 230.46it/s]\u001b[A\n",
            " 32%|███▏      | 94/298 [00:00<00:00, 229.35it/s]\u001b[A\n",
            " 39%|███▉      | 117/298 [00:00<00:00, 226.67it/s]\u001b[A\n",
            " 47%|████▋     | 140/298 [00:00<00:00, 225.92it/s]\u001b[A\n",
            " 55%|█████▍    | 163/298 [00:00<00:00, 223.20it/s]\u001b[A\n",
            " 62%|██████▏   | 186/298 [00:00<00:00, 220.39it/s]\u001b[A\n",
            " 70%|███████   | 209/298 [00:00<00:00, 220.13it/s]\u001b[A\n",
            " 78%|███████▊  | 232/298 [00:01<00:00, 222.15it/s]\u001b[A\n",
            " 86%|████████▌ | 255/298 [00:01<00:00, 219.64it/s]\u001b[A\n",
            "100%|██████████| 298/298 [00:01<00:00, 222.65it/s]\n",
            "\n",
            "  0%|          | 0/298 [00:00<?, ?it/s]\u001b[A\n",
            "  4%|▍         | 12/298 [00:00<00:02, 114.65it/s]\u001b[A\n",
            "  8%|▊         | 24/298 [00:00<00:02, 111.35it/s]\u001b[A\n",
            " 12%|█▏        | 36/298 [00:00<00:02, 110.21it/s]\u001b[A\n",
            " 16%|█▌        | 48/298 [00:00<00:02, 109.93it/s]\u001b[A\n",
            " 20%|█▉        | 59/298 [00:00<00:02, 109.66it/s]\u001b[A\n",
            " 24%|██▍       | 71/298 [00:00<00:02, 109.90it/s]\u001b[A\n",
            " 28%|██▊       | 82/298 [00:00<00:01, 109.62it/s]\u001b[A\n",
            " 31%|███       | 93/298 [00:00<00:01, 109.07it/s]\u001b[A\n",
            " 35%|███▌      | 105/298 [00:00<00:01, 109.61it/s]\u001b[A\n",
            " 39%|███▉      | 116/298 [00:01<00:01, 109.34it/s]\u001b[A\n",
            " 43%|████▎     | 127/298 [00:01<00:01, 108.81it/s]\u001b[A\n",
            " 46%|████▋     | 138/298 [00:01<00:01, 108.15it/s]\u001b[A\n",
            " 50%|█████     | 149/298 [00:01<00:01, 106.46it/s]\u001b[A\n",
            " 54%|█████▎    | 160/298 [00:01<00:01, 106.79it/s]\u001b[A\n",
            " 57%|█████▋    | 171/298 [00:01<00:01, 106.23it/s]\u001b[A\n",
            " 61%|██████    | 182/298 [00:01<00:01, 106.93it/s]\u001b[A\n",
            " 65%|██████▍   | 193/298 [00:01<00:00, 107.02it/s]\u001b[A\n",
            " 68%|██████▊   | 204/298 [00:01<00:00, 107.89it/s]\u001b[A\n",
            " 72%|███████▏  | 215/298 [00:01<00:00, 108.41it/s]\u001b[A\n",
            " 76%|███████▌  | 226/298 [00:02<00:00, 107.28it/s]\u001b[A\n",
            " 80%|███████▉  | 237/298 [00:02<00:00, 107.68it/s]\u001b[A\n",
            " 83%|████████▎ | 248/298 [00:02<00:00, 108.19it/s]\u001b[A\n",
            " 87%|████████▋ | 259/298 [00:02<00:00, 108.70it/s]\u001b[A\n",
            " 91%|█████████ | 270/298 [00:02<00:00, 108.31it/s]\u001b[A\n",
            " 94%|█████████▍| 281/298 [00:02<00:00, 108.49it/s]\u001b[A\n",
            "100%|██████████| 298/298 [00:02<00:00, 108.64it/s]\n",
            " 83%|████████▎ | 5/6 [14:29<01:38, 98.39s/it] "
          ]
        },
        {
          "name": "stdout",
          "output_type": "stream",
          "text": [
            "72035\n",
            "[5]\n"
          ]
        },
        {
          "name": "stderr",
          "output_type": "stream",
          "text": [
            "\n",
            "  0%|          | 0/178 [00:00<?, ?it/s]\u001b[A\n",
            " 13%|█▎        | 24/178 [00:00<00:00, 231.89it/s]\u001b[A\n",
            " 27%|██▋       | 48/178 [00:00<00:00, 176.27it/s]\u001b[A\n",
            " 38%|███▊      | 67/178 [00:00<00:00, 161.01it/s]\u001b[A\n",
            " 50%|█████     | 89/178 [00:00<00:00, 177.62it/s]\u001b[A\n",
            " 63%|██████▎   | 113/178 [00:00<00:00, 196.81it/s]\u001b[A\n",
            " 78%|███████▊  | 138/178 [00:00<00:00, 211.13it/s]\u001b[A\n",
            "100%|██████████| 178/178 [00:00<00:00, 203.60it/s]\n",
            "\n",
            "  0%|          | 0/178 [00:00<?, ?it/s]\u001b[A\n",
            " 14%|█▍        | 25/178 [00:00<00:00, 240.54it/s]\u001b[A\n",
            " 28%|██▊       | 50/178 [00:00<00:00, 235.23it/s]\u001b[A\n",
            " 42%|████▏     | 74/178 [00:00<00:00, 223.04it/s]\u001b[A\n",
            " 54%|█████▍    | 97/178 [00:00<00:00, 218.99it/s]\u001b[A\n",
            " 67%|██████▋   | 119/178 [00:00<00:00, 218.18it/s]\u001b[A\n",
            " 79%|███████▉  | 141/178 [00:00<00:00, 216.85it/s]\u001b[A\n",
            "100%|██████████| 178/178 [00:00<00:00, 220.95it/s]\n",
            "\n",
            "  0%|          | 0/178 [00:00<?, ?it/s]\u001b[A\n",
            "  7%|▋         | 12/178 [00:00<00:01, 118.54it/s]\u001b[A\n",
            " 13%|█▎        | 24/178 [00:00<00:01, 118.38it/s]\u001b[A\n",
            " 20%|██        | 36/178 [00:00<00:01, 115.89it/s]\u001b[A\n",
            " 28%|██▊       | 49/178 [00:00<00:01, 117.67it/s]\u001b[A\n",
            " 34%|███▍      | 61/178 [00:00<00:01, 116.85it/s]\u001b[A\n",
            " 41%|████      | 73/178 [00:00<00:00, 117.46it/s]\u001b[A\n",
            " 48%|████▊     | 86/178 [00:00<00:00, 118.50it/s]\u001b[A\n",
            " 55%|█████▌    | 98/178 [00:00<00:00, 116.83it/s]\u001b[A\n",
            " 62%|██████▏   | 110/178 [00:00<00:00, 116.98it/s]\u001b[A\n",
            " 69%|██████▊   | 122/178 [00:01<00:00, 116.05it/s]\u001b[A\n",
            " 75%|███████▌  | 134/178 [00:01<00:00, 116.25it/s]\u001b[A\n",
            " 82%|████████▏ | 146/178 [00:01<00:00, 116.24it/s]\u001b[A\n",
            " 89%|████████▉ | 158/178 [00:01<00:00, 116.17it/s]\u001b[A\n",
            "100%|██████████| 178/178 [00:01<00:00, 116.78it/s]\n",
            "100%|██████████| 6/6 [15:14<00:00, 152.45s/it]\n"
          ]
        }
      ],
      "source": [
        "for i in tqdm(range(WEEK_NUM)):\n",
        "    if i == 0 and not TEST:\n",
        "        continue\n",
        "    candidate = pd.read_parquet(data_dir/\"interim\"/VERSION_NAME/f\"week{i}_candidate.pqt\")\n",
        "    if i == 0:\n",
        "        chunk_size = int(candidate.shape[0] * 0.5)\n",
        "        for chunk,batch in enumerate(range(0, candidate.shape[0], chunk_size)):\n",
        "            sub_candidate = candidate.iloc[batch:batch+chunk_size-1]\n",
        "            # * merge features\n",
        "            sub_candidate = merge_week_data(data, inter, i, sub_candidate)\n",
        "            sub_candidate['article_id'] = sub_candidate['article_id'].astype(int)\n",
        "            sub_candidate['customer_id'] = sub_candidate['customer_id'].astype(int)\n",
        "            # * merge DSSM user and item embeddings\n",
        "            sub_candidate[\"dssm_similarity\"] = calc_embd_similarity(sub_candidate, dssm_user_embd, dssm_item_embd)\n",
        "            # * merge YouTubeDNN user and item embeddings\n",
        "            sub_candidate[\"yt_similarity\"] = calc_embd_similarity(sub_candidate, yt_user_embd, yt_item_embd)\n",
        "            # * merge Word2Vector user and item embeddings\n",
        "            sub_candidate[\"wv_similarity\"] = calc_embd_similarity(sub_candidate, w2v_user_embd, w2v_item_embd, sub=False)\n",
        "            print(f\"Chunk {chunk} done...\")\n",
        "            sub_candidate.to_parquet(data_dir/\"processed\"/VERSION_NAME/f\"week{i}_candidate_{chunk}.pqt\")\n",
        "    else:\n",
        "        # * merge features\n",
        "        candidate = merge_week_data(data, inter, i, candidate)\n",
        "        print(candidate['week'].unique())\n",
        "        # * merge DSSM user and item embeddings\n",
        "        candidate[\"dssm_similarity\"] = calc_embd_similarity(candidate, dssm_user_embd, dssm_item_embd)\n",
        "        # * merge YouTubeDNN user and item embeddings\n",
        "        candidate[\"yt_similarity\"] = calc_embd_similarity(candidate, yt_user_embd, yt_item_embd)\n",
        "        candidate[\"wv_similarity\"] = calc_embd_similarity(candidate, w2v_user_embd, w2v_item_embd, sub=False)\n",
        "    candidate.to_parquet(data_dir/\"processed\"/VERSION_NAME/f\"week{i}_candidate.pqt\")"
      ]
    },
    {
      "cell_type": "code",
      "execution_count": null,
      "metadata": {
        "colab": {
          "base_uri": "https://localhost:8080/"
        },
        "id": "sWyKQBAt3x--",
        "outputId": "fbf329ec-67aa-4074-f106-f90285bf1d58"
      },
      "outputs": [
        {
          "data": {
            "text/plain": [
              "858"
            ]
          },
          "execution_count": 18,
          "metadata": {},
          "output_type": "execute_result"
        }
      ],
      "source": [
        "del dssm_user_embd, dssm_item_embd, yt_user_embd, yt_item_embd\n",
        "gc.collect()"
      ]
    },
    {
      "cell_type": "markdown",
      "metadata": {
        "id": "7Zml-cxryoU_"
      },
      "source": [
        "## Ranking\n"
      ]
    },
    {
      "cell_type": "code",
      "execution_count": null,
      "metadata": {
        "colab": {
          "base_uri": "https://localhost:8080/"
        },
        "id": "PsmE6rgjdtIr",
        "outputId": "33501621-403f-4a60-f351-2a112cb1dfdb"
      },
      "outputs": [
        {
          "name": "stderr",
          "output_type": "stream",
          "text": [
            "100%|██████████| 5/5 [00:06<00:00,  1.36s/it]\n"
          ]
        }
      ],
      "source": [
        "candidates = {}\n",
        "labels = {}\n",
        "for i in tqdm(range(1, WEEK_NUM)):\n",
        "    candidates[i] = pd.read_parquet(data_dir/\"processed\"/VERSION_NAME/f\"week{i}_candidate.pqt\")\n",
        "    labels[i] = pd.read_parquet(data_dir/\"processed\"/VERSION_NAME/f\"week{i}_label.pqt\")    "
      ]
    },
    {
      "cell_type": "code",
      "execution_count": null,
      "metadata": {
        "id": "xWqYwCbsdtIr"
      },
      "outputs": [],
      "source": [
        "feats = [\n",
        "    x\n",
        "    for x in candidates[1].columns\n",
        "    if x\n",
        "    not in [\n",
        "        \"label\",\n",
        "        \"sales_channel_id\",\n",
        "        \"t_dat\",\n",
        "        \"week\",\n",
        "    ]\n",
        "]\n",
        "cat_features = [\n",
        "    \"customer_id\",\n",
        "    \"article_id\",\n",
        "    \"product_code\",\n",
        "    \"FN\",\n",
        "    \"Active\",\n",
        "    \"club_member_status\",\n",
        "    \"fashion_news_frequency\",\n",
        "    \"age\",\n",
        "    \"product_type_no\",\n",
        "    \"product_group_name\",\n",
        "    \"graphical_appearance_no\",\n",
        "    \"colour_group_code\",\n",
        "    \"perceived_colour_value_id\",\n",
        "    \"perceived_colour_master_id\",\n",
        "\n",
        "    \"user_gender\",\n",
        "    \"article_gender\",\n",
        "    \"season_type\"\n",
        "]"
      ]
    },
    {
      "cell_type": "code",
      "execution_count": null,
      "metadata": {
        "colab": {
          "base_uri": "https://localhost:8080/"
        },
        "id": "cweXHQMrJR4I",
        "outputId": "4b89aacb-d149-4284-f0f4-1bd3cf472500"
      },
      "outputs": [
        {
          "name": "stderr",
          "output_type": "stream",
          "text": [
            "100%|██████████| 17/17 [00:00<00:00, 18.05it/s]\n"
          ]
        }
      ],
      "source": [
        "# * Convert categorical featues as `CategoricalDtype`\n",
        "cate_dict = {}        \n",
        "for feat in tqdm(cat_features):\n",
        "    if feat in data['user'].columns:\n",
        "        value_set = set(data['user'][feat].unique())\n",
        "    elif feat in data['item'].columns:\n",
        "        value_set = set(data['item'][feat].unique())\n",
        "    else:\n",
        "        value_set = set(data['inter'][feat].unique())\n",
        "    cate_dict[feat] = CategoricalDtype(categories=value_set)"
      ]
    },
    {
      "cell_type": "code",
      "execution_count": null,
      "metadata": {
        "id": "G-fVjg3JT_OE"
      },
      "outputs": [],
      "source": [
        "full_data = pd.concat([candidates[i] for i in range(1, WEEK_NUM)], ignore_index=True)"
      ]
    },
    {
      "cell_type": "markdown",
      "metadata": {
        "id": "aLttJ3CtJ39a"
      },
      "source": [
        "### Extra Features"
      ]
    },
    {
      "cell_type": "code",
      "execution_count": null,
      "metadata": {
        "id": "lcsSONupJ9zO"
      },
      "outputs": [],
      "source": [
        "inter = data['inter']\n",
        "inter = inter[inter['t_dat']<'2020-08-19'] # * start date of the last valid week\n",
        "inter['week'] = (pd.to_datetime('2020-09-29') - pd.to_datetime(inter['t_dat'])).dt.days // 7\n",
        "inter = inter.merge(data['item'][[\"article_id\", \"product_code\"]], on=\"article_id\", how=\"left\")"
      ]
    },
    {
      "cell_type": "code",
      "execution_count": null,
      "metadata": {
        "id": "Z3vaGE2nJ-zT"
      },
      "outputs": [],
      "source": [
        "tmp = inter.groupby('article_id').week.mean()\n",
        "full_data['article_time_mean'] = full_data['article_id'].map(tmp)\n",
        "\n",
        "tmp = inter.groupby('customer_id').week.nth(-1)\n",
        "full_data['customer_id_last_time'] = full_data['customer_id'].map(tmp)\n",
        "\n",
        "tmp = inter.groupby('customer_id').week.nth(0)\n",
        "full_data['customer_id_first_time'] = full_data['customer_id'].map(tmp)\n",
        "\n",
        "tmp = inter.groupby('customer_id').week.mean()\n",
        "full_data['customer_id_time_mean'] = full_data['customer_id'].map(tmp)\n",
        "\n",
        "full_data['customer_id_gap'] = full_data['customer_id_first_time'] - full_data['customer_id_last_time']"
      ]
    },
    {
      "cell_type": "code",
      "execution_count": null,
      "metadata": {
        "id": "RYEfzdHmczFn"
      },
      "outputs": [],
      "source": [
        "feats += [\n",
        "    'article_time_mean', \n",
        "    'customer_id_last_time', \n",
        "    'customer_id_first_time', \n",
        "    'customer_id_time_mean',\n",
        "    'customer_id_gap'\n",
        "]"
      ]
    },
    {
      "cell_type": "code",
      "execution_count": null,
      "metadata": {
        "colab": {
          "base_uri": "https://localhost:8080/"
        },
        "id": "psZK0985KCnl",
        "outputId": "7d67a323-97ec-4435-ec61-3cb53bc634e5"
      },
      "outputs": [
        {
          "data": {
            "text/plain": [
              "450"
            ]
          },
          "execution_count": 19,
          "metadata": {},
          "output_type": "execute_result"
        }
      ],
      "source": [
        "del tmp\n",
        "gc.collect()"
      ]
    },
    {
      "cell_type": "markdown",
      "metadata": {
        "id": "3RojtbK9GGQU"
      },
      "source": [
        "### Train\n"
      ]
    },
    {
      "cell_type": "code",
      "execution_count": null,
      "metadata": {
        "colab": {
          "base_uri": "https://localhost:8080/"
        },
        "id": "4UeLfwqRc4iQ",
        "outputId": "78f0b549-b400-4773-be89-c53272c85c37"
      },
      "outputs": [
        {
          "name": "stderr",
          "output_type": "stream",
          "text": [
            "100%|██████████| 17/17 [00:10<00:00,  1.66it/s]\n"
          ]
        }
      ],
      "source": [
        "for feat in tqdm(cat_features):\n",
        "    full_data[feat] = full_data[feat].astype(cate_dict[feat])"
      ]
    },
    {
      "cell_type": "code",
      "execution_count": null,
      "metadata": {
        "colab": {
          "base_uri": "https://localhost:8080/"
        },
        "id": "rJIW8LACUCmg",
        "outputId": "8f48a53a-eedf-4e01-cc6c-4230bcac7111"
      },
      "outputs": [
        {
          "data": {
            "text/plain": [
              "88"
            ]
          },
          "execution_count": 21,
          "metadata": {},
          "output_type": "execute_result"
        }
      ],
      "source": [
        "train = full_data.loc[full_data['week']>1]\n",
        "valid = full_data.loc[full_data['week']==1]\n",
        "\n",
        "del full_data\n",
        "gc.collect()"
      ]
    },
    {
      "cell_type": "code",
      "execution_count": null,
      "metadata": {
        "id": "nTm9bz6vR6T4"
      },
      "outputs": [],
      "source": [
        "params = {\n",
        "    \"objective\": \"binary\",#\"lambdarank\",\n",
        "    \"boosting_type\": \"gbdt\",\n",
        "    \"metric\": \"auc\",#\"map\",\n",
        "    \"max_depth\": 8,\n",
        "    \"num_leaves\": 128,\n",
        "    \"learning_rate\": 0.03,\n",
        "\n",
        "    \"verbose\": -1,\n",
        "    \"eval_at\": 12,\n",
        "}"
      ]
    },
    {
      "cell_type": "code",
      "execution_count": null,
      "metadata": {
        "id": "G2wtl4vo9F8J"
      },
      "outputs": [],
      "source": [
        "def train_rank_model(train, valid, train_group, valid_group):\n",
        "\n",
        "    train_set = lgb.Dataset(\n",
        "        data=train[feats],\n",
        "        label=train[\"label\"],\n",
        "        group=train_group,\n",
        "        feature_name=feats,\n",
        "        categorical_feature=cat_features,\n",
        "        params=params,\n",
        "    )\n",
        "\n",
        "    valid_set = lgb.Dataset(\n",
        "        data=valid[feats],\n",
        "        label=valid[\"label\"],\n",
        "        group=valid_group,\n",
        "        feature_name=feats,\n",
        "        categorical_feature=cat_features,\n",
        "        params=params,\n",
        "    )\n",
        "\n",
        "    ranker = lgb.train(\n",
        "        params,\n",
        "        train_set,\n",
        "        num_boost_round=300,\n",
        "        valid_sets=[valid_set],\n",
        "        early_stopping_rounds=30,\n",
        "        verbose_eval=10,\n",
        "    )\n",
        "    ranker.save_model(\n",
        "        model_dir / f\"lgb_small_ranker.model\",\n",
        "        num_iteration=ranker.best_iteration,\n",
        "    )\n",
        "    return ranker"
      ]
    },
    {
      "cell_type": "code",
      "execution_count": null,
      "metadata": {
        "id": "01ZUO87Gg_-e"
      },
      "outputs": [],
      "source": [
        "def train_binary_model(train, valid):\n",
        "\n",
        "    train_set = lgb.Dataset(\n",
        "        data=train[feats],\n",
        "        label=train[\"label\"],\n",
        "        feature_name=feats,\n",
        "        categorical_feature=cat_features,\n",
        "        params=params,\n",
        "    )\n",
        "\n",
        "    valid_set = lgb.Dataset(\n",
        "        data=valid[feats],\n",
        "        label=valid[\"label\"],\n",
        "        feature_name=feats,\n",
        "        categorical_feature=cat_features,\n",
        "        params=params,\n",
        "    )\n",
        "\n",
        "    ranker = lgb.train(\n",
        "        params,\n",
        "        train_set,\n",
        "        num_boost_round=300,\n",
        "        valid_sets=[valid_set],\n",
        "        early_stopping_rounds=30,\n",
        "        verbose_eval=10,\n",
        "    )\n",
        "    ranker.save_model(\n",
        "        model_dir / f\"lgb_small_binary.model\",\n",
        "        num_iteration=ranker.best_iteration,\n",
        "    )\n",
        "    return ranker"
      ]
    },
    {
      "cell_type": "code",
      "execution_count": null,
      "metadata": {
        "colab": {
          "base_uri": "https://localhost:8080/"
        },
        "id": "vw2PmIZwPdFf",
        "outputId": "596f7eee-2618-4311-eebd-b62c0fd9c635"
      },
      "outputs": [
        {
          "data": {
            "text/plain": [
              "568"
            ]
          },
          "execution_count": 26,
          "metadata": {},
          "output_type": "execute_result"
        }
      ],
      "source": [
        "del candidates\n",
        "gc.collect()"
      ]
    },
    {
      "cell_type": "code",
      "execution_count": null,
      "metadata": {
        "colab": {
          "base_uri": "https://localhost:8080/"
        },
        "id": "F-wxWYRFPd9O",
        "outputId": "7f5a0882-8a44-4533-abee-3ace8d20f93e"
      },
      "outputs": [
        {
          "name": "stdout",
          "output_type": "stream",
          "text": [
            "Train positive rate: 0.0067018773363074985\n"
          ]
        }
      ],
      "source": [
        "print(\"Train positive rate:\", train.label.mean())"
      ]
    },
    {
      "cell_type": "code",
      "execution_count": null,
      "metadata": {
        "id": "O9JQdMFFPfov"
      },
      "outputs": [],
      "source": [
        "train = train.sort_values(by=[\"week\", \"customer_id\"], ascending=True).reset_index(drop=True)\n",
        "valid = valid.sort_values(by=[\"customer_id\"], ascending=True).reset_index(drop=True)"
      ]
    },
    {
      "cell_type": "code",
      "execution_count": null,
      "metadata": {
        "id": "aj70p1WDPgfQ"
      },
      "outputs": [],
      "source": [
        "train_group = train[[\"customer_id\", \"article_id\", \"week\"]]\n",
        "train_group = train_group.astype(\"int32\")  # * convert to int to avoid `0` in groupby count result\n",
        "train_group = (train_group.groupby([\"week\", \"customer_id\"]).size().values)"
      ]
    },
    {
      "cell_type": "code",
      "execution_count": null,
      "metadata": {
        "id": "lYOh4wBaPhaN"
      },
      "outputs": [],
      "source": [
        "valid_group = valid[[\"customer_id\", \"article_id\"]]\n",
        "valid_group = valid_group.astype(\"int32\")  # * convert to int to avoid `0` in groupby count result\n",
        "valid_group = valid_group.groupby([\"customer_id\"]).size().values"
      ]
    },
    {
      "cell_type": "code",
      "execution_count": null,
      "metadata": {
        "id": "Z1LrjrLKPiYA"
      },
      "outputs": [],
      "source": [
        "train = train[feats+['label']]\n",
        "valid = valid[feats+['label']]"
      ]
    },
    {
      "cell_type": "code",
      "execution_count": null,
      "metadata": {
        "colab": {
          "base_uri": "https://localhost:8080/"
        },
        "id": "lm8JNIuqPjMN",
        "outputId": "cdfc2f52-28b9-47e7-dc54-0be7187fb16d"
      },
      "outputs": [
        {
          "data": {
            "text/plain": [
              "247"
            ]
          },
          "execution_count": 33,
          "metadata": {},
          "output_type": "execute_result"
        }
      ],
      "source": [
        "gc.collect()"
      ]
    },
    {
      "cell_type": "code",
      "execution_count": null,
      "metadata": {
        "colab": {
          "base_uri": "https://localhost:8080/"
        },
        "id": "1FxwqE1cJR4L",
        "outputId": "8d510452-faa1-473e-9240-38d6657fc4e5"
      },
      "outputs": [
        {
          "name": "stdout",
          "output_type": "stream",
          "text": [
            "Training until validation scores don't improve for 30 rounds\n",
            "[10]\tvalid_0's auc: 0.690798\n",
            "[20]\tvalid_0's auc: 0.699496\n",
            "[30]\tvalid_0's auc: 0.703928\n",
            "[40]\tvalid_0's auc: 0.706298\n",
            "[50]\tvalid_0's auc: 0.708892\n",
            "[60]\tvalid_0's auc: 0.709672\n",
            "[70]\tvalid_0's auc: 0.710949\n",
            "[80]\tvalid_0's auc: 0.713591\n",
            "[90]\tvalid_0's auc: 0.715312\n",
            "[100]\tvalid_0's auc: 0.716153\n",
            "[110]\tvalid_0's auc: 0.717036\n",
            "[120]\tvalid_0's auc: 0.717173\n",
            "[130]\tvalid_0's auc: 0.717293\n",
            "[140]\tvalid_0's auc: 0.717737\n",
            "[150]\tvalid_0's auc: 0.717838\n",
            "[160]\tvalid_0's auc: 0.717651\n",
            "[170]\tvalid_0's auc: 0.717697\n",
            "Early stopping, best iteration is:\n",
            "[148]\tvalid_0's auc: 0.717971\n"
          ]
        }
      ],
      "source": [
        "# ranker = train_rank_model(train, valid, train_group, valid_group)\n",
        "ranker = train_binary_model(train, valid)"
      ]
    },
    {
      "cell_type": "markdown",
      "metadata": {
        "id": "KbFdGrYRdtIt"
      },
      "source": [
        "### Inference"
      ]
    },
    {
      "cell_type": "code",
      "execution_count": null,
      "metadata": {
        "id": "hl3DPTaBGGQV"
      },
      "outputs": [],
      "source": [
        "# ranker = lgb.Booster(model_file=model_dir / \"lgb_small_binary.model\")\n",
        "ranker = lgb.Booster(model_file=model_dir / \"lgb_small_ranker.model\")"
      ]
    },
    {
      "cell_type": "code",
      "execution_count": null,
      "metadata": {
        "id": "OG9AwSntGGQV"
      },
      "outputs": [],
      "source": [
        "feat_importance = pd.DataFrame(\n",
        "    {\"feature\": feats, \"importance\": ranker.feature_importance()}\n",
        ").sort_values(by=\"importance\", ascending=False)\n",
        "plt.figure(figsize=(8, 22))\n",
        "sns.barplot(y=\"feature\", x=\"importance\", data=feat_importance)"
      ]
    },
    {
      "cell_type": "markdown",
      "metadata": {
        "id": "lLWs-Z5CGGQV"
      },
      "source": [
        "### Validate"
      ]
    },
    {
      "cell_type": "code",
      "execution_count": null,
      "metadata": {
        "id": "SSpgfI0mdtIv"
      },
      "outputs": [],
      "source": [
        "val_candidates = valid.reset_index(drop=True)"
      ]
    },
    {
      "cell_type": "code",
      "execution_count": null,
      "metadata": {
        "id": "pEhET3KZJR4N"
      },
      "outputs": [],
      "source": [
        "def predict(ranker, candidates, batch_size = 5_000_000):\n",
        "    probs = np.zeros(candidates.shape[0])\n",
        "    for batch in range(0, candidates.shape[0], batch_size):\n",
        "        outputs = ranker.predict(candidates.loc[batch : batch + batch_size - 1, feats])\n",
        "        probs[batch : batch + batch_size] = outputs\n",
        "    candidates[\"prob\"] = probs\n",
        "    pred_lgb = candidates[['customer_id','article_id','prob']]\n",
        "    pred_lgb = pred_lgb.sort_values(by=[\"customer_id\",\"prob\"], ascending=False).reset_index(drop=True)\n",
        "    pred_lgb.rename(columns={'article_id':'prediction'}, inplace=True)\n",
        "    pred_lgb = pred_lgb.drop_duplicates(['customer_id', 'prediction'], keep='first')\n",
        "    pred_lgb['customer_id'] = pred_lgb['customer_id'].astype(int)\n",
        "    pred_lgb = pred_lgb.groupby(\"customer_id\")[\"prediction\"].progress_apply(list).reset_index()\n",
        "    return pred_lgb"
      ]
    },
    {
      "cell_type": "code",
      "execution_count": null,
      "metadata": {
        "colab": {
          "base_uri": "https://localhost:8080/"
        },
        "id": "Ifgoemo6JR4N",
        "outputId": "f1accf63-1aeb-4c3e-bf0b-c0edf1daeb26"
      },
      "outputs": [
        {
          "name": "stderr",
          "output_type": "stream",
          "text": [
            "100%|██████████| 68984/68984 [00:06<00:00, 10932.32it/s]\n"
          ]
        }
      ],
      "source": [
        "pred = predict(ranker, val_candidates)"
      ]
    },
    {
      "cell_type": "code",
      "execution_count": null,
      "metadata": {
        "id": "G1Qh3k2aGGQW"
      },
      "outputs": [],
      "source": [
        "label = labels[1]\n",
        "label = pd.merge(label, pred, on=\"customer_id\", how=\"left\")"
      ]
    },
    {
      "cell_type": "code",
      "execution_count": null,
      "metadata": {
        "colab": {
          "base_uri": "https://localhost:8080/"
        },
        "id": "XrFnQ2evGGQW",
        "outputId": "505a0a6f-a7cf-4866-b305-abca1658aed5"
      },
      "outputs": [
        {
          "data": {
            "text/plain": [
              "0.029791925075924913"
            ]
          },
          "execution_count": 54,
          "metadata": {},
          "output_type": "execute_result"
        }
      ],
      "source": [
        "map_at_k(label[\"article_id\"], label[\"prediction\"], k=12)\n",
        "\n",
        "# 0.029813727108367518 ranker\n",
        "# 0.029791925075924913 binary"
      ]
    },
    {
      "cell_type": "code",
      "execution_count": null,
      "metadata": {
        "id": "SEpG-KVUJR4O"
      },
      "outputs": [],
      "source": [
        "batch_size = 5_000_000\n",
        "probs = np.zeros(val_candidates.shape[0])\n",
        "for batch in range(0, val_candidates.shape[0], batch_size):\n",
        "    outputs = ranker.predict(val_candidates.loc[batch : batch + batch_size - 1, feats])\n",
        "    probs[batch : batch + batch_size] = outputs\n",
        "val_candidates[\"prob\"] = probs\n",
        "pred_lgb = val_candidates[['customer_id','article_id','prob']]\n",
        "pred_lgb = pred_lgb.sort_values(by=[\"customer_id\",\"prob\"], ascending=False).reset_index(drop=True)\n",
        "pred_lgb.rename(columns={'article_id':'prediction'}, inplace=True)\n",
        "pred_lgb = pred_lgb.drop_duplicates(['customer_id', 'prediction'], keep='first')\n",
        "pred_lgb['customer_id'] = pred_lgb['customer_id'].astype(int)"
      ]
    },
    {
      "cell_type": "code",
      "execution_count": null,
      "metadata": {
        "id": "UILjptYKJR4O"
      },
      "outputs": [],
      "source": [
        "pred_lgb.to_parquet(data_dir/\"processed\"/\"small_binary_valid.pqt\")"
      ]
    },
    {
      "cell_type": "markdown",
      "metadata": {
        "id": "_5_faqlKJR4R"
      },
      "source": [
        "### Test"
      ]
    },
    {
      "cell_type": "code",
      "execution_count": null,
      "metadata": {
        "colab": {
          "base_uri": "https://localhost:8080/"
        },
        "id": "qFaPtoF7JR4R",
        "outputId": "8817b209-c405-4874-9102-81fdbfab1ad4"
      },
      "outputs": [
        {
          "data": {
            "text/plain": [
              "414"
            ]
          },
          "execution_count": 18,
          "metadata": {},
          "output_type": "execute_result"
        }
      ],
      "source": [
        "del candidates\n",
        "gc.collect()"
      ]
    },
    {
      "cell_type": "code",
      "execution_count": null,
      "metadata": {
        "colab": {
          "base_uri": "https://localhost:8080/"
        },
        "id": "GxTa-32qPMNh",
        "outputId": "98bc03f6-32d4-4747-bec4-0a3024e5c09c"
      },
      "outputs": [
        {
          "name": "stdout",
          "output_type": "stream",
          "text": [
            "Chunk 0\n"
          ]
        },
        {
          "data": {
            "text/plain": [
              "53"
            ]
          },
          "execution_count": 24,
          "metadata": {},
          "output_type": "execute_result"
        },
        {
          "name": "stderr",
          "output_type": "stream",
          "text": [
            "100%|██████████| 6/6 [02:57<00:00, 29.52s/it]\n"
          ]
        },
        {
          "data": {
            "text/plain": [
              "24"
            ]
          },
          "execution_count": 24,
          "metadata": {},
          "output_type": "execute_result"
        },
        {
          "name": "stdout",
          "output_type": "stream",
          "text": [
            "Chunk 1\n"
          ]
        },
        {
          "data": {
            "text/plain": [
              "0"
            ]
          },
          "execution_count": 24,
          "metadata": {},
          "output_type": "execute_result"
        },
        {
          "name": "stderr",
          "output_type": "stream",
          "text": [
            "100%|██████████| 6/6 [02:26<00:00, 24.38s/it]\n"
          ]
        },
        {
          "data": {
            "text/plain": [
              "4"
            ]
          },
          "execution_count": 24,
          "metadata": {},
          "output_type": "execute_result"
        }
      ],
      "source": [
        "test_pred = []\n",
        "for chunk in range(2):\n",
        "    print(f\"Chunk {chunk}\")\n",
        "    test_candidates = pd.read_parquet(data_dir/\"processed\"/VERSION_NAME/f\"week0_candidate_{chunk}.pqt\")\n",
        "    for feat in cat_features:\n",
        "        test_candidates[feat] = test_candidates[feat].astype(cate_dict[feat])\n",
        "\n",
        "    # * Extra Features ===================================\n",
        "\n",
        "    tmp = inter.groupby('article_id').week.mean()\n",
        "    test_candidates['article_time_mean'] = test_candidates['article_id'].map(tmp)\n",
        "\n",
        "    tmp = inter.groupby('customer_id').week.nth(-1)\n",
        "    test_candidates['customer_id_last_time'] = test_candidates['customer_id'].map(tmp)\n",
        "\n",
        "    tmp = inter.groupby('customer_id').week.nth(0)\n",
        "    test_candidates['customer_id_first_time'] = test_candidates['customer_id'].map(tmp)\n",
        "\n",
        "    tmp = inter.groupby('customer_id').week.mean()\n",
        "    test_candidates['customer_id_time_mean'] = test_candidates['customer_id'].map(tmp)\n",
        "\n",
        "    test_candidates['customer_id_gap'] = test_candidates['customer_id_first_time'] - test_candidates['customer_id_last_time']\n",
        "\n",
        "    gc.collect()\n",
        "    # * ==================================================\n",
        "    \n",
        "    batch_size = 5_000_000\n",
        "    probs = np.zeros(test_candidates.shape[0])\n",
        "    for batch in tqdm(range(0, test_candidates.shape[0], batch_size)):\n",
        "        outputs = ranker.predict(test_candidates.loc[batch : batch + batch_size - 1, feats])\n",
        "        probs[batch : batch + batch_size] = outputs\n",
        "    test_candidates[\"prob\"] = probs\n",
        "    pred_lgb = test_candidates[['customer_id','article_id','prob']]\n",
        "    pred_lgb = pred_lgb.sort_values(by=[\"customer_id\",\"prob\"], ascending=False).reset_index(drop=True)\n",
        "    pred_lgb.rename(columns={'article_id':'prediction'}, inplace=True)\n",
        "    pred_lgb = pred_lgb.drop_duplicates(['customer_id', 'prediction'], keep='first')\n",
        "    pred_lgb['customer_id'] = pred_lgb['customer_id'].astype(int)\n",
        "    test_pred.append(pred_lgb)\n",
        "    del test_candidates\n",
        "    gc.collect()"
      ]
    },
    {
      "cell_type": "code",
      "execution_count": null,
      "metadata": {
        "id": "S1D0jEFqPzng"
      },
      "outputs": [],
      "source": [
        "pred_lgb = pd.concat(test_pred, ignore_index=True)"
      ]
    },
    {
      "cell_type": "code",
      "execution_count": null,
      "metadata": {
        "id": "ZpdiPY58JR4R"
      },
      "outputs": [],
      "source": [
        "# pred_lgb.to_parquet(data_dir/\"processed\"/\"small_binary_test.pqt\")\n",
        "pred_lgb.to_parquet(data_dir/\"processed\"/\"small_rank_test.pqt\")"
      ]
    }
  ],
  "metadata": {
    "colab": {
      "collapsed_sections": [
        "LX4M190s4pxo",
        "TBIrKxhRGGQR"
      ],
      "machine_shape": "hm",
      "name": "HM-Rec.ipynb",
      "provenance": []
    },
    "interpreter": {
      "hash": "eee4fdb9ca52ce5d5f0a2a1c2a1d0a4896d6b735579ddf3d9c0ee93e21b97ca8"
    },
    "kernelspec": {
      "display_name": "Python 3 (ipykernel)",
      "language": "python",
      "name": "python3"
    },
    "language_info": {
      "codemirror_mode": {
        "name": "ipython",
        "version": 3
      },
      "file_extension": ".py",
      "mimetype": "text/x-python",
      "name": "python",
      "nbconvert_exporter": "python",
      "pygments_lexer": "ipython3",
      "version": "3.8.10"
    }
  },
  "nbformat": 4,
  "nbformat_minor": 0
}
