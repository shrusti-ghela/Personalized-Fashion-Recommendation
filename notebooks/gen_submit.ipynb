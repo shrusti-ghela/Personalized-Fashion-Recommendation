{
  "cells": [
    {
      "cell_type": "code",
      "source": [
        "from google.colab import drive\n",
        "drive.mount('/content/drive')"
      ],
      "metadata": {
        "colab": {
          "base_uri": "https://localhost:8080/"
        },
        "id": "N1ShD4QPyaSo",
        "outputId": "4c7a06d9-2c4f-4b79-f073-97a17e9a7bbd"
      },
      "execution_count": null,
      "outputs": [
        {
          "output_type": "stream",
          "name": "stdout",
          "text": [
            "Drive already mounted at /content/drive; to attempt to forcibly remount, call drive.mount(\"/content/drive\", force_remount=True).\n"
          ]
        }
      ]
    },
    {
      "cell_type": "code",
      "execution_count": null,
      "metadata": {
        "id": "gboISq82XUN1"
      },
      "outputs": [],
      "source": [
        "import pandas as pd\n",
        "from pandas.api.types import CategoricalDtype\n",
        "import numpy as np\n",
        "import seaborn as sns\n",
        "import matplotlib.pyplot as plt\n",
        "import lightgbm as lgb\n",
        "\n",
        "import pickle\n",
        "from tqdm import tqdm\n",
        "import gc\n",
        "from pathlib import Path"
      ]
    },
    {
      "cell_type": "code",
      "execution_count": null,
      "metadata": {
        "id": "F6WO2VtEXefj"
      },
      "outputs": [],
      "source": [
        "import warnings\n",
        "import sys\n",
        "from IPython.core.interactiveshell import InteractiveShell\n",
        "\n",
        "warnings.filterwarnings(\"ignore\")\n",
        "sys.path.append(\"/content/drive/MyDrive/HM/\") # path to the `src`` folder\n",
        "InteractiveShell.ast_node_interactivity = \"all\"\n",
        "tqdm.pandas()"
      ]
    },
    {
      "cell_type": "code",
      "execution_count": null,
      "metadata": {
        "id": "5ZHkDegnyFcl"
      },
      "outputs": [],
      "source": [
        "from src.data import DataHelper\n",
        "from src.data.metrics import map_at_k, hr_at_k, recall_at_k\n",
        "\n",
        "from src.utils import (\n",
        "    calc_valid_date,\n",
        "    merge_week_data,\n",
        "    reduce_mem_usage,\n",
        "    calc_embd_similarity,\n",
        ")"
      ]
    },
    {
      "cell_type": "code",
      "source": [
        "tqdm.pandas()"
      ],
      "metadata": {
        "id": "9YVC614joQqQ"
      },
      "execution_count": null,
      "outputs": []
    },
    {
      "cell_type": "code",
      "execution_count": null,
      "metadata": {
        "id": "5xR9epc0yFco"
      },
      "outputs": [],
      "source": [
        "data_dir = Path(\"/content/drive/MyDrive/HM/data/\")\n",
        "model_dir = Path(\"/content/drive/MyDrive/HM/models/\")"
      ]
    },
    {
      "cell_type": "markdown",
      "metadata": {
        "id": "ORF4aRfcyFcr"
      },
      "source": [
        "Pepare data: encoding ids and preprocessing"
      ]
    },
    {
      "cell_type": "code",
      "execution_count": null,
      "metadata": {
        "id": "2BPv2lcWGGQJ"
      },
      "outputs": [],
      "source": [
        "dh = DataHelper(data_dir)"
      ]
    },
    {
      "cell_type": "code",
      "execution_count": null,
      "metadata": {
        "id": "TFmlEVaDyFcv"
      },
      "outputs": [],
      "source": [
        "# data = dh.preprocess_data(save=True, name=\"encoded_full\") # * run only once, processed data will be saved"
      ]
    },
    {
      "cell_type": "code",
      "execution_count": null,
      "metadata": {
        "id": "i3ngtb7NUGbH"
      },
      "outputs": [],
      "source": [
        "data = dh.load_data(name=\"encoded_full\")"
      ]
    },
    {
      "cell_type": "markdown",
      "source": [
        "### Blend"
      ],
      "metadata": {
        "id": "iloRdv--RZKN"
      }
    },
    {
      "cell_type": "code",
      "source": [
        "pred1_lgb_rank = pd.read_parquet(data_dir/\"processed\"/\"large_rank_valid.pqt\")\n",
        "pred1_lgb_binary = pd.read_parquet(data_dir/\"processed\"/\"large_binary_valid.pqt\")\n",
        "pred1_nn = pd.read_parquet(data_dir/\"external\"/\"large_nn_valid.pqt\")\n",
        "pred1_nn.rename(columns={'article_id':'prediction'},inplace=True)"
      ],
      "metadata": {
        "id": "wi_sTSTdRaqV"
      },
      "execution_count": null,
      "outputs": []
    },
    {
      "cell_type": "code",
      "source": [
        "pred2_lgb_rank = pd.read_parquet(data_dir/\"processed\"/\"small_rank_valid.pqt\")\n",
        "pred2_lgb_binary = pd.read_parquet(data_dir/\"processed\"/\"small_binary_valid.pqt\")\n",
        "pred2_nn = pd.read_parquet(data_dir/\"external\"/\"small_nn_valid.pqt\")\n",
        "pred2_nn.rename(columns={'article_id':'prediction'},inplace=True)"
      ],
      "metadata": {
        "id": "fmkAJixlUv4-"
      },
      "execution_count": null,
      "outputs": []
    },
    {
      "cell_type": "code",
      "source": [
        "pred1_lgb_binary = pred1_lgb_binary.merge(pred1_nn, on=['customer_id','prediction'], how='left')\n",
        "pred1_lgb_binary['prob'] = pred1_lgb_binary['prob_x'] + pred1_lgb_binary['prob_y']\n",
        "\n",
        "pred2_lgb_binary = pred2_lgb_binary.merge(pred2_nn, on=['customer_id','prediction'], how='left')\n",
        "pred2_lgb_binary['prob'] = pred2_lgb_binary['prob_x'] + pred2_lgb_binary['prob_y']"
      ],
      "metadata": {
        "id": "EwgnDCGyVcyZ"
      },
      "execution_count": null,
      "outputs": []
    },
    {
      "cell_type": "code",
      "source": [
        "pred1_lgb_rank   = pred1_lgb_rank.sort_values(by='prob', ascending=False).reset_index(drop=True)\n",
        "pred1_lgb_binary = pred1_lgb_binary.sort_values(by='prob', ascending=False).reset_index(drop=True)\n",
        "pred2_lgb_rank   = pred2_lgb_rank.sort_values(by='prob', ascending=False).reset_index(drop=True)\n",
        "pred2_lgb_binary = pred2_lgb_binary.sort_values(by='prob', ascending=False).reset_index(drop=True)"
      ],
      "metadata": {
        "id": "1WNVoMLrRwr0"
      },
      "execution_count": null,
      "outputs": []
    },
    {
      "cell_type": "code",
      "source": [
        "pred1_lgb_rank   = pred1_lgb_rank.groupby('customer_id')['prediction'].apply(list).reset_index()\n",
        "pred1_lgb_binary = pred1_lgb_binary.groupby('customer_id')['prediction'].apply(list).reset_index()\n",
        "pred2_lgb_rank   = pred2_lgb_rank.groupby('customer_id')['prediction'].apply(list).reset_index()\n",
        "pred2_lgb_binary = pred2_lgb_binary.groupby('customer_id')['prediction'].apply(list).reset_index()"
      ],
      "metadata": {
        "id": "2I_hnXKTRpUx"
      },
      "execution_count": null,
      "outputs": []
    },
    {
      "cell_type": "code",
      "source": [
        "pred1_lgb_rank.rename(columns={'prediction':'large_rank'},inplace=True)\n",
        "pred1_lgb_binary.rename(columns={'prediction':'large_binary'},inplace=True)\n",
        "pred2_lgb_rank.rename(columns={'prediction':'small_rank'},inplace=True)\n",
        "pred2_lgb_binary.rename(columns={'prediction':'small_binary'},inplace=True)"
      ],
      "metadata": {
        "id": "xR4WLDA8R72s"
      },
      "execution_count": null,
      "outputs": []
    },
    {
      "cell_type": "code",
      "source": [
        "pred = (\n",
        "    pred1_lgb_rank.merge(pred1_lgb_binary, on=['customer_id'])\n",
        "                    .merge(pred2_lgb_rank, on=['customer_id'])\n",
        "                    .merge(pred2_lgb_binary, on=['customer_id'])\n",
        "                    )"
      ],
      "metadata": {
        "id": "1UmeQHDZk-kw"
      },
      "execution_count": null,
      "outputs": []
    },
    {
      "cell_type": "code",
      "source": [
        "def cust_blend(dt, W = [1,1,1,1]):\n",
        "    #Create a list of all model predictions\n",
        "    REC = []\n",
        "\n",
        "    # Second Try\n",
        "    REC.append(dt['large_rank'])\n",
        "    REC.append(dt['large_binary'])\n",
        "    REC.append(dt['small_rank'])\n",
        "    REC.append(dt['small_binary'])\n",
        "\n",
        "    #Create a dictionary of items recommended.\n",
        "    #Assign a weight according the order of appearance and multiply by global weights\n",
        "    res = {}\n",
        "    for M in range(len(REC)):\n",
        "        for n, v in enumerate(REC[M]):\n",
        "            if v in res:\n",
        "                res[v] += (W[M]/(n+1))\n",
        "            else:\n",
        "                res[v] = (W[M]/(n+1))\n",
        "\n",
        "    # Sort dictionary by item weights\n",
        "    res = list(dict(sorted(res.items(), key=lambda item: -item[1])).keys())\n",
        "\n",
        "    # Return the top 12 items only\n",
        "    return res[:12]"
      ],
      "metadata": {
        "id": "Noz_a8LnShN8"
      },
      "execution_count": null,
      "outputs": []
    },
    {
      "cell_type": "code",
      "source": [
        "pred['prediction'] = pred.progress_apply(cust_blend, W = [1.0, 1.3, 1.0, 1.3], axis=1)"
      ],
      "metadata": {
        "colab": {
          "base_uri": "https://localhost:8080/"
        },
        "id": "MDFqOjHAStR1",
        "outputId": "76fab036-9dbd-4428-cf5d-6ede02c14392"
      },
      "execution_count": null,
      "outputs": [
        {
          "output_type": "stream",
          "name": "stderr",
          "text": [
            "100%|██████████| 68984/68984 [00:07<00:00, 9609.50it/s]\n"
          ]
        }
      ]
    },
    {
      "cell_type": "code",
      "source": [
        "label = pd.read_parquet(data_dir/\"processed\"/\"pivot\"/\"week1_label.pqt\")\n",
        "label = pd.merge(label, pred, on=\"customer_id\", how=\"left\")"
      ],
      "metadata": {
        "id": "syhsluxOTCRj"
      },
      "execution_count": null,
      "outputs": []
    },
    {
      "cell_type": "code",
      "source": [
        "map_at_k(label[\"article_id\"], label[\"prediction\"], k=12)\n",
        "\n",
        "# 0.032249032703345615"
      ],
      "metadata": {
        "colab": {
          "base_uri": "https://localhost:8080/"
        },
        "id": "l2uU9IojTO8p",
        "outputId": "07a115f4-92fd-4d2b-f7bb-088473455938"
      },
      "execution_count": null,
      "outputs": [
        {
          "output_type": "execute_result",
          "data": {
            "text/plain": [
              "0.033772875345730695"
            ]
          },
          "metadata": {},
          "execution_count": 70
        }
      ]
    },
    {
      "cell_type": "markdown",
      "metadata": {
        "id": "OPdhQ_0RyFdF"
      },
      "source": [
        "### Test"
      ]
    },
    {
      "cell_type": "code",
      "source": [
        "pred1_lgb_rank = pd.read_parquet(data_dir/\"processed\"/\"large_rank_test.pqt\")\n",
        "pred1_lgb_binary = pd.read_parquet(data_dir/\"processed\"/\"large_binary_test.pqt\")\n",
        "pred1_nn = pd.read_parquet(data_dir/\"processed\"/\"large_nn_test.pqt\")\n",
        "pred1_nn.rename(columns={'article_id':'prediction'},inplace=True)"
      ],
      "metadata": {
        "id": "AdZ_2zctgDzz"
      },
      "execution_count": null,
      "outputs": []
    },
    {
      "cell_type": "code",
      "source": [
        "pred1_lgb_rank = pred1_lgb_rank.sort_values(by='prob', ascending=False).reset_index(drop=True)\n",
        "pred1_lgb_rank = pred1_lgb_rank.drop_duplicates(['customer_id','prediction'])\n",
        "\n",
        "pred1_lgb_binary = pred1_lgb_binary.sort_values(by='prob', ascending=False).reset_index(drop=True)\n",
        "pred1_lgb_binary = pred1_lgb_binary.drop_duplicates(['customer_id','prediction'])\n",
        "\n",
        "pred1_nn = pred1_nn.sort_values(by='prob', ascending=False).reset_index(drop=True)\n",
        "pred1_nn = pred1_nn.drop_duplicates(['customer_id','prediction'])"
      ],
      "metadata": {
        "id": "YGkf0iWrlZl0"
      },
      "execution_count": null,
      "outputs": []
    },
    {
      "cell_type": "code",
      "source": [
        "pred1_lgb_binary = pred1_lgb_binary.sort_values(by=['customer_id','prediction']).reset_index(drop=True)\n",
        "pred1_nn = pred1_nn.sort_values(by=['customer_id','prediction']).reset_index(drop=True)\n",
        "\n",
        "# * not using merge here to avoid memory error\n",
        "pred1_lgb_binary['prob2'] = pred1_lgb_binary['prob'] + pred1_nn['prob']\n",
        "pred1_lgb_binary = pred1_lgb_binary.sort_values(by='prob2', ascending=False).reset_index(drop=True)"
      ],
      "metadata": {
        "id": "WUtCYAq3lrBO"
      },
      "execution_count": null,
      "outputs": []
    },
    {
      "cell_type": "code",
      "source": [
        "pred1_lgb_rank   = pred1_lgb_rank.groupby('customer_id')['prediction'].progress_apply(list).reset_index()\n",
        "pred1_lgb_binary = pred1_lgb_binary.groupby('customer_id')['prediction'].progress_apply(list).reset_index()"
      ],
      "metadata": {
        "colab": {
          "base_uri": "https://localhost:8080/"
        },
        "id": "YrVLaitUnGdF",
        "outputId": "a1313dea-58db-41a5-f57e-9ba30566c130"
      },
      "execution_count": null,
      "outputs": [
        {
          "output_type": "stream",
          "name": "stderr",
          "text": [
            "100%|██████████| 1303117/1303117 [01:02<00:00, 20846.60it/s]\n",
            "100%|██████████| 1303117/1303117 [01:09<00:00, 18805.83it/s]\n"
          ]
        }
      ]
    },
    {
      "cell_type": "code",
      "source": [
        "pred1_lgb_rank.to_parquet(data_dir/\"large_rank_test_new.pqt\")\n",
        "pred1_lgb_binary.to_parquet(data_dir/\"large_binary_test_new.pqt\")"
      ],
      "metadata": {
        "id": "5SQgAvBNp6UB"
      },
      "execution_count": null,
      "outputs": []
    },
    {
      "cell_type": "code",
      "source": [
        "# * ------------------------------------------------------------"
      ],
      "metadata": {
        "id": "zlgAXzsQnF9n"
      },
      "execution_count": null,
      "outputs": []
    },
    {
      "cell_type": "code",
      "source": [
        "pred2_lgb_rank = pd.read_parquet(data_dir/\"processed\"/\"small_rank_test.pqt\")\n",
        "pred2_lgb_binary = pd.read_parquet(data_dir/\"processed\"/\"small_binary_test.pqt\")\n",
        "pred2_nn = pd.read_parquet(data_dir/\"processed\"/\"small_nn_test.pqt\")\n",
        "pred2_nn.rename(columns={'article_id':'prediction'},inplace=True)"
      ],
      "metadata": {
        "id": "NFiC3aK3gXf5"
      },
      "execution_count": null,
      "outputs": []
    },
    {
      "cell_type": "code",
      "source": [
        "pred2_lgb_rank = pred2_lgb_rank.sort_values(by='prob', ascending=False).reset_index(drop=True)\n",
        "pred2_lgb_rank = pred2_lgb_rank.drop_duplicates(['customer_id','prediction'])\n",
        "\n",
        "pred2_lgb_binary = pred2_lgb_binary.sort_values(by='prob', ascending=False).reset_index(drop=True)\n",
        "pred2_lgb_binary = pred2_lgb_binary.drop_duplicates(['customer_id','prediction'])\n",
        "\n",
        "pred2_nn = pred2_nn.sort_values(by='prob', ascending=False).reset_index(drop=True)\n",
        "pred2_nn = pred2_nn.drop_duplicates(['customer_id','prediction'])"
      ],
      "metadata": {
        "id": "uVCrvguroeVS"
      },
      "execution_count": null,
      "outputs": []
    },
    {
      "cell_type": "code",
      "source": [
        "pred2_lgb_binary = pred2_lgb_binary.sort_values(by=['customer_id','prediction']).reset_index(drop=True)\n",
        "pred2_nn = pred2_nn.sort_values(by=['customer_id','prediction']).reset_index(drop=True)\n",
        "\n",
        "pred2_lgb_binary['prob2'] = pred2_lgb_binary['prob'] + pred2_nn['prob']\n",
        "pred2_lgb_binary = pred2_lgb_binary.sort_values(by='prob2', ascending=False).reset_index(drop=True)"
      ],
      "metadata": {
        "id": "eoOCoYEKofOL"
      },
      "execution_count": null,
      "outputs": []
    },
    {
      "cell_type": "code",
      "source": [
        "pred2_lgb_rank   = pred2_lgb_rank.groupby('customer_id')['prediction'].progress_apply(list).reset_index()\n",
        "pred2_lgb_binary = pred2_lgb_binary.groupby('customer_id')['prediction'].progress_apply(list).reset_index()"
      ],
      "metadata": {
        "colab": {
          "base_uri": "https://localhost:8080/"
        },
        "id": "8C7olIhinXAN",
        "outputId": "293828ec-9e0b-4d3a-dc17-c380d05ecf8e"
      },
      "execution_count": null,
      "outputs": [
        {
          "output_type": "stream",
          "name": "stderr",
          "text": [
            "100%|██████████| 1371980/1371980 [01:06<00:00, 20647.26it/s]\n",
            "100%|██████████| 1371980/1371980 [01:05<00:00, 20995.72it/s]\n"
          ]
        }
      ]
    },
    {
      "cell_type": "code",
      "source": [
        "pred2_lgb_rank.shape"
      ],
      "metadata": {
        "colab": {
          "base_uri": "https://localhost:8080/"
        },
        "id": "GAN-Ayl160WP",
        "outputId": "e49e2123-9ef6-4a84-c8dc-c915fdb259cb"
      },
      "execution_count": null,
      "outputs": [
        {
          "output_type": "execute_result",
          "data": {
            "text/plain": [
              "(1371980, 2)"
            ]
          },
          "metadata": {},
          "execution_count": 36
        }
      ]
    },
    {
      "cell_type": "code",
      "source": [
        "# pred2_lgb_rank.to_parquet(data_dir/\"small_rank_test.pqt\")\n",
        "# pred2_lgb_binary.to_parquet(data_dir/\"small_binary_test.pqt\")"
      ],
      "metadata": {
        "id": "Z9GS2hQBqG0q"
      },
      "execution_count": null,
      "outputs": []
    },
    {
      "cell_type": "code",
      "source": [
        "# ----------------------------------------------------------"
      ],
      "metadata": {
        "id": "Cfur-9Zoo-4E"
      },
      "execution_count": null,
      "outputs": []
    },
    {
      "cell_type": "code",
      "source": [
        "pred1_lgb_rank.rename(columns={'prediction':'large_rank'},inplace=True)\n",
        "pred1_lgb_binary.rename(columns={'prediction':'large_binary'},inplace=True)\n",
        "pred2_lgb_rank.rename(columns={'prediction':'small_rank'},inplace=True)\n",
        "pred2_lgb_binary.rename(columns={'prediction':'small_binary'},inplace=True)"
      ],
      "metadata": {
        "id": "aP07ETVNqrxf"
      },
      "execution_count": null,
      "outputs": []
    },
    {
      "cell_type": "code",
      "source": [
        "pred = pred2_lgb_rank.merge(pred2_lgb_binary, on=['customer_id'], how='left')\\\n",
        "                    .merge(pred1_lgb_rank, on=['customer_id'], how='left')\\\n",
        "                    .merge(pred1_lgb_binary, on=['customer_id'], how='left')"
      ],
      "metadata": {
        "id": "f8Zk3h0Qphtu"
      },
      "execution_count": null,
      "outputs": []
    },
    {
      "cell_type": "code",
      "source": [
        "for f in ['large_rank','large_binary']:\n",
        "    pred[f] = pred.progress_apply(lambda x:x[f] if not pd.isna(np.array(x[f])).any() else [], axis=1)"
      ],
      "metadata": {
        "colab": {
          "base_uri": "https://localhost:8080/"
        },
        "id": "pjEwRB1Z8c22",
        "outputId": "12c2cdb0-5208-4e5c-e76c-28b7a4366414"
      },
      "execution_count": null,
      "outputs": [
        {
          "output_type": "stream",
          "name": "stderr",
          "text": [
            "100%|██████████| 1371980/1371980 [00:43<00:00, 31292.08it/s]\n",
            "100%|██████████| 1371980/1371980 [00:43<00:00, 31513.76it/s]\n"
          ]
        }
      ]
    },
    {
      "cell_type": "code",
      "source": [
        "def cust_blend(dt, W = [1,1]):\n",
        "    #Create a list of all model predictions\n",
        "    REC = []\n",
        "\n",
        "    # Second Try\n",
        "    REC.append(dt['large_rank'])\n",
        "    REC.append(dt['large_binary'])\n",
        "    REC.append(dt['small_rank'])\n",
        "    REC.append(dt['small_binary'])\n",
        "\n",
        "    #Create a dictionary of items recommended.\n",
        "    #Assign a weight according the order of appearance and multiply by global weights\n",
        "    res = {}\n",
        "    for M in range(len(REC)):\n",
        "        for n, v in enumerate(REC[M]):\n",
        "            if v in res:\n",
        "                res[v] += (W[M]/(n+1))\n",
        "            else:\n",
        "                res[v] = (W[M]/(n+1))\n",
        "\n",
        "    # Sort dictionary by item weights\n",
        "    res = list(dict(sorted(res.items(), key=lambda item: -item[1])).keys())\n",
        "\n",
        "    # Return the top 12 items only\n",
        "    return res[:12]"
      ],
      "metadata": {
        "id": "XGelzzCut2Kv"
      },
      "execution_count": null,
      "outputs": []
    },
    {
      "cell_type": "code",
      "source": [
        "pred['prediction'] = pred.progress_apply(cust_blend, W = [1.0, 1.3, 1.0, 1.3], axis=1) # , 1.0, 1.2"
      ],
      "metadata": {
        "id": "EHmEwVhyphil"
      },
      "execution_count": null,
      "outputs": []
    },
    {
      "cell_type": "code",
      "source": [
        "idx2uid = pickle.load(open(data_dir/\"index_id_map/user_index2id.pkl\", \"rb\"))\n",
        "idx2iid = pickle.load(open(data_dir/\"index_id_map/item_index2id.pkl\", \"rb\"))"
      ],
      "metadata": {
        "id": "2j8GWLt-phWx"
      },
      "execution_count": null,
      "outputs": []
    },
    {
      "cell_type": "code",
      "source": [
        "def parse(x):\n",
        "    l = ['0'+str(idx2iid[i]) for i in x]\n",
        "    l = ' '.join(l[:12])\n",
        "    return l"
      ],
      "metadata": {
        "id": "TC-P-z5CphHM"
      },
      "execution_count": null,
      "outputs": []
    },
    {
      "cell_type": "code",
      "source": [
        "pred['prediction'] = pred['prediction'].progress_apply(lambda x: parse(x))"
      ],
      "metadata": {
        "colab": {
          "base_uri": "https://localhost:8080/"
        },
        "id": "epa6fmsVrIMt",
        "outputId": "7c0f522e-f285-4e05-8dd1-5a8575c5df98"
      },
      "execution_count": null,
      "outputs": [
        {
          "output_type": "stream",
          "name": "stderr",
          "text": [
            "100%|██████████| 1371980/1371980 [00:28<00:00, 48095.38it/s] \n"
          ]
        }
      ]
    },
    {
      "cell_type": "code",
      "source": [
        "uid2idx = pickle.load(open(data_dir/\"index_id_map/user_id2index.pkl\", \"rb\"))\n",
        "submission = pd.read_csv(data_dir/\"raw\"/'sample_submission.csv')\n",
        "submission['customer_id'] = submission['customer_id'].map(uid2idx)"
      ],
      "metadata": {
        "id": "QMLK8QK4rTP3"
      },
      "execution_count": null,
      "outputs": []
    },
    {
      "cell_type": "code",
      "source": [
        "del submission['prediction']\n",
        "submission = submission.merge(pred, on='customer_id', how='left')\n",
        "submission['customer_id'] = submission['customer_id'].map(idx2uid)"
      ],
      "metadata": {
        "id": "oKm-hQXSrUon"
      },
      "execution_count": null,
      "outputs": []
    },
    {
      "cell_type": "code",
      "source": [
        "submission = submission[['customer_id', 'prediction']]"
      ],
      "metadata": {
        "id": "_93vacCqsU6r"
      },
      "execution_count": null,
      "outputs": []
    },
    {
      "cell_type": "code",
      "source": [
        "submission.to_csv('large_recall_binary.csv', index=False)"
      ],
      "metadata": {
        "id": "F-foFLIdrVqi"
      },
      "execution_count": null,
      "outputs": []
    },
    {
      "cell_type": "code",
      "source": [
        "submission.head()"
      ],
      "metadata": {
        "colab": {
          "base_uri": "https://localhost:8080/",
          "height": 206
        },
        "id": "tQLjEM-2t_WL",
        "outputId": "c09078fa-dee5-4be9-aa60-0b0d707f0649"
      },
      "execution_count": null,
      "outputs": [
        {
          "output_type": "execute_result",
          "data": {
            "text/plain": [
              "                                         customer_id  \\\n",
              "0  00000dbacae5abe5e23885899a1fa44253a17956c6d1c3...   \n",
              "1  0000423b00ade91418cceaf3b26c6af3dd342b51fd051e...   \n",
              "2  000058a12d5b43e67d225668fa1f8d618c13dc232df0ca...   \n",
              "3  00005ca1c9ed5f5146b52ac8639a40ca9d57aeff4d1bd2...   \n",
              "4  00006413d8573cd20ed7128e53b7b13819fe5cfc2d801f...   \n",
              "\n",
              "                                          prediction  \n",
              "0  0568601006 0568601043 0751471043 0751471001 07...  \n",
              "1  0448509014 0918292001 0762846027 0706016003 08...  \n",
              "2  0794321007 0486639003 0160442010 0918292001 08...  \n",
              "3  0918522001 0762846031 0762846027 0918292001 07...  \n",
              "4  0896152002 0730683050 0751471043 0896152001 08...  "
            ],
            "text/html": [
              "\n",
              "  <div id=\"df-8660b930-83aa-41fb-bfd8-8723ae100257\">\n",
              "    <div class=\"colab-df-container\">\n",
              "      <div>\n",
              "<style scoped>\n",
              "    .dataframe tbody tr th:only-of-type {\n",
              "        vertical-align: middle;\n",
              "    }\n",
              "\n",
              "    .dataframe tbody tr th {\n",
              "        vertical-align: top;\n",
              "    }\n",
              "\n",
              "    .dataframe thead th {\n",
              "        text-align: right;\n",
              "    }\n",
              "</style>\n",
              "<table border=\"1\" class=\"dataframe\">\n",
              "  <thead>\n",
              "    <tr style=\"text-align: right;\">\n",
              "      <th></th>\n",
              "      <th>customer_id</th>\n",
              "      <th>prediction</th>\n",
              "    </tr>\n",
              "  </thead>\n",
              "  <tbody>\n",
              "    <tr>\n",
              "      <th>0</th>\n",
              "      <td>00000dbacae5abe5e23885899a1fa44253a17956c6d1c3...</td>\n",
              "      <td>0568601006 0568601043 0751471043 0751471001 07...</td>\n",
              "    </tr>\n",
              "    <tr>\n",
              "      <th>1</th>\n",
              "      <td>0000423b00ade91418cceaf3b26c6af3dd342b51fd051e...</td>\n",
              "      <td>0448509014 0918292001 0762846027 0706016003 08...</td>\n",
              "    </tr>\n",
              "    <tr>\n",
              "      <th>2</th>\n",
              "      <td>000058a12d5b43e67d225668fa1f8d618c13dc232df0ca...</td>\n",
              "      <td>0794321007 0486639003 0160442010 0918292001 08...</td>\n",
              "    </tr>\n",
              "    <tr>\n",
              "      <th>3</th>\n",
              "      <td>00005ca1c9ed5f5146b52ac8639a40ca9d57aeff4d1bd2...</td>\n",
              "      <td>0918522001 0762846031 0762846027 0918292001 07...</td>\n",
              "    </tr>\n",
              "    <tr>\n",
              "      <th>4</th>\n",
              "      <td>00006413d8573cd20ed7128e53b7b13819fe5cfc2d801f...</td>\n",
              "      <td>0896152002 0730683050 0751471043 0896152001 08...</td>\n",
              "    </tr>\n",
              "  </tbody>\n",
              "</table>\n",
              "</div>\n",
              "      <button class=\"colab-df-convert\" onclick=\"convertToInteractive('df-8660b930-83aa-41fb-bfd8-8723ae100257')\"\n",
              "              title=\"Convert this dataframe to an interactive table.\"\n",
              "              style=\"display:none;\">\n",
              "        \n",
              "  <svg xmlns=\"http://www.w3.org/2000/svg\" height=\"24px\"viewBox=\"0 0 24 24\"\n",
              "       width=\"24px\">\n",
              "    <path d=\"M0 0h24v24H0V0z\" fill=\"none\"/>\n",
              "    <path d=\"M18.56 5.44l.94 2.06.94-2.06 2.06-.94-2.06-.94-.94-2.06-.94 2.06-2.06.94zm-11 1L8.5 8.5l.94-2.06 2.06-.94-2.06-.94L8.5 2.5l-.94 2.06-2.06.94zm10 10l.94 2.06.94-2.06 2.06-.94-2.06-.94-.94-2.06-.94 2.06-2.06.94z\"/><path d=\"M17.41 7.96l-1.37-1.37c-.4-.4-.92-.59-1.43-.59-.52 0-1.04.2-1.43.59L10.3 9.45l-7.72 7.72c-.78.78-.78 2.05 0 2.83L4 21.41c.39.39.9.59 1.41.59.51 0 1.02-.2 1.41-.59l7.78-7.78 2.81-2.81c.8-.78.8-2.07 0-2.86zM5.41 20L4 18.59l7.72-7.72 1.47 1.35L5.41 20z\"/>\n",
              "  </svg>\n",
              "      </button>\n",
              "      \n",
              "  <style>\n",
              "    .colab-df-container {\n",
              "      display:flex;\n",
              "      flex-wrap:wrap;\n",
              "      gap: 12px;\n",
              "    }\n",
              "\n",
              "    .colab-df-convert {\n",
              "      background-color: #E8F0FE;\n",
              "      border: none;\n",
              "      border-radius: 50%;\n",
              "      cursor: pointer;\n",
              "      display: none;\n",
              "      fill: #1967D2;\n",
              "      height: 32px;\n",
              "      padding: 0 0 0 0;\n",
              "      width: 32px;\n",
              "    }\n",
              "\n",
              "    .colab-df-convert:hover {\n",
              "      background-color: #E2EBFA;\n",
              "      box-shadow: 0px 1px 2px rgba(60, 64, 67, 0.3), 0px 1px 3px 1px rgba(60, 64, 67, 0.15);\n",
              "      fill: #174EA6;\n",
              "    }\n",
              "\n",
              "    [theme=dark] .colab-df-convert {\n",
              "      background-color: #3B4455;\n",
              "      fill: #D2E3FC;\n",
              "    }\n",
              "\n",
              "    [theme=dark] .colab-df-convert:hover {\n",
              "      background-color: #434B5C;\n",
              "      box-shadow: 0px 1px 3px 1px rgba(0, 0, 0, 0.15);\n",
              "      filter: drop-shadow(0px 1px 2px rgba(0, 0, 0, 0.3));\n",
              "      fill: #FFFFFF;\n",
              "    }\n",
              "  </style>\n",
              "\n",
              "      <script>\n",
              "        const buttonEl =\n",
              "          document.querySelector('#df-8660b930-83aa-41fb-bfd8-8723ae100257 button.colab-df-convert');\n",
              "        buttonEl.style.display =\n",
              "          google.colab.kernel.accessAllowed ? 'block' : 'none';\n",
              "\n",
              "        async function convertToInteractive(key) {\n",
              "          const element = document.querySelector('#df-8660b930-83aa-41fb-bfd8-8723ae100257');\n",
              "          const dataTable =\n",
              "            await google.colab.kernel.invokeFunction('convertToInteractive',\n",
              "                                                     [key], {});\n",
              "          if (!dataTable) return;\n",
              "\n",
              "          const docLinkHtml = 'Like what you see? Visit the ' +\n",
              "            '<a target=\"_blank\" href=https://colab.research.google.com/notebooks/data_table.ipynb>data table notebook</a>'\n",
              "            + ' to learn more about interactive tables.';\n",
              "          element.innerHTML = '';\n",
              "          dataTable['output_type'] = 'display_data';\n",
              "          await google.colab.output.renderOutput(dataTable, element);\n",
              "          const docLink = document.createElement('div');\n",
              "          docLink.innerHTML = docLinkHtml;\n",
              "          element.appendChild(docLink);\n",
              "        }\n",
              "      </script>\n",
              "    </div>\n",
              "  </div>\n",
              "  "
            ]
          },
          "metadata": {},
          "execution_count": 122
        }
      ]
    }
  ],
  "metadata": {
    "colab": {
      "collapsed_sections": [
        "LX4M190s4pxo",
        "jywhBCAGGGQS",
        "7g3Hs0VC0U4-"
      ],
      "machine_shape": "hm",
      "name": "gen_submit.ipynb",
      "provenance": []
    },
    "interpreter": {
      "hash": "eee4fdb9ca52ce5d5f0a2a1c2a1d0a4896d6b735579ddf3d9c0ee93e21b97ca8"
    },
    "kernelspec": {
      "display_name": "Python 3.7.11 ('handyrec')",
      "language": "python",
      "name": "python3"
    },
    "language_info": {
      "codemirror_mode": {
        "name": "ipython",
        "version": 3
      },
      "file_extension": ".py",
      "mimetype": "text/x-python",
      "name": "python",
      "nbconvert_exporter": "python",
      "pygments_lexer": "ipython3",
      "version": "3.7.11"
    }
  },
  "nbformat": 4,
  "nbformat_minor": 0
}